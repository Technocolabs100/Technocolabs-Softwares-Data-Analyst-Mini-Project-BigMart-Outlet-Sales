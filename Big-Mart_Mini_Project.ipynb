{
 "cells": [
  {
   "cell_type": "markdown",
   "id": "bdd6a842",
   "metadata": {},
   "source": [
    "# Importing Libraries"
   ]
  },
  {
   "cell_type": "code",
   "execution_count": 1,
   "id": "7aaf69f1",
   "metadata": {},
   "outputs": [],
   "source": [
    "import pandas as pd\n",
    "import matplotlib.pyplot as plt\n",
    "import numpy as np\n",
    "import seaborn as sns\n",
    "\n",
    "from sklearn.ensemble import RandomForestRegressor\n",
    "from sklearn.linear_model import LinearRegression, Ridge, Lasso\n",
    "from sklearn.metrics import mean_squared_error, r2_score\n",
    "from sklearn.model_selection import train_test_split\n",
    "from sklearn.pipeline import make_pipeline\n",
    "from sklearn.preprocessing import LabelEncoder, StandardScaler\n",
    "from sklearn.svm import SVR\n",
    "from sklearn.tree import DecisionTreeRegressor\n",
    "from xgboost import XGBRegressor"
   ]
  },
  {
   "cell_type": "markdown",
   "id": "cdfaaa57",
   "metadata": {},
   "source": [
    "# Loading data "
   ]
  },
  {
   "cell_type": "code",
   "execution_count": 2,
   "id": "7cc8ba34",
   "metadata": {},
   "outputs": [],
   "source": [
    "train = pd.read_csv('C:/Users/ankus/Downloads/9961_14084_bundle_archive/Train.csv')\n",
    "test_data = pd.read_csv('C:/Users/ankus/Downloads/9961_14084_bundle_archive/test.csv')"
   ]
  },
  {
   "cell_type": "markdown",
   "id": "0f77e19a",
   "metadata": {},
   "source": [
    "# Know your Data"
   ]
  },
  {
   "cell_type": "code",
   "execution_count": 3,
   "id": "c44fee25",
   "metadata": {},
   "outputs": [
    {
     "data": {
      "text/plain": [
       "(8523, 12)"
      ]
     },
     "execution_count": 3,
     "metadata": {},
     "output_type": "execute_result"
    }
   ],
   "source": [
    "train.shape"
   ]
  },
  {
   "cell_type": "code",
   "execution_count": 4,
   "id": "ce654426",
   "metadata": {},
   "outputs": [
    {
     "ename": "NameError",
     "evalue": "name 'test' is not defined",
     "output_type": "error",
     "traceback": [
      "\u001b[1;31m---------------------------------------------------------------------------\u001b[0m",
      "\u001b[1;31mNameError\u001b[0m                                 Traceback (most recent call last)",
      "\u001b[1;32m~\\AppData\\Local\\Temp\\ipykernel_11904\\1018891227.py\u001b[0m in \u001b[0;36m<module>\u001b[1;34m\u001b[0m\n\u001b[1;32m----> 1\u001b[1;33m \u001b[0mtest\u001b[0m\u001b[1;33m.\u001b[0m\u001b[0mshape\u001b[0m\u001b[1;33m\u001b[0m\u001b[1;33m\u001b[0m\u001b[0m\n\u001b[0m",
      "\u001b[1;31mNameError\u001b[0m: name 'test' is not defined"
     ]
    }
   ],
   "source": [
    "test.shape"
   ]
  },
  {
   "cell_type": "code",
   "execution_count": null,
   "id": "8440ade2",
   "metadata": {},
   "outputs": [],
   "source": [
    "train.info()"
   ]
  },
  {
   "cell_type": "code",
   "execution_count": null,
   "id": "d8364db5",
   "metadata": {},
   "outputs": [],
   "source": [
    "train.describe(include='all')"
   ]
  },
  {
   "cell_type": "code",
   "execution_count": null,
   "id": "d0f4c329",
   "metadata": {},
   "outputs": [],
   "source": [
    "train.head()"
   ]
  },
  {
   "cell_type": "markdown",
   "id": "8d8b65b7",
   "metadata": {},
   "source": [
    "# Finding Missing Values"
   ]
  },
  {
   "cell_type": "code",
   "execution_count": null,
   "id": "9aa2eed5",
   "metadata": {
    "scrolled": true
   },
   "outputs": [],
   "source": [
    "train.isnull().sum()"
   ]
  },
  {
   "cell_type": "code",
   "execution_count": null,
   "id": "19851ed8",
   "metadata": {},
   "outputs": [],
   "source": [
    "train.duplicated().sum()"
   ]
  },
  {
   "cell_type": "code",
   "execution_count": null,
   "id": "e5c41e34",
   "metadata": {},
   "outputs": [],
   "source": [
    "train.apply(lambda x : len(x.unique()))"
   ]
  },
  {
   "cell_type": "markdown",
   "id": "a9289ad4",
   "metadata": {},
   "source": [
    "# Numerical and Categorical Variables"
   ]
  },
  {
   "cell_type": "code",
   "execution_count": null,
   "id": "91d44b10",
   "metadata": {},
   "outputs": [],
   "source": [
    "cat_col = train.select_dtypes(exclude='number').columns.to_list()\n",
    "num_col = train.select_dtypes(include='number').columns.to_list()\n",
    "print(cat_col,'\\n')\n",
    "print(num_col)"
   ]
  },
  {
   "cell_type": "code",
   "execution_count": null,
   "id": "ff95cc07",
   "metadata": {},
   "outputs": [],
   "source": [
    "for col in cat_col:\n",
    "    print('===========================')\n",
    "    print('Series:','   ',col)\n",
    "    print('===========================')\n",
    "    print(train[col].value_counts())\n",
    "    print('\\n')"
   ]
  },
  {
   "cell_type": "markdown",
   "id": "f60f4812",
   "metadata": {},
   "source": [
    "# Missing Values Treatment"
   ]
  },
  {
   "cell_type": "code",
   "execution_count": null,
   "id": "41194f68",
   "metadata": {},
   "outputs": [],
   "source": [
    "clean_data = train.copy()"
   ]
  },
  {
   "cell_type": "code",
   "execution_count": null,
   "id": "3f8b821c",
   "metadata": {},
   "outputs": [],
   "source": [
    "# format column names to be lower-case\n",
    "new_col_names = [col.lower() for col in clean_data.columns]\n",
    "clean_data.columns = new_col_names\n",
    "\n",
    "print(clean_data.columns)"
   ]
  },
  {
   "cell_type": "code",
   "execution_count": null,
   "id": "294721c8",
   "metadata": {},
   "outputs": [],
   "source": [
    "clean_data['item_weight'].fillna(clean_data['item_weight'].mean(),inplace=True)\n",
    "clean_data.isnull().sum()"
   ]
  },
  {
   "cell_type": "code",
   "execution_count": null,
   "id": "b3984cb4",
   "metadata": {},
   "outputs": [],
   "source": [
    "outlet_size_mode_pt = clean_data.pivot_table(values='outlet_size',columns='outlet_type',aggfunc=lambda x: x.mode())\n",
    "outlet_size_mode_pt"
   ]
  },
  {
   "cell_type": "code",
   "execution_count": null,
   "id": "98602b79",
   "metadata": {},
   "outputs": [],
   "source": [
    "missing_values = clean_data['outlet_size'].isnull()"
   ]
  },
  {
   "cell_type": "code",
   "execution_count": null,
   "id": "40c32ba8",
   "metadata": {},
   "outputs": [],
   "source": [
    "clean_data.loc[missing_values, 'outlet_size'] = clean_data.loc[missing_values, 'outlet_type'].apply(lambda x: outlet_size_mode_pt[x].outlet_size)"
   ]
  },
  {
   "cell_type": "code",
   "execution_count": null,
   "id": "49ecaa99",
   "metadata": {},
   "outputs": [],
   "source": [
    "clean_data.isnull().sum()"
   ]
  },
  {
   "cell_type": "code",
   "execution_count": null,
   "id": "c201786a",
   "metadata": {},
   "outputs": [],
   "source": [
    "print(sum(clean_data['item_visibility'])==0)"
   ]
  },
  {
   "cell_type": "code",
   "execution_count": null,
   "id": "8db9dfab",
   "metadata": {},
   "outputs": [],
   "source": [
    "clean_data['item_fat_content'].unique()"
   ]
  },
  {
   "cell_type": "code",
   "execution_count": null,
   "id": "cc0a5e75",
   "metadata": {},
   "outputs": [],
   "source": [
    "clean_data['item_fat_content'].replace({'low fat':'Low Fat','reg':'Regular','LF':'Low Fat'},inplace=True)"
   ]
  },
  {
   "cell_type": "code",
   "execution_count": null,
   "id": "bc190db2",
   "metadata": {},
   "outputs": [],
   "source": [
    "clean_data['item_fat_content'].value_counts()"
   ]
  },
  {
   "cell_type": "code",
   "execution_count": null,
   "id": "dd2cb412",
   "metadata": {},
   "outputs": [],
   "source": [
    "clean_data['item_category'] = clean_data['item_identifier'].apply(lambda x: x[:2])\n",
    "clean_data['item_category'] = clean_data['item_category'].replace({'FD':'Food', 'DR':'Drink', 'NC':'Non-Consumable'})\n",
    "clean_data['item_category'].value_counts()"
   ]
  },
  {
   "cell_type": "code",
   "execution_count": null,
   "id": "459afb96",
   "metadata": {},
   "outputs": [],
   "source": [
    "clean_data['item_category'].head(5)"
   ]
  },
  {
   "cell_type": "code",
   "execution_count": null,
   "id": "a5832545",
   "metadata": {},
   "outputs": [],
   "source": [
    "clean_data['outlet_age'] = 2013 - clean_data['outlet_establishment_year']\n",
    "clean_data['outlet_age']"
   ]
  },
  {
   "cell_type": "code",
   "execution_count": null,
   "id": "7ecbe7ae",
   "metadata": {},
   "outputs": [],
   "source": [
    "clean_data.head()"
   ]
  },
  {
   "cell_type": "code",
   "execution_count": null,
   "id": "3b78dab9",
   "metadata": {},
   "outputs": [],
   "source": [
    "clean_data.hist(figsize=(10,10))"
   ]
  },
  {
   "cell_type": "code",
   "execution_count": null,
   "id": "fea91b0c",
   "metadata": {},
   "outputs": [],
   "source": [
    "plt.figure(figsize=(5,5))\n",
    "sns.countplot(x='item_fat_content', data=clean_data)\n",
    "plt.show()"
   ]
  },
  {
   "cell_type": "code",
   "execution_count": null,
   "id": "c4e87fd0",
   "metadata": {},
   "outputs": [],
   "source": [
    "labels = list(clean_data['item_type'].unique())\n",
    "chart = sns.countplot(x=clean_data['item_type'])\n",
    "chart.set_xticklabels(labels=labels, rotation=90)"
   ]
  },
  {
   "cell_type": "code",
   "execution_count": null,
   "id": "aab30f7a",
   "metadata": {},
   "outputs": [],
   "source": [
    "# plot outlet_identifier\n",
    "labels = list(clean_data['outlet_identifier'].unique())\n",
    "chart = sns.countplot(x=clean_data['outlet_identifier'])\n",
    "chart.set_xticklabels(labels=labels, rotation=90)"
   ]
  },
  {
   "cell_type": "code",
   "execution_count": null,
   "id": "2ed950fe",
   "metadata": {},
   "outputs": [],
   "source": [
    "# plot outlet_size\n",
    "plt.figure(figsize=(5,5))\n",
    "sns.countplot(x='outlet_size', data=clean_data)\n",
    "plt.show()"
   ]
  },
  {
   "cell_type": "code",
   "execution_count": null,
   "id": "d3594296",
   "metadata": {},
   "outputs": [],
   "source": [
    "# plot outlet_location_type\n",
    "plt.figure(figsize=(5,5))\n",
    "sns.countplot(x='outlet_location_type', data=clean_data)\n",
    "plt.show()"
   ]
  },
  {
   "cell_type": "code",
   "execution_count": null,
   "id": "37b16cdd",
   "metadata": {},
   "outputs": [],
   "source": [
    "# plot item_category\n",
    "plt.figure(figsize=(5,5))\n",
    "sns.countplot(x='item_category', data=clean_data)\n",
    "plt.show()"
   ]
  },
  {
   "cell_type": "code",
   "execution_count": null,
   "id": "9ac26a60",
   "metadata": {},
   "outputs": [],
   "source": [
    "# outlet_establishment_year column count\n",
    "plt.figure(figsize=(6,6))\n",
    "sns.countplot(x='outlet_establishment_year', data=clean_data)\n",
    "plt.show()"
   ]
  },
  {
   "cell_type": "code",
   "execution_count": null,
   "id": "bc5afc33",
   "metadata": {},
   "outputs": [],
   "source": [
    "# correlation with the target column\n",
    "corr_matrix = clean_data.corr()\n",
    "corr_matrix['item_outlet_sales'].sort_values(ascending=False)"
   ]
  },
  {
   "cell_type": "code",
   "execution_count": null,
   "id": "6e45abba",
   "metadata": {},
   "outputs": [],
   "source": [
    "# plot correlations\n",
    "sns.heatmap(corr_matrix, annot=True, cmap='coolwarm')"
   ]
  },
  {
   "cell_type": "code",
   "execution_count": null,
   "id": "f73f4f08",
   "metadata": {},
   "outputs": [],
   "source": [
    "# scatter plot of item_mrp and item_outlet_sales\n",
    "sns.scatterplot(data=clean_data, x='item_mrp', y='item_outlet_sales')"
   ]
  },
  {
   "cell_type": "markdown",
   "id": "d9549f64",
   "metadata": {},
   "source": [
    "# Data Pre-processing"
   ]
  },
  {
   "cell_type": "markdown",
   "id": "f4b5881d",
   "metadata": {},
   "source": [
    "### Label encoding"
   ]
  },
  {
   "cell_type": "code",
   "execution_count": null,
   "id": "bbf0e17a",
   "metadata": {},
   "outputs": [],
   "source": [
    "clean_data.head()"
   ]
  },
  {
   "cell_type": "code",
   "execution_count": null,
   "id": "a11b0020",
   "metadata": {},
   "outputs": [],
   "source": [
    "# applying label encoding to some features\n",
    "encoder = LabelEncoder()\n",
    "\n",
    "cols_to_encode = ['item_identifier', 'item_type', 'outlet_identifier']\n",
    "\n",
    "for col in cols_to_encode:\n",
    "    clean_data[col] = encoder.fit_transform(clean_data[col])"
   ]
  },
  {
   "cell_type": "code",
   "execution_count": null,
   "id": "9f6f9c3f",
   "metadata": {},
   "outputs": [],
   "source": [
    "# applying one-hot encoding to some features\n",
    "clean_data = pd.get_dummies(clean_data, columns=['item_fat_content', 'outlet_size', 'outlet_location_type', 'outlet_type', 'item_category'])"
   ]
  },
  {
   "cell_type": "code",
   "execution_count": null,
   "id": "44180b61",
   "metadata": {},
   "outputs": [],
   "source": [
    "# how the data looks like\n",
    "clean_data.head()"
   ]
  },
  {
   "cell_type": "markdown",
   "id": "6ea0ff13",
   "metadata": {},
   "source": [
    "# Defining The Input Data"
   ]
  },
  {
   "cell_type": "code",
   "execution_count": null,
   "id": "27cc2612",
   "metadata": {},
   "outputs": [],
   "source": [
    "# setting model input and target variables\n",
    "X = clean_data.drop(columns=['outlet_establishment_year', 'item_outlet_sales'])\n",
    "y = clean_data['item_outlet_sales']"
   ]
  },
  {
   "cell_type": "code",
   "execution_count": null,
   "id": "e6bc1588",
   "metadata": {},
   "outputs": [],
   "source": [
    "# df to store model error and scores\n",
    "model_scores = pd.DataFrame(columns=['model', 'rmse', 'r2_score'])"
   ]
  },
  {
   "cell_type": "code",
   "execution_count": null,
   "id": "8c70559b",
   "metadata": {},
   "outputs": [],
   "source": [
    "def train_and_evaluate_model(model_name, model, X, y):\n",
    "    '''\n",
    "    Create a training pipeline to scale and train the model\n",
    "    using the input data, then evaluate the model and safe its error\n",
    "    and score in the scores dataframe.\n",
    "    '''\n",
    "    # split the data\n",
    "    X_train, X_validate, y_train, y_validate = train_test_split(X, y, test_size=0.2, random_state=42)\n",
    "    \n",
    "    # create a training pipeline\n",
    "    pipeline = make_pipeline(StandardScaler(), model)\n",
    "    \n",
    "    # apply scaling on training data and train the model\n",
    "    pipeline.fit(X_train, y_train)\n",
    "    \n",
    "    # predict the validation set\n",
    "    y_hat = pipeline.predict(X_validate)\n",
    "    \n",
    "    # evaluate the model\n",
    "    rmse = np.sqrt(mean_squared_error(y_validate, y_hat))\n",
    "    model_score = r2_score(y_validate, y_hat)\n",
    "    \n",
    "    # adding error and score, to the scores datafrane\n",
    "    model_scores.loc[len(model_scores)] = [model_name, rmse, model_score]\n",
    "    \n",
    "    print('----------------------------------')\n",
    "    print(model_name, ' Report:')\n",
    "    print('----------------------------------')\n",
    "    print('RMSE: ', rmse)\n",
    "    print('R2 Score: ', model_score)"
   ]
  },
  {
   "cell_type": "markdown",
   "id": "3f76d3cb",
   "metadata": {},
   "source": [
    "# Linear Regression"
   ]
  },
  {
   "cell_type": "code",
   "execution_count": null,
   "id": "bcc6c6bf",
   "metadata": {},
   "outputs": [],
   "source": [
    "# linear regression\n",
    "linear_regression_model = LinearRegression()\n",
    "train_and_evaluate_model('Linear Regression', linear_regression_model, X, y)"
   ]
  },
  {
   "cell_type": "markdown",
   "id": "408e6450",
   "metadata": {},
   "source": [
    "# Ridge Regularization"
   ]
  },
  {
   "cell_type": "code",
   "execution_count": null,
   "id": "5fbf7fa3",
   "metadata": {},
   "outputs": [],
   "source": [
    "ridge_model = Ridge()\n",
    "train_and_evaluate_model('Ridge', ridge_model, X, y)"
   ]
  },
  {
   "cell_type": "markdown",
   "id": "de14ac56",
   "metadata": {},
   "source": [
    "# Lasso Regularization"
   ]
  },
  {
   "cell_type": "code",
   "execution_count": null,
   "id": "cf2e4758",
   "metadata": {},
   "outputs": [],
   "source": [
    "lasso_model = Lasso()\n",
    "train_and_evaluate_model('Lasso', lasso_model, X, y)"
   ]
  },
  {
   "cell_type": "markdown",
   "id": "ffc429de",
   "metadata": {},
   "source": [
    "# SVM "
   ]
  },
  {
   "cell_type": "code",
   "execution_count": null,
   "id": "e9a22fae",
   "metadata": {},
   "outputs": [],
   "source": [
    "svr_model = SVR()\n",
    "train_and_evaluate_model('SVM', svr_model, X, y)"
   ]
  },
  {
   "cell_type": "markdown",
   "id": "fb5a7951",
   "metadata": {},
   "source": [
    "# Decision Tree"
   ]
  },
  {
   "cell_type": "code",
   "execution_count": null,
   "id": "5ab331a1",
   "metadata": {},
   "outputs": [],
   "source": [
    "dtr_model = DecisionTreeRegressor()\n",
    "train_and_evaluate_model('Decision Tree', dtr_model, X, y)"
   ]
  },
  {
   "cell_type": "markdown",
   "id": "43f8587e",
   "metadata": {},
   "source": [
    "# Random Forest"
   ]
  },
  {
   "cell_type": "code",
   "execution_count": null,
   "id": "e9c6c119",
   "metadata": {},
   "outputs": [],
   "source": [
    "rfr_model = RandomForestRegressor()\n",
    "train_and_evaluate_model('Random Forest', rfr_model, X, y)"
   ]
  },
  {
   "cell_type": "markdown",
   "id": "d1f44a5b",
   "metadata": {},
   "source": [
    "# XGBoost"
   ]
  },
  {
   "cell_type": "code",
   "execution_count": null,
   "id": "ed437668",
   "metadata": {},
   "outputs": [],
   "source": [
    "xgbr_model = XGBRegressor()\n",
    "train_and_evaluate_model('XGBoost', xgbr_model, X, y)"
   ]
  },
  {
   "cell_type": "markdown",
   "id": "3e322e1f",
   "metadata": {},
   "source": [
    "# Summary"
   ]
  },
  {
   "cell_type": "code",
   "execution_count": null,
   "id": "7d1b42a5",
   "metadata": {},
   "outputs": [],
   "source": [
    "model_scores"
   ]
  },
  {
   "cell_type": "code",
   "execution_count": null,
   "id": "e57b8121",
   "metadata": {},
   "outputs": [],
   "source": []
  }
 ],
 "metadata": {
  "kernelspec": {
   "display_name": "Python 3 (ipykernel)",
   "language": "python",
   "name": "python3"
  },
  "language_info": {
   "codemirror_mode": {
    "name": "ipython",
    "version": 3
   },
   "file_extension": ".py",
   "mimetype": "text/x-python",
   "name": "python",
   "nbconvert_exporter": "python",
   "pygments_lexer": "ipython3",
   "version": "3.9.13"
  }
 },
 "nbformat": 4,
 "nbformat_minor": 5
}
