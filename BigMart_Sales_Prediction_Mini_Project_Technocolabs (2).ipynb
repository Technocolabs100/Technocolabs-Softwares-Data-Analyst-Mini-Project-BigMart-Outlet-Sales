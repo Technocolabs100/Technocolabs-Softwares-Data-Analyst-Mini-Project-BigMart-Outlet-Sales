{
 "cells": [
  {
   "cell_type": "markdown",
   "id": "daab3f8e",
   "metadata": {
    "papermill": {
     "duration": 0.017666,
     "end_time": "2023-01-12T04:39:32.678581",
     "exception": false,
     "start_time": "2023-01-12T04:39:32.660915",
     "status": "completed"
    },
    "tags": []
   },
   "source": [
    "# **3. Import Dependencies**"
   ]
  },
  {
   "cell_type": "code",
   "execution_count": 2,
   "id": "cba42e0e",
   "metadata": {
    "execution": {
     "iopub.execute_input": "2023-01-12T04:39:32.717617Z",
     "iopub.status.busy": "2023-01-12T04:39:32.717217Z",
     "iopub.status.idle": "2023-01-12T04:39:34.539407Z",
     "shell.execute_reply": "2023-01-12T04:39:34.537917Z"
    },
    "papermill": {
     "duration": 1.845732,
     "end_time": "2023-01-12T04:39:34.542405",
     "exception": false,
     "start_time": "2023-01-12T04:39:32.696673",
     "status": "completed"
    },
    "tags": []
   },
   "outputs": [],
   "source": [
    "import matplotlib.pyplot as plt\n",
    "import numpy as np\n",
    "import pandas as pd\n",
    "import seaborn as sns\n",
    "\n",
    "from sklearn.ensemble import RandomForestRegressor\n",
    "from sklearn.linear_model import LinearRegression, Ridge, Lasso\n",
    "from sklearn.metrics import mean_squared_error, r2_score\n",
    "from sklearn.model_selection import train_test_split\n",
    "from sklearn.pipeline import make_pipeline\n",
    "from sklearn.preprocessing import LabelEncoder, StandardScaler\n",
    "from sklearn.svm import SVR\n",
    "from sklearn.tree import DecisionTreeRegressor\n",
    "from xgboost import XGBRegressor\n",
    "\n",
    "sns.set()"
   ]
  },
  {
   "cell_type": "markdown",
   "id": "02c9f19a",
   "metadata": {
    "papermill": {
     "duration": 0.017541,
     "end_time": "2023-01-12T04:39:34.578023",
     "exception": false,
     "start_time": "2023-01-12T04:39:34.560482",
     "status": "completed"
    },
    "tags": []
   },
   "source": [
    "# **4. Getting The Data**"
   ]
  },
  {
   "cell_type": "code",
   "execution_count": 3,
   "id": "0e5fcd40",
   "metadata": {
    "execution": {
     "iopub.execute_input": "2023-01-12T04:39:34.616678Z",
     "iopub.status.busy": "2023-01-12T04:39:34.616265Z",
     "iopub.status.idle": "2023-01-12T04:39:34.679652Z",
     "shell.execute_reply": "2023-01-12T04:39:34.678574Z"
    },
    "papermill": {
     "duration": 0.085838,
     "end_time": "2023-01-12T04:39:34.682341",
     "exception": false,
     "start_time": "2023-01-12T04:39:34.596503",
     "status": "completed"
    },
    "tags": []
   },
   "outputs": [],
   "source": [
    "# load the data\n",
    "raw_data = pd.read_csv('/kaggle/input/big-mart-sales-prediction-datasets/train.csv')"
   ]
  },
  {
   "cell_type": "markdown",
   "id": "53251cfa",
   "metadata": {
    "papermill": {
     "duration": 0.01783,
     "end_time": "2023-01-12T04:39:34.719001",
     "exception": false,
     "start_time": "2023-01-12T04:39:34.701171",
     "status": "completed"
    },
    "tags": []
   },
   "source": [
    "# **5. Exploring The Data To Gain Insights**"
   ]
  },
  {
   "cell_type": "code",
   "execution_count": 4,
   "id": "aed059be",
   "metadata": {
    "execution": {
     "iopub.execute_input": "2023-01-12T04:39:34.757695Z",
     "iopub.status.busy": "2023-01-12T04:39:34.756733Z",
     "iopub.status.idle": "2023-01-12T04:39:34.766090Z",
     "shell.execute_reply": "2023-01-12T04:39:34.765032Z"
    },
    "papermill": {
     "duration": 0.031841,
     "end_time": "2023-01-12T04:39:34.768824",
     "exception": false,
     "start_time": "2023-01-12T04:39:34.736983",
     "status": "completed"
    },
    "tags": []
   },
   "outputs": [
    {
     "data": {
      "text/plain": [
       "(8523, 12)"
      ]
     },
     "execution_count": 4,
     "metadata": {},
     "output_type": "execute_result"
    }
   ],
   "source": [
    "# number of datapoints and features\n",
    "raw_data.shape"
   ]
  },
  {
   "cell_type": "code",
   "execution_count": 5,
   "id": "0def7da6",
   "metadata": {
    "execution": {
     "iopub.execute_input": "2023-01-12T04:39:34.807426Z",
     "iopub.status.busy": "2023-01-12T04:39:34.806525Z",
     "iopub.status.idle": "2023-01-12T04:39:34.833370Z",
     "shell.execute_reply": "2023-01-12T04:39:34.831621Z"
    },
    "papermill": {
     "duration": 0.048777,
     "end_time": "2023-01-12T04:39:34.835743",
     "exception": false,
     "start_time": "2023-01-12T04:39:34.786966",
     "status": "completed"
    },
    "tags": []
   },
   "outputs": [
    {
     "data": {
      "text/html": [
       "<div>\n",
       "<style scoped>\n",
       "    .dataframe tbody tr th:only-of-type {\n",
       "        vertical-align: middle;\n",
       "    }\n",
       "\n",
       "    .dataframe tbody tr th {\n",
       "        vertical-align: top;\n",
       "    }\n",
       "\n",
       "    .dataframe thead th {\n",
       "        text-align: right;\n",
       "    }\n",
       "</style>\n",
       "<table border=\"1\" class=\"dataframe\">\n",
       "  <thead>\n",
       "    <tr style=\"text-align: right;\">\n",
       "      <th></th>\n",
       "      <th>Item_Identifier</th>\n",
       "      <th>Item_Weight</th>\n",
       "      <th>Item_Fat_Content</th>\n",
       "      <th>Item_Visibility</th>\n",
       "      <th>Item_Type</th>\n",
       "      <th>Item_MRP</th>\n",
       "      <th>Outlet_Identifier</th>\n",
       "      <th>Outlet_Establishment_Year</th>\n",
       "      <th>Outlet_Size</th>\n",
       "      <th>Outlet_Location_Type</th>\n",
       "      <th>Outlet_Type</th>\n",
       "      <th>Item_Outlet_Sales</th>\n",
       "    </tr>\n",
       "  </thead>\n",
       "  <tbody>\n",
       "    <tr>\n",
       "      <th>0</th>\n",
       "      <td>FDA15</td>\n",
       "      <td>9.30</td>\n",
       "      <td>Low Fat</td>\n",
       "      <td>0.016047</td>\n",
       "      <td>Dairy</td>\n",
       "      <td>249.8092</td>\n",
       "      <td>OUT049</td>\n",
       "      <td>1999</td>\n",
       "      <td>Medium</td>\n",
       "      <td>Tier 1</td>\n",
       "      <td>Supermarket Type1</td>\n",
       "      <td>3735.1380</td>\n",
       "    </tr>\n",
       "    <tr>\n",
       "      <th>1</th>\n",
       "      <td>DRC01</td>\n",
       "      <td>5.92</td>\n",
       "      <td>Regular</td>\n",
       "      <td>0.019278</td>\n",
       "      <td>Soft Drinks</td>\n",
       "      <td>48.2692</td>\n",
       "      <td>OUT018</td>\n",
       "      <td>2009</td>\n",
       "      <td>Medium</td>\n",
       "      <td>Tier 3</td>\n",
       "      <td>Supermarket Type2</td>\n",
       "      <td>443.4228</td>\n",
       "    </tr>\n",
       "    <tr>\n",
       "      <th>2</th>\n",
       "      <td>FDN15</td>\n",
       "      <td>17.50</td>\n",
       "      <td>Low Fat</td>\n",
       "      <td>0.016760</td>\n",
       "      <td>Meat</td>\n",
       "      <td>141.6180</td>\n",
       "      <td>OUT049</td>\n",
       "      <td>1999</td>\n",
       "      <td>Medium</td>\n",
       "      <td>Tier 1</td>\n",
       "      <td>Supermarket Type1</td>\n",
       "      <td>2097.2700</td>\n",
       "    </tr>\n",
       "    <tr>\n",
       "      <th>3</th>\n",
       "      <td>FDX07</td>\n",
       "      <td>19.20</td>\n",
       "      <td>Regular</td>\n",
       "      <td>0.000000</td>\n",
       "      <td>Fruits and Vegetables</td>\n",
       "      <td>182.0950</td>\n",
       "      <td>OUT010</td>\n",
       "      <td>1998</td>\n",
       "      <td>NaN</td>\n",
       "      <td>Tier 3</td>\n",
       "      <td>Grocery Store</td>\n",
       "      <td>732.3800</td>\n",
       "    </tr>\n",
       "    <tr>\n",
       "      <th>4</th>\n",
       "      <td>NCD19</td>\n",
       "      <td>8.93</td>\n",
       "      <td>Low Fat</td>\n",
       "      <td>0.000000</td>\n",
       "      <td>Household</td>\n",
       "      <td>53.8614</td>\n",
       "      <td>OUT013</td>\n",
       "      <td>1987</td>\n",
       "      <td>High</td>\n",
       "      <td>Tier 3</td>\n",
       "      <td>Supermarket Type1</td>\n",
       "      <td>994.7052</td>\n",
       "    </tr>\n",
       "  </tbody>\n",
       "</table>\n",
       "</div>"
      ],
      "text/plain": [
       "  Item_Identifier  Item_Weight Item_Fat_Content  Item_Visibility  \\\n",
       "0           FDA15         9.30          Low Fat         0.016047   \n",
       "1           DRC01         5.92          Regular         0.019278   \n",
       "2           FDN15        17.50          Low Fat         0.016760   \n",
       "3           FDX07        19.20          Regular         0.000000   \n",
       "4           NCD19         8.93          Low Fat         0.000000   \n",
       "\n",
       "               Item_Type  Item_MRP Outlet_Identifier  \\\n",
       "0                  Dairy  249.8092            OUT049   \n",
       "1            Soft Drinks   48.2692            OUT018   \n",
       "2                   Meat  141.6180            OUT049   \n",
       "3  Fruits and Vegetables  182.0950            OUT010   \n",
       "4              Household   53.8614            OUT013   \n",
       "\n",
       "   Outlet_Establishment_Year Outlet_Size Outlet_Location_Type  \\\n",
       "0                       1999      Medium               Tier 1   \n",
       "1                       2009      Medium               Tier 3   \n",
       "2                       1999      Medium               Tier 1   \n",
       "3                       1998         NaN               Tier 3   \n",
       "4                       1987        High               Tier 3   \n",
       "\n",
       "         Outlet_Type  Item_Outlet_Sales  \n",
       "0  Supermarket Type1          3735.1380  \n",
       "1  Supermarket Type2           443.4228  \n",
       "2  Supermarket Type1          2097.2700  \n",
       "3      Grocery Store           732.3800  \n",
       "4  Supermarket Type1           994.7052  "
      ]
     },
     "execution_count": 5,
     "metadata": {},
     "output_type": "execute_result"
    }
   ],
   "source": [
    "# how the data looks like\n",
    "raw_data.head()"
   ]
  },
  {
   "cell_type": "code",
   "execution_count": 6,
   "id": "3531ccae",
   "metadata": {
    "execution": {
     "iopub.execute_input": "2023-01-12T04:39:34.875581Z",
     "iopub.status.busy": "2023-01-12T04:39:34.874369Z",
     "iopub.status.idle": "2023-01-12T04:39:34.905537Z",
     "shell.execute_reply": "2023-01-12T04:39:34.903423Z"
    },
    "papermill": {
     "duration": 0.055241,
     "end_time": "2023-01-12T04:39:34.909544",
     "exception": false,
     "start_time": "2023-01-12T04:39:34.854303",
     "status": "completed"
    },
    "tags": []
   },
   "outputs": [
    {
     "name": "stdout",
     "output_type": "stream",
     "text": [
      "<class 'pandas.core.frame.DataFrame'>\n",
      "RangeIndex: 8523 entries, 0 to 8522\n",
      "Data columns (total 12 columns):\n",
      " #   Column                     Non-Null Count  Dtype  \n",
      "---  ------                     --------------  -----  \n",
      " 0   Item_Identifier            8523 non-null   object \n",
      " 1   Item_Weight                7060 non-null   float64\n",
      " 2   Item_Fat_Content           8523 non-null   object \n",
      " 3   Item_Visibility            8523 non-null   float64\n",
      " 4   Item_Type                  8523 non-null   object \n",
      " 5   Item_MRP                   8523 non-null   float64\n",
      " 6   Outlet_Identifier          8523 non-null   object \n",
      " 7   Outlet_Establishment_Year  8523 non-null   int64  \n",
      " 8   Outlet_Size                6113 non-null   object \n",
      " 9   Outlet_Location_Type       8523 non-null   object \n",
      " 10  Outlet_Type                8523 non-null   object \n",
      " 11  Item_Outlet_Sales          8523 non-null   float64\n",
      "dtypes: float64(4), int64(1), object(7)\n",
      "memory usage: 799.2+ KB\n"
     ]
    }
   ],
   "source": [
    "# check general info and dtypes\n",
    "raw_data.info()"
   ]
  },
  {
   "cell_type": "code",
   "execution_count": 7,
   "id": "1d8d5b5e",
   "metadata": {
    "execution": {
     "iopub.execute_input": "2023-01-12T04:39:34.950050Z",
     "iopub.status.busy": "2023-01-12T04:39:34.949629Z",
     "iopub.status.idle": "2023-01-12T04:39:35.007016Z",
     "shell.execute_reply": "2023-01-12T04:39:35.005760Z"
    },
    "papermill": {
     "duration": 0.080627,
     "end_time": "2023-01-12T04:39:35.009757",
     "exception": false,
     "start_time": "2023-01-12T04:39:34.929130",
     "status": "completed"
    },
    "tags": []
   },
   "outputs": [
    {
     "data": {
      "text/html": [
       "<div>\n",
       "<style scoped>\n",
       "    .dataframe tbody tr th:only-of-type {\n",
       "        vertical-align: middle;\n",
       "    }\n",
       "\n",
       "    .dataframe tbody tr th {\n",
       "        vertical-align: top;\n",
       "    }\n",
       "\n",
       "    .dataframe thead th {\n",
       "        text-align: right;\n",
       "    }\n",
       "</style>\n",
       "<table border=\"1\" class=\"dataframe\">\n",
       "  <thead>\n",
       "    <tr style=\"text-align: right;\">\n",
       "      <th></th>\n",
       "      <th>Item_Identifier</th>\n",
       "      <th>Item_Weight</th>\n",
       "      <th>Item_Fat_Content</th>\n",
       "      <th>Item_Visibility</th>\n",
       "      <th>Item_Type</th>\n",
       "      <th>Item_MRP</th>\n",
       "      <th>Outlet_Identifier</th>\n",
       "      <th>Outlet_Establishment_Year</th>\n",
       "      <th>Outlet_Size</th>\n",
       "      <th>Outlet_Location_Type</th>\n",
       "      <th>Outlet_Type</th>\n",
       "      <th>Item_Outlet_Sales</th>\n",
       "    </tr>\n",
       "  </thead>\n",
       "  <tbody>\n",
       "    <tr>\n",
       "      <th>count</th>\n",
       "      <td>8523</td>\n",
       "      <td>7060.000000</td>\n",
       "      <td>8523</td>\n",
       "      <td>8523.000000</td>\n",
       "      <td>8523</td>\n",
       "      <td>8523.000000</td>\n",
       "      <td>8523</td>\n",
       "      <td>8523.000000</td>\n",
       "      <td>6113</td>\n",
       "      <td>8523</td>\n",
       "      <td>8523</td>\n",
       "      <td>8523.000000</td>\n",
       "    </tr>\n",
       "    <tr>\n",
       "      <th>unique</th>\n",
       "      <td>1559</td>\n",
       "      <td>NaN</td>\n",
       "      <td>5</td>\n",
       "      <td>NaN</td>\n",
       "      <td>16</td>\n",
       "      <td>NaN</td>\n",
       "      <td>10</td>\n",
       "      <td>NaN</td>\n",
       "      <td>3</td>\n",
       "      <td>3</td>\n",
       "      <td>4</td>\n",
       "      <td>NaN</td>\n",
       "    </tr>\n",
       "    <tr>\n",
       "      <th>top</th>\n",
       "      <td>FDW13</td>\n",
       "      <td>NaN</td>\n",
       "      <td>Low Fat</td>\n",
       "      <td>NaN</td>\n",
       "      <td>Fruits and Vegetables</td>\n",
       "      <td>NaN</td>\n",
       "      <td>OUT027</td>\n",
       "      <td>NaN</td>\n",
       "      <td>Medium</td>\n",
       "      <td>Tier 3</td>\n",
       "      <td>Supermarket Type1</td>\n",
       "      <td>NaN</td>\n",
       "    </tr>\n",
       "    <tr>\n",
       "      <th>freq</th>\n",
       "      <td>10</td>\n",
       "      <td>NaN</td>\n",
       "      <td>5089</td>\n",
       "      <td>NaN</td>\n",
       "      <td>1232</td>\n",
       "      <td>NaN</td>\n",
       "      <td>935</td>\n",
       "      <td>NaN</td>\n",
       "      <td>2793</td>\n",
       "      <td>3350</td>\n",
       "      <td>5577</td>\n",
       "      <td>NaN</td>\n",
       "    </tr>\n",
       "    <tr>\n",
       "      <th>mean</th>\n",
       "      <td>NaN</td>\n",
       "      <td>12.857645</td>\n",
       "      <td>NaN</td>\n",
       "      <td>0.066132</td>\n",
       "      <td>NaN</td>\n",
       "      <td>140.992782</td>\n",
       "      <td>NaN</td>\n",
       "      <td>1997.831867</td>\n",
       "      <td>NaN</td>\n",
       "      <td>NaN</td>\n",
       "      <td>NaN</td>\n",
       "      <td>2181.288914</td>\n",
       "    </tr>\n",
       "    <tr>\n",
       "      <th>std</th>\n",
       "      <td>NaN</td>\n",
       "      <td>4.643456</td>\n",
       "      <td>NaN</td>\n",
       "      <td>0.051598</td>\n",
       "      <td>NaN</td>\n",
       "      <td>62.275067</td>\n",
       "      <td>NaN</td>\n",
       "      <td>8.371760</td>\n",
       "      <td>NaN</td>\n",
       "      <td>NaN</td>\n",
       "      <td>NaN</td>\n",
       "      <td>1706.499616</td>\n",
       "    </tr>\n",
       "    <tr>\n",
       "      <th>min</th>\n",
       "      <td>NaN</td>\n",
       "      <td>4.555000</td>\n",
       "      <td>NaN</td>\n",
       "      <td>0.000000</td>\n",
       "      <td>NaN</td>\n",
       "      <td>31.290000</td>\n",
       "      <td>NaN</td>\n",
       "      <td>1985.000000</td>\n",
       "      <td>NaN</td>\n",
       "      <td>NaN</td>\n",
       "      <td>NaN</td>\n",
       "      <td>33.290000</td>\n",
       "    </tr>\n",
       "    <tr>\n",
       "      <th>25%</th>\n",
       "      <td>NaN</td>\n",
       "      <td>8.773750</td>\n",
       "      <td>NaN</td>\n",
       "      <td>0.026989</td>\n",
       "      <td>NaN</td>\n",
       "      <td>93.826500</td>\n",
       "      <td>NaN</td>\n",
       "      <td>1987.000000</td>\n",
       "      <td>NaN</td>\n",
       "      <td>NaN</td>\n",
       "      <td>NaN</td>\n",
       "      <td>834.247400</td>\n",
       "    </tr>\n",
       "    <tr>\n",
       "      <th>50%</th>\n",
       "      <td>NaN</td>\n",
       "      <td>12.600000</td>\n",
       "      <td>NaN</td>\n",
       "      <td>0.053931</td>\n",
       "      <td>NaN</td>\n",
       "      <td>143.012800</td>\n",
       "      <td>NaN</td>\n",
       "      <td>1999.000000</td>\n",
       "      <td>NaN</td>\n",
       "      <td>NaN</td>\n",
       "      <td>NaN</td>\n",
       "      <td>1794.331000</td>\n",
       "    </tr>\n",
       "    <tr>\n",
       "      <th>75%</th>\n",
       "      <td>NaN</td>\n",
       "      <td>16.850000</td>\n",
       "      <td>NaN</td>\n",
       "      <td>0.094585</td>\n",
       "      <td>NaN</td>\n",
       "      <td>185.643700</td>\n",
       "      <td>NaN</td>\n",
       "      <td>2004.000000</td>\n",
       "      <td>NaN</td>\n",
       "      <td>NaN</td>\n",
       "      <td>NaN</td>\n",
       "      <td>3101.296400</td>\n",
       "    </tr>\n",
       "    <tr>\n",
       "      <th>max</th>\n",
       "      <td>NaN</td>\n",
       "      <td>21.350000</td>\n",
       "      <td>NaN</td>\n",
       "      <td>0.328391</td>\n",
       "      <td>NaN</td>\n",
       "      <td>266.888400</td>\n",
       "      <td>NaN</td>\n",
       "      <td>2009.000000</td>\n",
       "      <td>NaN</td>\n",
       "      <td>NaN</td>\n",
       "      <td>NaN</td>\n",
       "      <td>13086.964800</td>\n",
       "    </tr>\n",
       "  </tbody>\n",
       "</table>\n",
       "</div>"
      ],
      "text/plain": [
       "       Item_Identifier  Item_Weight Item_Fat_Content  Item_Visibility  \\\n",
       "count             8523  7060.000000             8523      8523.000000   \n",
       "unique            1559          NaN                5              NaN   \n",
       "top              FDW13          NaN          Low Fat              NaN   \n",
       "freq                10          NaN             5089              NaN   \n",
       "mean               NaN    12.857645              NaN         0.066132   \n",
       "std                NaN     4.643456              NaN         0.051598   \n",
       "min                NaN     4.555000              NaN         0.000000   \n",
       "25%                NaN     8.773750              NaN         0.026989   \n",
       "50%                NaN    12.600000              NaN         0.053931   \n",
       "75%                NaN    16.850000              NaN         0.094585   \n",
       "max                NaN    21.350000              NaN         0.328391   \n",
       "\n",
       "                    Item_Type     Item_MRP Outlet_Identifier  \\\n",
       "count                    8523  8523.000000              8523   \n",
       "unique                     16          NaN                10   \n",
       "top     Fruits and Vegetables          NaN            OUT027   \n",
       "freq                     1232          NaN               935   \n",
       "mean                      NaN   140.992782               NaN   \n",
       "std                       NaN    62.275067               NaN   \n",
       "min                       NaN    31.290000               NaN   \n",
       "25%                       NaN    93.826500               NaN   \n",
       "50%                       NaN   143.012800               NaN   \n",
       "75%                       NaN   185.643700               NaN   \n",
       "max                       NaN   266.888400               NaN   \n",
       "\n",
       "        Outlet_Establishment_Year Outlet_Size Outlet_Location_Type  \\\n",
       "count                 8523.000000        6113                 8523   \n",
       "unique                        NaN           3                    3   \n",
       "top                           NaN      Medium               Tier 3   \n",
       "freq                          NaN        2793                 3350   \n",
       "mean                  1997.831867         NaN                  NaN   \n",
       "std                      8.371760         NaN                  NaN   \n",
       "min                   1985.000000         NaN                  NaN   \n",
       "25%                   1987.000000         NaN                  NaN   \n",
       "50%                   1999.000000         NaN                  NaN   \n",
       "75%                   2004.000000         NaN                  NaN   \n",
       "max                   2009.000000         NaN                  NaN   \n",
       "\n",
       "              Outlet_Type  Item_Outlet_Sales  \n",
       "count                8523        8523.000000  \n",
       "unique                  4                NaN  \n",
       "top     Supermarket Type1                NaN  \n",
       "freq                 5577                NaN  \n",
       "mean                  NaN        2181.288914  \n",
       "std                   NaN        1706.499616  \n",
       "min                   NaN          33.290000  \n",
       "25%                   NaN         834.247400  \n",
       "50%                   NaN        1794.331000  \n",
       "75%                   NaN        3101.296400  \n",
       "max                   NaN       13086.964800  "
      ]
     },
     "execution_count": 7,
     "metadata": {},
     "output_type": "execute_result"
    }
   ],
   "source": [
    "# get statistics from the data\n",
    "raw_data.describe(include='all')"
   ]
  },
  {
   "cell_type": "code",
   "execution_count": 8,
   "id": "ec874cf5",
   "metadata": {
    "execution": {
     "iopub.execute_input": "2023-01-12T04:39:35.052622Z",
     "iopub.status.busy": "2023-01-12T04:39:35.051343Z",
     "iopub.status.idle": "2023-01-12T04:39:35.065382Z",
     "shell.execute_reply": "2023-01-12T04:39:35.064104Z"
    },
    "papermill": {
     "duration": 0.038309,
     "end_time": "2023-01-12T04:39:35.068354",
     "exception": false,
     "start_time": "2023-01-12T04:39:35.030045",
     "status": "completed"
    },
    "tags": []
   },
   "outputs": [
    {
     "data": {
      "text/plain": [
       "Item_Identifier                 0\n",
       "Item_Weight                  1463\n",
       "Item_Fat_Content                0\n",
       "Item_Visibility                 0\n",
       "Item_Type                       0\n",
       "Item_MRP                        0\n",
       "Outlet_Identifier               0\n",
       "Outlet_Establishment_Year       0\n",
       "Outlet_Size                  2410\n",
       "Outlet_Location_Type            0\n",
       "Outlet_Type                     0\n",
       "Item_Outlet_Sales               0\n",
       "dtype: int64"
      ]
     },
     "execution_count": 8,
     "metadata": {},
     "output_type": "execute_result"
    }
   ],
   "source": [
    "# verify null values\n",
    "raw_data.isna().sum()"
   ]
  },
  {
   "cell_type": "code",
   "execution_count": 9,
   "id": "105cbbf5",
   "metadata": {
    "execution": {
     "iopub.execute_input": "2023-01-12T04:39:35.111184Z",
     "iopub.status.busy": "2023-01-12T04:39:35.110320Z",
     "iopub.status.idle": "2023-01-12T04:39:35.130005Z",
     "shell.execute_reply": "2023-01-12T04:39:35.128712Z"
    },
    "papermill": {
     "duration": 0.043756,
     "end_time": "2023-01-12T04:39:35.132525",
     "exception": false,
     "start_time": "2023-01-12T04:39:35.088769",
     "status": "completed"
    },
    "tags": []
   },
   "outputs": [
    {
     "data": {
      "text/plain": [
       "False"
      ]
     },
     "execution_count": 9,
     "metadata": {},
     "output_type": "execute_result"
    }
   ],
   "source": [
    "# check for duplicated rows\n",
    "raw_data.duplicated().any()"
   ]
  },
  {
   "cell_type": "code",
   "execution_count": 10,
   "id": "34b63258",
   "metadata": {
    "execution": {
     "iopub.execute_input": "2023-01-12T04:39:35.173394Z",
     "iopub.status.busy": "2023-01-12T04:39:35.172756Z",
     "iopub.status.idle": "2023-01-12T04:39:35.191178Z",
     "shell.execute_reply": "2023-01-12T04:39:35.189884Z"
    },
    "papermill": {
     "duration": 0.0419,
     "end_time": "2023-01-12T04:39:35.193767",
     "exception": false,
     "start_time": "2023-01-12T04:39:35.151867",
     "status": "completed"
    },
    "tags": []
   },
   "outputs": [
    {
     "data": {
      "text/plain": [
       "Item_Identifier              1559\n",
       "Item_Weight                   416\n",
       "Item_Fat_Content                5\n",
       "Item_Visibility              7880\n",
       "Item_Type                      16\n",
       "Item_MRP                     5938\n",
       "Outlet_Identifier              10\n",
       "Outlet_Establishment_Year       9\n",
       "Outlet_Size                     4\n",
       "Outlet_Location_Type            3\n",
       "Outlet_Type                     4\n",
       "Item_Outlet_Sales            3493\n",
       "dtype: int64"
      ]
     },
     "execution_count": 10,
     "metadata": {},
     "output_type": "execute_result"
    }
   ],
   "source": [
    "# verify unique values\n",
    "raw_data.apply(lambda x: len(x.unique()))"
   ]
  },
  {
   "cell_type": "code",
   "execution_count": 11,
   "id": "67f2750b",
   "metadata": {
    "execution": {
     "iopub.execute_input": "2023-01-12T04:39:35.234722Z",
     "iopub.status.busy": "2023-01-12T04:39:35.233901Z",
     "iopub.status.idle": "2023-01-12T04:39:35.246439Z",
     "shell.execute_reply": "2023-01-12T04:39:35.245141Z"
    },
    "papermill": {
     "duration": 0.035893,
     "end_time": "2023-01-12T04:39:35.248953",
     "exception": false,
     "start_time": "2023-01-12T04:39:35.213060",
     "status": "completed"
    },
    "tags": []
   },
   "outputs": [
    {
     "name": "stdout",
     "output_type": "stream",
     "text": [
      "Categorical Columns:  ['Item_Identifier', 'Item_Fat_Content', 'Item_Type', 'Outlet_Identifier', 'Outlet_Size', 'Outlet_Location_Type', 'Outlet_Type']\n",
      "Numerical Columns:  ['Item_Weight', 'Item_Visibility', 'Item_MRP', 'Outlet_Establishment_Year', 'Item_Outlet_Sales']\n"
     ]
    }
   ],
   "source": [
    "# getting categorical and numerical columns\n",
    "cat_cols = raw_data.select_dtypes(exclude='number').columns.to_list()\n",
    "num_cols = raw_data.select_dtypes(include='number').columns.to_list()\n",
    "\n",
    "print('Categorical Columns: ', cat_cols)\n",
    "print('Numerical Columns: ', num_cols)"
   ]
  },
  {
   "cell_type": "code",
   "execution_count": 12,
   "id": "8d8c2ca8",
   "metadata": {
    "execution": {
     "iopub.execute_input": "2023-01-12T04:39:35.291924Z",
     "iopub.status.busy": "2023-01-12T04:39:35.290902Z",
     "iopub.status.idle": "2023-01-12T04:39:35.310194Z",
     "shell.execute_reply": "2023-01-12T04:39:35.307869Z"
    },
    "papermill": {
     "duration": 0.044576,
     "end_time": "2023-01-12T04:39:35.313330",
     "exception": false,
     "start_time": "2023-01-12T04:39:35.268754",
     "status": "completed"
    },
    "tags": []
   },
   "outputs": [
    {
     "name": "stdout",
     "output_type": "stream",
     "text": [
      "-----------------------------\n",
      "Series:  Item_Identifier\n",
      "-----------------------------\n",
      "FDW13    10\n",
      "FDG33    10\n",
      "NCY18     9\n",
      "FDD38     9\n",
      "DRE49     9\n",
      "         ..\n",
      "FDY43     1\n",
      "FDQ60     1\n",
      "FDO33     1\n",
      "DRF48     1\n",
      "FDC23     1\n",
      "Name: Item_Identifier, Length: 1559, dtype: int64\n",
      "\n",
      "\n",
      "-----------------------------\n",
      "Series:  Item_Fat_Content\n",
      "-----------------------------\n",
      "Low Fat    5089\n",
      "Regular    2889\n",
      "LF          316\n",
      "reg         117\n",
      "low fat     112\n",
      "Name: Item_Fat_Content, dtype: int64\n",
      "\n",
      "\n",
      "-----------------------------\n",
      "Series:  Item_Type\n",
      "-----------------------------\n",
      "Fruits and Vegetables    1232\n",
      "Snack Foods              1200\n",
      "Household                 910\n",
      "Frozen Foods              856\n",
      "Dairy                     682\n",
      "Canned                    649\n",
      "Baking Goods              648\n",
      "Health and Hygiene        520\n",
      "Soft Drinks               445\n",
      "Meat                      425\n",
      "Breads                    251\n",
      "Hard Drinks               214\n",
      "Others                    169\n",
      "Starchy Foods             148\n",
      "Breakfast                 110\n",
      "Seafood                    64\n",
      "Name: Item_Type, dtype: int64\n",
      "\n",
      "\n",
      "-----------------------------\n",
      "Series:  Outlet_Identifier\n",
      "-----------------------------\n",
      "OUT027    935\n",
      "OUT013    932\n",
      "OUT049    930\n",
      "OUT046    930\n",
      "OUT035    930\n",
      "OUT045    929\n",
      "OUT018    928\n",
      "OUT017    926\n",
      "OUT010    555\n",
      "OUT019    528\n",
      "Name: Outlet_Identifier, dtype: int64\n",
      "\n",
      "\n",
      "-----------------------------\n",
      "Series:  Outlet_Size\n",
      "-----------------------------\n",
      "Medium    2793\n",
      "Small     2388\n",
      "High       932\n",
      "Name: Outlet_Size, dtype: int64\n",
      "\n",
      "\n",
      "-----------------------------\n",
      "Series:  Outlet_Location_Type\n",
      "-----------------------------\n",
      "Tier 3    3350\n",
      "Tier 2    2785\n",
      "Tier 1    2388\n",
      "Name: Outlet_Location_Type, dtype: int64\n",
      "\n",
      "\n",
      "-----------------------------\n",
      "Series:  Outlet_Type\n",
      "-----------------------------\n",
      "Supermarket Type1    5577\n",
      "Grocery Store        1083\n",
      "Supermarket Type3     935\n",
      "Supermarket Type2     928\n",
      "Name: Outlet_Type, dtype: int64\n",
      "\n",
      "\n"
     ]
    }
   ],
   "source": [
    "# exploring categories\n",
    "for col in cat_cols:\n",
    "    print('-----------------------------')\n",
    "    print('Series: ', col)\n",
    "    print('-----------------------------')\n",
    "    print(raw_data[col].value_counts())\n",
    "    print('\\n')"
   ]
  },
  {
   "cell_type": "markdown",
   "id": "91d24638",
   "metadata": {
    "papermill": {
     "duration": 0.019306,
     "end_time": "2023-01-12T04:39:35.352198",
     "exception": false,
     "start_time": "2023-01-12T04:39:35.332892",
     "status": "completed"
    },
    "tags": []
   },
   "source": [
    "## **Notes:**\n",
    "* The dataset 8523 contains datapoints _(rows)_ and 12 features _(columns)_.\n",
    "* The dataset is for 1559 items in 10 different stores.\n",
    "* There are present categorical _(object)_ and numerical features _(float, int)_.\n",
    "* The target is the _'Item_Outlet_Sales'_ feature.\n",
    "* Some features presents null values and outliers.\n",
    "* There are no duplicate rows.\n",
    "\n",
    "**_Item_Identifier:_**\n",
    "* Ids for 1559 different items.\n",
    "* The ids has some prefixes: FD=Food, DR=Drink, NC=Non-Consumable.\n",
    "\n",
    "**_Item_Weight:_**\n",
    "* It contains null values.\n",
    "\n",
    "**_Item_Fat_Content:_**\n",
    "* It has 5 different categories, but some of them do reference to an existing category, it can be summarized to two categories: _Low Fat_ and _Regular_.\n",
    "* This feature do not apply to Non-Consumable items, a new category for them can be created.\n",
    "\n",
    "**_Item_Visibility:_**\n",
    "* Some values are 0%, an item can not be bought by a consumer if its not visible, this is an outlier.\n",
    "\n",
    "**_Item_Type:_**\n",
    "* There are 16 different item types, the data is not well distributed among all of them.\n",
    "* The model can be biased towards the most repetitive types: Fruits and Vegetables and Snack Foods.\n",
    "\n",
    "**_Outlet_Identifier:_**\n",
    "* There are 10 different outlet ids.\n",
    "* The data seems to be pretty well distributed among all the outlets.\n",
    "\n",
    "**_Outlet_Size:_**\n",
    "* It has null values.\n",
    "* The data is not well distributed among the different sizes.\n",
    "* The _Oulet_Size_ has some relation with the _Oulet_Type_ that need to be considered when the null values be filled.\n",
    "\n",
    "**_Outlet_Location_Type and Outlet_Type:_**\n",
    "* The data is not well distributed among the different sizes.\n",
    "* The model can be biased towards the most repetitive types."
   ]
  },
  {
   "cell_type": "markdown",
   "id": "d2afb821",
   "metadata": {
    "papermill": {
     "duration": 0.019351,
     "end_time": "2023-01-12T04:39:35.391079",
     "exception": false,
     "start_time": "2023-01-12T04:39:35.371728",
     "status": "completed"
    },
    "tags": []
   },
   "source": [
    "# **6. Cleaning The Data And Create New Features**"
   ]
  },
  {
   "cell_type": "code",
   "execution_count": 13,
   "id": "0301881c",
   "metadata": {
    "execution": {
     "iopub.execute_input": "2023-01-12T04:39:35.433668Z",
     "iopub.status.busy": "2023-01-12T04:39:35.432240Z",
     "iopub.status.idle": "2023-01-12T04:39:35.438243Z",
     "shell.execute_reply": "2023-01-12T04:39:35.437332Z"
    },
    "papermill": {
     "duration": 0.029659,
     "end_time": "2023-01-12T04:39:35.440624",
     "exception": false,
     "start_time": "2023-01-12T04:39:35.410965",
     "status": "completed"
    },
    "tags": []
   },
   "outputs": [],
   "source": [
    "# make a copy of the data\n",
    "clean_data = raw_data.copy()"
   ]
  },
  {
   "cell_type": "code",
   "execution_count": 14,
   "id": "1de466de",
   "metadata": {
    "execution": {
     "iopub.execute_input": "2023-01-12T04:39:35.481789Z",
     "iopub.status.busy": "2023-01-12T04:39:35.480790Z",
     "iopub.status.idle": "2023-01-12T04:39:35.488521Z",
     "shell.execute_reply": "2023-01-12T04:39:35.487068Z"
    },
    "papermill": {
     "duration": 0.031084,
     "end_time": "2023-01-12T04:39:35.491162",
     "exception": false,
     "start_time": "2023-01-12T04:39:35.460078",
     "status": "completed"
    },
    "tags": []
   },
   "outputs": [
    {
     "name": "stdout",
     "output_type": "stream",
     "text": [
      "Index(['item_identifier', 'item_weight', 'item_fat_content', 'item_visibility',\n",
      "       'item_type', 'item_mrp', 'outlet_identifier',\n",
      "       'outlet_establishment_year', 'outlet_size', 'outlet_location_type',\n",
      "       'outlet_type', 'item_outlet_sales'],\n",
      "      dtype='object')\n"
     ]
    }
   ],
   "source": [
    "# format column names to be lower-case\n",
    "new_col_names = [col.lower() for col in clean_data.columns]\n",
    "clean_data.columns = new_col_names\n",
    "\n",
    "print(clean_data.columns)"
   ]
  },
  {
   "cell_type": "markdown",
   "id": "b6d3aba6",
   "metadata": {
    "papermill": {
     "duration": 0.019342,
     "end_time": "2023-01-12T04:39:35.530514",
     "exception": false,
     "start_time": "2023-01-12T04:39:35.511172",
     "status": "completed"
    },
    "tags": []
   },
   "source": [
    "## **6.1. Filling _'item_weight'_ null values**"
   ]
  },
  {
   "cell_type": "code",
   "execution_count": 15,
   "id": "6dbeb3d6",
   "metadata": {
    "execution": {
     "iopub.execute_input": "2023-01-12T04:39:35.571920Z",
     "iopub.status.busy": "2023-01-12T04:39:35.571529Z",
     "iopub.status.idle": "2023-01-12T04:39:35.585050Z",
     "shell.execute_reply": "2023-01-12T04:39:35.584087Z"
    },
    "papermill": {
     "duration": 0.037493,
     "end_time": "2023-01-12T04:39:35.587714",
     "exception": false,
     "start_time": "2023-01-12T04:39:35.550221",
     "status": "completed"
    },
    "tags": []
   },
   "outputs": [
    {
     "data": {
      "text/plain": [
       "item_identifier                 0\n",
       "item_weight                     0\n",
       "item_fat_content                0\n",
       "item_visibility                 0\n",
       "item_type                       0\n",
       "item_mrp                        0\n",
       "outlet_identifier               0\n",
       "outlet_establishment_year       0\n",
       "outlet_size                  2410\n",
       "outlet_location_type            0\n",
       "outlet_type                     0\n",
       "item_outlet_sales               0\n",
       "dtype: int64"
      ]
     },
     "execution_count": 15,
     "metadata": {},
     "output_type": "execute_result"
    }
   ],
   "source": [
    "# fill null values using the mean\n",
    "clean_data['item_weight'].fillna(clean_data['item_weight'].mean(), inplace=True)\n",
    "clean_data.isna().sum()"
   ]
  },
  {
   "cell_type": "markdown",
   "id": "4428378f",
   "metadata": {
    "papermill": {
     "duration": 0.020997,
     "end_time": "2023-01-12T04:39:35.630921",
     "exception": false,
     "start_time": "2023-01-12T04:39:35.609924",
     "status": "completed"
    },
    "tags": []
   },
   "source": [
    "## **6.2. Filling _'outlet_size'_ null values**"
   ]
  },
  {
   "cell_type": "code",
   "execution_count": 16,
   "id": "24e8b7e6",
   "metadata": {
    "execution": {
     "iopub.execute_input": "2023-01-12T04:39:35.674328Z",
     "iopub.status.busy": "2023-01-12T04:39:35.673495Z",
     "iopub.status.idle": "2023-01-12T04:39:35.703990Z",
     "shell.execute_reply": "2023-01-12T04:39:35.702653Z"
    },
    "papermill": {
     "duration": 0.055767,
     "end_time": "2023-01-12T04:39:35.706787",
     "exception": false,
     "start_time": "2023-01-12T04:39:35.651020",
     "status": "completed"
    },
    "tags": []
   },
   "outputs": [
    {
     "data": {
      "text/html": [
       "<div>\n",
       "<style scoped>\n",
       "    .dataframe tbody tr th:only-of-type {\n",
       "        vertical-align: middle;\n",
       "    }\n",
       "\n",
       "    .dataframe tbody tr th {\n",
       "        vertical-align: top;\n",
       "    }\n",
       "\n",
       "    .dataframe thead th {\n",
       "        text-align: right;\n",
       "    }\n",
       "</style>\n",
       "<table border=\"1\" class=\"dataframe\">\n",
       "  <thead>\n",
       "    <tr style=\"text-align: right;\">\n",
       "      <th>outlet_type</th>\n",
       "      <th>Grocery Store</th>\n",
       "      <th>Supermarket Type1</th>\n",
       "      <th>Supermarket Type2</th>\n",
       "      <th>Supermarket Type3</th>\n",
       "    </tr>\n",
       "  </thead>\n",
       "  <tbody>\n",
       "    <tr>\n",
       "      <th>outlet_size</th>\n",
       "      <td>Small</td>\n",
       "      <td>Small</td>\n",
       "      <td>Medium</td>\n",
       "      <td>Medium</td>\n",
       "    </tr>\n",
       "  </tbody>\n",
       "</table>\n",
       "</div>"
      ],
      "text/plain": [
       "outlet_type Grocery Store Supermarket Type1 Supermarket Type2  \\\n",
       "outlet_size         Small             Small            Medium   \n",
       "\n",
       "outlet_type Supermarket Type3  \n",
       "outlet_size            Medium  "
      ]
     },
     "execution_count": 16,
     "metadata": {},
     "output_type": "execute_result"
    }
   ],
   "source": [
    "# getting mode based on outlet_type\n",
    "outlet_size_mode_pt = clean_data.pivot_table(values='outlet_size',\n",
    "                                                      columns='outlet_type',\n",
    "                                                      aggfunc=lambda x: x.mode())\n",
    "outlet_size_mode_pt"
   ]
  },
  {
   "cell_type": "code",
   "execution_count": 17,
   "id": "1bcaefe1",
   "metadata": {
    "execution": {
     "iopub.execute_input": "2023-01-12T04:39:35.754003Z",
     "iopub.status.busy": "2023-01-12T04:39:35.753188Z",
     "iopub.status.idle": "2023-01-12T04:39:35.797906Z",
     "shell.execute_reply": "2023-01-12T04:39:35.796651Z"
    },
    "papermill": {
     "duration": 0.0701,
     "end_time": "2023-01-12T04:39:35.800951",
     "exception": false,
     "start_time": "2023-01-12T04:39:35.730851",
     "status": "completed"
    },
    "tags": []
   },
   "outputs": [
    {
     "data": {
      "text/plain": [
       "item_identifier              0\n",
       "item_weight                  0\n",
       "item_fat_content             0\n",
       "item_visibility              0\n",
       "item_type                    0\n",
       "item_mrp                     0\n",
       "outlet_identifier            0\n",
       "outlet_establishment_year    0\n",
       "outlet_size                  0\n",
       "outlet_location_type         0\n",
       "outlet_type                  0\n",
       "item_outlet_sales            0\n",
       "dtype: int64"
      ]
     },
     "execution_count": 17,
     "metadata": {},
     "output_type": "execute_result"
    }
   ],
   "source": [
    "# fill null values using the mode per oulet_type\n",
    "missing_values = clean_data['outlet_size'].isnull()\n",
    "clean_data.loc[missing_values, 'outlet_size'] = clean_data.loc[missing_values, 'outlet_type'].apply(lambda x: outlet_size_mode_pt[x].outlet_size)\n",
    "clean_data.isna().sum()"
   ]
  },
  {
   "cell_type": "markdown",
   "id": "8964013e",
   "metadata": {
    "papermill": {
     "duration": 0.020392,
     "end_time": "2023-01-12T04:39:35.841356",
     "exception": false,
     "start_time": "2023-01-12T04:39:35.820964",
     "status": "completed"
    },
    "tags": []
   },
   "source": [
    "## **6.3. Replace _'item_visibility'_ 0%**"
   ]
  },
  {
   "cell_type": "code",
   "execution_count": 18,
   "id": "9c4bc602",
   "metadata": {
    "execution": {
     "iopub.execute_input": "2023-01-12T04:39:35.885285Z",
     "iopub.status.busy": "2023-01-12T04:39:35.884884Z",
     "iopub.status.idle": "2023-01-12T04:39:35.896027Z",
     "shell.execute_reply": "2023-01-12T04:39:35.895143Z"
    },
    "papermill": {
     "duration": 0.037903,
     "end_time": "2023-01-12T04:39:35.899214",
     "exception": false,
     "start_time": "2023-01-12T04:39:35.861311",
     "status": "completed"
    },
    "tags": []
   },
   "outputs": [
    {
     "name": "stdout",
     "output_type": "stream",
     "text": [
      "Total of 0s before replace:  526\n",
      "Total of 0s after replace:  0\n"
     ]
    }
   ],
   "source": [
    "# print total number of 0s\n",
    "print('Total of 0s before replace: ', sum(clean_data['item_visibility'] == 0))\n",
    "\n",
    "# replace 0s with the mean\n",
    "clean_data.loc[:,'item_visibility'].replace(to_replace=0,\n",
    "                                            value=clean_data['item_visibility'].mean(),\n",
    "                                            inplace=True)\n",
    "\n",
    "# print total number of 0s after the replace\n",
    "print('Total of 0s after replace: ', sum(clean_data['item_visibility'] == 0))"
   ]
  },
  {
   "cell_type": "markdown",
   "id": "9dfd13ec",
   "metadata": {
    "papermill": {
     "duration": 0.020791,
     "end_time": "2023-01-12T04:39:35.941239",
     "exception": false,
     "start_time": "2023-01-12T04:39:35.920448",
     "status": "completed"
    },
    "tags": []
   },
   "source": [
    "## **6.4. Replace _'item_fat_content'_ values**"
   ]
  },
  {
   "cell_type": "code",
   "execution_count": 19,
   "id": "41ee9ff5",
   "metadata": {
    "execution": {
     "iopub.execute_input": "2023-01-12T04:39:35.992406Z",
     "iopub.status.busy": "2023-01-12T04:39:35.991615Z",
     "iopub.status.idle": "2023-01-12T04:39:35.999292Z",
     "shell.execute_reply": "2023-01-12T04:39:35.997706Z"
    },
    "papermill": {
     "duration": 0.03644,
     "end_time": "2023-01-12T04:39:36.002410",
     "exception": false,
     "start_time": "2023-01-12T04:39:35.965970",
     "status": "completed"
    },
    "tags": []
   },
   "outputs": [
    {
     "name": "stdout",
     "output_type": "stream",
     "text": [
      "['Low Fat' 'Regular' 'low fat' 'LF' 'reg']\n"
     ]
    }
   ],
   "source": [
    "# print values\n",
    "print(clean_data['item_fat_content'].unique())"
   ]
  },
  {
   "cell_type": "code",
   "execution_count": 20,
   "id": "54ef9472",
   "metadata": {
    "execution": {
     "iopub.execute_input": "2023-01-12T04:39:36.054307Z",
     "iopub.status.busy": "2023-01-12T04:39:36.053723Z",
     "iopub.status.idle": "2023-01-12T04:39:36.067370Z",
     "shell.execute_reply": "2023-01-12T04:39:36.065945Z"
    },
    "papermill": {
     "duration": 0.041828,
     "end_time": "2023-01-12T04:39:36.070099",
     "exception": false,
     "start_time": "2023-01-12T04:39:36.028271",
     "status": "completed"
    },
    "tags": []
   },
   "outputs": [
    {
     "data": {
      "text/plain": [
       "Low Fat    5517\n",
       "Regular    3006\n",
       "Name: item_fat_content, dtype: int64"
      ]
     },
     "execution_count": 20,
     "metadata": {},
     "output_type": "execute_result"
    }
   ],
   "source": [
    "# replace the repetitive values\n",
    "clean_data['item_fat_content'].replace({'low fat':'Low Fat', 'LF':'Low Fat', 'reg':'Regular'}, inplace=True)\n",
    "clean_data['item_fat_content'].value_counts()"
   ]
  },
  {
   "cell_type": "markdown",
   "id": "4fc78bfb",
   "metadata": {
    "papermill": {
     "duration": 0.022669,
     "end_time": "2023-01-12T04:39:36.113133",
     "exception": false,
     "start_time": "2023-01-12T04:39:36.090464",
     "status": "completed"
    },
    "tags": []
   },
   "source": [
    "## **6.5. Create a new 'item_category' feature**"
   ]
  },
  {
   "cell_type": "code",
   "execution_count": 21,
   "id": "56dd3ec0",
   "metadata": {
    "execution": {
     "iopub.execute_input": "2023-01-12T04:39:36.164977Z",
     "iopub.status.busy": "2023-01-12T04:39:36.164214Z",
     "iopub.status.idle": "2023-01-12T04:39:36.181170Z",
     "shell.execute_reply": "2023-01-12T04:39:36.179867Z"
    },
    "papermill": {
     "duration": 0.043265,
     "end_time": "2023-01-12T04:39:36.183870",
     "exception": false,
     "start_time": "2023-01-12T04:39:36.140605",
     "status": "completed"
    },
    "tags": []
   },
   "outputs": [
    {
     "data": {
      "text/plain": [
       "Food              6125\n",
       "Non-Consumable    1599\n",
       "Drink              799\n",
       "Name: item_category, dtype: int64"
      ]
     },
     "execution_count": 21,
     "metadata": {},
     "output_type": "execute_result"
    }
   ],
   "source": [
    "# create a new feature using the two first letters of the item_identifier\n",
    "clean_data['item_category'] = clean_data['item_identifier'].apply(lambda x: x[:2])\n",
    "clean_data['item_category'] = clean_data['item_category'].replace({'FD':'Food', 'DR':'Drink', 'NC':'Non-Consumable'})\n",
    "clean_data['item_category'].value_counts()"
   ]
  },
  {
   "cell_type": "markdown",
   "id": "a20fbd13",
   "metadata": {
    "papermill": {
     "duration": 0.022244,
     "end_time": "2023-01-12T04:39:36.226860",
     "exception": false,
     "start_time": "2023-01-12T04:39:36.204616",
     "status": "completed"
    },
    "tags": []
   },
   "source": [
    "## **6.6. Update _'item_fat_content'_ for Non-Consumables**"
   ]
  },
  {
   "cell_type": "code",
   "execution_count": 22,
   "id": "79f209cc",
   "metadata": {
    "execution": {
     "iopub.execute_input": "2023-01-12T04:39:36.269284Z",
     "iopub.status.busy": "2023-01-12T04:39:36.268556Z",
     "iopub.status.idle": "2023-01-12T04:39:36.280110Z",
     "shell.execute_reply": "2023-01-12T04:39:36.278751Z"
    },
    "papermill": {
     "duration": 0.035498,
     "end_time": "2023-01-12T04:39:36.282689",
     "exception": false,
     "start_time": "2023-01-12T04:39:36.247191",
     "status": "completed"
    },
    "tags": []
   },
   "outputs": [
    {
     "data": {
      "text/plain": [
       "Low Fat      3918\n",
       "Regular      3006\n",
       "No Edible    1599\n",
       "Name: item_fat_content, dtype: int64"
      ]
     },
     "execution_count": 22,
     "metadata": {},
     "output_type": "execute_result"
    }
   ],
   "source": [
    "# adding a new item item_fat_content category for non-consumable items\n",
    "clean_data.loc[clean_data['item_category'] == 'Non-Consumable', 'item_fat_content'] = 'No Edible'\n",
    "clean_data['item_fat_content'].value_counts()"
   ]
  },
  {
   "cell_type": "markdown",
   "id": "1f3aaf7b",
   "metadata": {
    "papermill": {
     "duration": 0.020575,
     "end_time": "2023-01-12T04:39:36.323850",
     "exception": false,
     "start_time": "2023-01-12T04:39:36.303275",
     "status": "completed"
    },
    "tags": []
   },
   "source": [
    "## **6.7. Create a new _'outlet_years'_ feature**"
   ]
  },
  {
   "cell_type": "code",
   "execution_count": 23,
   "id": "cbb67753",
   "metadata": {
    "execution": {
     "iopub.execute_input": "2023-01-12T04:39:36.366751Z",
     "iopub.status.busy": "2023-01-12T04:39:36.366342Z",
     "iopub.status.idle": "2023-01-12T04:39:36.377346Z",
     "shell.execute_reply": "2023-01-12T04:39:36.376044Z"
    },
    "papermill": {
     "duration": 0.035043,
     "end_time": "2023-01-12T04:39:36.379782",
     "exception": false,
     "start_time": "2023-01-12T04:39:36.344739",
     "status": "completed"
    },
    "tags": []
   },
   "outputs": [
    {
     "data": {
      "text/plain": [
       "0       14\n",
       "1        4\n",
       "2       14\n",
       "3       15\n",
       "4       26\n",
       "        ..\n",
       "8518    26\n",
       "8519    11\n",
       "8520     9\n",
       "8521     4\n",
       "8522    16\n",
       "Name: outlet_years, Length: 8523, dtype: int64"
      ]
     },
     "execution_count": 23,
     "metadata": {},
     "output_type": "execute_result"
    }
   ],
   "source": [
    "# the new feature tell us how old is the outlet\n",
    "clean_data['outlet_years'] = 2013 - clean_data['outlet_establishment_year']\n",
    "clean_data['outlet_years']"
   ]
  },
  {
   "cell_type": "markdown",
   "id": "0b3c1e4c",
   "metadata": {
    "papermill": {
     "duration": 0.020348,
     "end_time": "2023-01-12T04:39:36.421255",
     "exception": false,
     "start_time": "2023-01-12T04:39:36.400907",
     "status": "completed"
    },
    "tags": []
   },
   "source": [
    "# **7. Analyze And Visualize The Data**"
   ]
  },
  {
   "cell_type": "code",
   "execution_count": 24,
   "id": "d5c6622a",
   "metadata": {
    "execution": {
     "iopub.execute_input": "2023-01-12T04:39:36.465393Z",
     "iopub.status.busy": "2023-01-12T04:39:36.464129Z",
     "iopub.status.idle": "2023-01-12T04:39:36.484816Z",
     "shell.execute_reply": "2023-01-12T04:39:36.483638Z"
    },
    "papermill": {
     "duration": 0.045064,
     "end_time": "2023-01-12T04:39:36.487415",
     "exception": false,
     "start_time": "2023-01-12T04:39:36.442351",
     "status": "completed"
    },
    "tags": []
   },
   "outputs": [
    {
     "data": {
      "text/html": [
       "<div>\n",
       "<style scoped>\n",
       "    .dataframe tbody tr th:only-of-type {\n",
       "        vertical-align: middle;\n",
       "    }\n",
       "\n",
       "    .dataframe tbody tr th {\n",
       "        vertical-align: top;\n",
       "    }\n",
       "\n",
       "    .dataframe thead th {\n",
       "        text-align: right;\n",
       "    }\n",
       "</style>\n",
       "<table border=\"1\" class=\"dataframe\">\n",
       "  <thead>\n",
       "    <tr style=\"text-align: right;\">\n",
       "      <th></th>\n",
       "      <th>item_identifier</th>\n",
       "      <th>item_weight</th>\n",
       "      <th>item_fat_content</th>\n",
       "      <th>item_visibility</th>\n",
       "      <th>item_type</th>\n",
       "      <th>item_mrp</th>\n",
       "      <th>outlet_identifier</th>\n",
       "      <th>outlet_establishment_year</th>\n",
       "      <th>outlet_size</th>\n",
       "      <th>outlet_location_type</th>\n",
       "      <th>outlet_type</th>\n",
       "      <th>item_outlet_sales</th>\n",
       "      <th>item_category</th>\n",
       "      <th>outlet_years</th>\n",
       "    </tr>\n",
       "  </thead>\n",
       "  <tbody>\n",
       "    <tr>\n",
       "      <th>0</th>\n",
       "      <td>FDA15</td>\n",
       "      <td>9.30</td>\n",
       "      <td>Low Fat</td>\n",
       "      <td>0.016047</td>\n",
       "      <td>Dairy</td>\n",
       "      <td>249.8092</td>\n",
       "      <td>OUT049</td>\n",
       "      <td>1999</td>\n",
       "      <td>Medium</td>\n",
       "      <td>Tier 1</td>\n",
       "      <td>Supermarket Type1</td>\n",
       "      <td>3735.1380</td>\n",
       "      <td>Food</td>\n",
       "      <td>14</td>\n",
       "    </tr>\n",
       "    <tr>\n",
       "      <th>1</th>\n",
       "      <td>DRC01</td>\n",
       "      <td>5.92</td>\n",
       "      <td>Regular</td>\n",
       "      <td>0.019278</td>\n",
       "      <td>Soft Drinks</td>\n",
       "      <td>48.2692</td>\n",
       "      <td>OUT018</td>\n",
       "      <td>2009</td>\n",
       "      <td>Medium</td>\n",
       "      <td>Tier 3</td>\n",
       "      <td>Supermarket Type2</td>\n",
       "      <td>443.4228</td>\n",
       "      <td>Drink</td>\n",
       "      <td>4</td>\n",
       "    </tr>\n",
       "    <tr>\n",
       "      <th>2</th>\n",
       "      <td>FDN15</td>\n",
       "      <td>17.50</td>\n",
       "      <td>Low Fat</td>\n",
       "      <td>0.016760</td>\n",
       "      <td>Meat</td>\n",
       "      <td>141.6180</td>\n",
       "      <td>OUT049</td>\n",
       "      <td>1999</td>\n",
       "      <td>Medium</td>\n",
       "      <td>Tier 1</td>\n",
       "      <td>Supermarket Type1</td>\n",
       "      <td>2097.2700</td>\n",
       "      <td>Food</td>\n",
       "      <td>14</td>\n",
       "    </tr>\n",
       "    <tr>\n",
       "      <th>3</th>\n",
       "      <td>FDX07</td>\n",
       "      <td>19.20</td>\n",
       "      <td>Regular</td>\n",
       "      <td>0.066132</td>\n",
       "      <td>Fruits and Vegetables</td>\n",
       "      <td>182.0950</td>\n",
       "      <td>OUT010</td>\n",
       "      <td>1998</td>\n",
       "      <td>Small</td>\n",
       "      <td>Tier 3</td>\n",
       "      <td>Grocery Store</td>\n",
       "      <td>732.3800</td>\n",
       "      <td>Food</td>\n",
       "      <td>15</td>\n",
       "    </tr>\n",
       "    <tr>\n",
       "      <th>4</th>\n",
       "      <td>NCD19</td>\n",
       "      <td>8.93</td>\n",
       "      <td>No Edible</td>\n",
       "      <td>0.066132</td>\n",
       "      <td>Household</td>\n",
       "      <td>53.8614</td>\n",
       "      <td>OUT013</td>\n",
       "      <td>1987</td>\n",
       "      <td>High</td>\n",
       "      <td>Tier 3</td>\n",
       "      <td>Supermarket Type1</td>\n",
       "      <td>994.7052</td>\n",
       "      <td>Non-Consumable</td>\n",
       "      <td>26</td>\n",
       "    </tr>\n",
       "  </tbody>\n",
       "</table>\n",
       "</div>"
      ],
      "text/plain": [
       "  item_identifier  item_weight item_fat_content  item_visibility  \\\n",
       "0           FDA15         9.30          Low Fat         0.016047   \n",
       "1           DRC01         5.92          Regular         0.019278   \n",
       "2           FDN15        17.50          Low Fat         0.016760   \n",
       "3           FDX07        19.20          Regular         0.066132   \n",
       "4           NCD19         8.93        No Edible         0.066132   \n",
       "\n",
       "               item_type  item_mrp outlet_identifier  \\\n",
       "0                  Dairy  249.8092            OUT049   \n",
       "1            Soft Drinks   48.2692            OUT018   \n",
       "2                   Meat  141.6180            OUT049   \n",
       "3  Fruits and Vegetables  182.0950            OUT010   \n",
       "4              Household   53.8614            OUT013   \n",
       "\n",
       "   outlet_establishment_year outlet_size outlet_location_type  \\\n",
       "0                       1999      Medium               Tier 1   \n",
       "1                       2009      Medium               Tier 3   \n",
       "2                       1999      Medium               Tier 1   \n",
       "3                       1998       Small               Tier 3   \n",
       "4                       1987        High               Tier 3   \n",
       "\n",
       "         outlet_type  item_outlet_sales   item_category  outlet_years  \n",
       "0  Supermarket Type1          3735.1380            Food            14  \n",
       "1  Supermarket Type2           443.4228           Drink             4  \n",
       "2  Supermarket Type1          2097.2700            Food            14  \n",
       "3      Grocery Store           732.3800            Food            15  \n",
       "4  Supermarket Type1           994.7052  Non-Consumable            26  "
      ]
     },
     "execution_count": 24,
     "metadata": {},
     "output_type": "execute_result"
    }
   ],
   "source": [
    "# how the data looks like\n",
    "clean_data.head()"
   ]
  },
  {
   "cell_type": "markdown",
   "id": "3d2e9db5",
   "metadata": {
    "papermill": {
     "duration": 0.020668,
     "end_time": "2023-01-12T04:39:36.530659",
     "exception": false,
     "start_time": "2023-01-12T04:39:36.509991",
     "status": "completed"
    },
    "tags": []
   },
   "source": [
    "## **7.1. Plot categorical features**"
   ]
  },
  {
   "cell_type": "code",
   "execution_count": 25,
   "id": "8e6d6049",
   "metadata": {
    "execution": {
     "iopub.execute_input": "2023-01-12T04:39:36.575864Z",
     "iopub.status.busy": "2023-01-12T04:39:36.574856Z",
     "iopub.status.idle": "2023-01-12T04:39:36.777079Z",
     "shell.execute_reply": "2023-01-12T04:39:36.775954Z"
    },
    "papermill": {
     "duration": 0.228372,
     "end_time": "2023-01-12T04:39:36.779792",
     "exception": false,
     "start_time": "2023-01-12T04:39:36.551420",
     "status": "completed"
    },
    "tags": []
   },
   "outputs": [
    {
     "data": {
      "image/png": "[encoded data removed]",
      "text/plain": [
       "<Figure size 360x360 with 1 Axes>"
      ]
     },
     "metadata": {},
     "output_type": "display_data"
    }
   ],
   "source": [
    "# plot item_fat_content\n",
    "plt.figure(figsize=(5,5))\n",
    "sns.countplot(x='item_fat_content', data=clean_data)\n",
    "plt.show()"
   ]
  },
  {
   "cell_type": "code",
   "execution_count": 26,
   "id": "7d047e44",
   "metadata": {
    "execution": {
     "iopub.execute_input": "2023-01-12T04:39:36.824993Z",
     "iopub.status.busy": "2023-01-12T04:39:36.823866Z",
     "iopub.status.idle": "2023-01-12T04:39:37.131088Z",
     "shell.execute_reply": "2023-01-12T04:39:37.129860Z"
    },
    "papermill": {
     "duration": 0.333178,
     "end_time": "2023-01-12T04:39:37.134052",
     "exception": false,
     "start_time": "2023-01-12T04:39:36.800874",
     "status": "completed"
    },
    "tags": []
   },
   "outputs": [
    {
     "data": {
      "text/plain": [
       "[Text(0, 0, 'Dairy'),\n",
       " Text(1, 0, 'Soft Drinks'),\n",
       " Text(2, 0, 'Meat'),\n",
       " Text(3, 0, 'Fruits and Vegetables'),\n",
       " Text(4, 0, 'Household'),\n",
       " Text(5, 0, 'Baking Goods'),\n",
       " Text(6, 0, 'Snack Foods'),\n",
       " Text(7, 0, 'Frozen Foods'),\n",
       " Text(8, 0, 'Breakfast'),\n",
       " Text(9, 0, 'Health and Hygiene'),\n",
       " Text(10, 0, 'Hard Drinks'),\n",
       " Text(11, 0, 'Canned'),\n",
       " Text(12, 0, 'Breads'),\n",
       " Text(13, 0, 'Starchy Foods'),\n",
       " Text(14, 0, 'Others'),\n",
       " Text(15, 0, 'Seafood')]"
      ]
     },
     "execution_count": 26,
     "metadata": {},
     "output_type": "execute_result"
    },
    {
     "data": {
      "image/png": "[encoded data removed]",
      "text/plain": [
       "<Figure size 432x288 with 1 Axes>"
      ]
     },
     "metadata": {},
     "output_type": "display_data"
    }
   ],
   "source": [
    "# plot item_type\n",
    "labels = list(clean_data['item_type'].unique())\n",
    "chart = sns.countplot(x=clean_data['item_type'])\n",
    "chart.set_xticklabels(labels=labels, rotation=90)"
   ]
  },
  {
   "cell_type": "code",
   "execution_count": 27,
   "id": "7fde20f5",
   "metadata": {
    "execution": {
     "iopub.execute_input": "2023-01-12T04:39:37.181742Z",
     "iopub.status.busy": "2023-01-12T04:39:37.181347Z",
     "iopub.status.idle": "2023-01-12T04:39:37.421143Z",
     "shell.execute_reply": "2023-01-12T04:39:37.419835Z"
    },
    "papermill": {
     "duration": 0.26601,
     "end_time": "2023-01-12T04:39:37.423862",
     "exception": false,
     "start_time": "2023-01-12T04:39:37.157852",
     "status": "completed"
    },
    "tags": []
   },
   "outputs": [
    {
     "data": {
      "text/plain": [
       "[Text(0, 0, 'OUT049'),\n",
       " Text(1, 0, 'OUT018'),\n",
       " Text(2, 0, 'OUT010'),\n",
       " Text(3, 0, 'OUT013'),\n",
       " Text(4, 0, 'OUT027'),\n",
       " Text(5, 0, 'OUT045'),\n",
       " Text(6, 0, 'OUT017'),\n",
       " Text(7, 0, 'OUT046'),\n",
       " Text(8, 0, 'OUT035'),\n",
       " Text(9, 0, 'OUT019')]"
      ]
     },
     "execution_count": 27,
     "metadata": {},
     "output_type": "execute_result"
    },
    {
     "data": {
      "image/png": "[encoded data removed]",
      "text/plain": [
       "<Figure size 432x288 with 1 Axes>"
      ]
     },
     "metadata": {},
     "output_type": "display_data"
    }
   ],
   "source": [
    "# plot outlet_identifier\n",
    "labels = list(clean_data['outlet_identifier'].unique())\n",
    "chart = sns.countplot(x=clean_data['outlet_identifier'])\n",
    "chart.set_xticklabels(labels=labels, rotation=90)"
   ]
  },
  {
   "cell_type": "code",
   "execution_count": 28,
   "id": "3fdfb5b7",
   "metadata": {
    "execution": {
     "iopub.execute_input": "2023-01-12T04:39:37.472573Z",
     "iopub.status.busy": "2023-01-12T04:39:37.472117Z",
     "iopub.status.idle": "2023-01-12T04:39:37.620904Z",
     "shell.execute_reply": "2023-01-12T04:39:37.619640Z"
    },
    "papermill": {
     "duration": 0.176297,
     "end_time": "2023-01-12T04:39:37.624816",
     "exception": false,
     "start_time": "2023-01-12T04:39:37.448519",
     "status": "completed"
    },
    "tags": []
   },
   "outputs": [
    {
     "data": {
      "image/png": "[encoded data removed]",
      "text/plain": [
       "<Figure size 360x360 with 1 Axes>"
      ]
     },
     "metadata": {},
     "output_type": "display_data"
    }
   ],
   "source": [
    "# plot outlet_size\n",
    "plt.figure(figsize=(5,5))\n",
    "sns.countplot(x='outlet_size', data=clean_data)\n",
    "plt.show()"
   ]
  },
  {
   "cell_type": "code",
   "execution_count": 29,
   "id": "f7c70c51",
   "metadata": {
    "execution": {
     "iopub.execute_input": "2023-01-12T04:39:37.675257Z",
     "iopub.status.busy": "2023-01-12T04:39:37.674502Z",
     "iopub.status.idle": "2023-01-12T04:39:37.819700Z",
     "shell.execute_reply": "2023-01-12T04:39:37.818098Z"
    },
    "papermill": {
     "duration": 0.175121,
     "end_time": "2023-01-12T04:39:37.824185",
     "exception": false,
     "start_time": "2023-01-12T04:39:37.649064",
     "status": "completed"
    },
    "tags": []
   },
   "outputs": [
    {
     "data": {
      "image/png": "[encoded data removed]",
      "text/plain": [
       "<Figure size 360x360 with 1 Axes>"
      ]
     },
     "metadata": {},
     "output_type": "display_data"
    }
   ],
   "source": [
    "# plot outlet_location_type\n",
    "plt.figure(figsize=(5,5))\n",
    "sns.countplot(x='outlet_location_type', data=clean_data)\n",
    "plt.show()"
   ]
  },
  {
   "cell_type": "code",
   "execution_count": 30,
   "id": "487e42cd",
   "metadata": {
    "execution": {
     "iopub.execute_input": "2023-01-12T04:39:37.883477Z",
     "iopub.status.busy": "2023-01-12T04:39:37.882719Z",
     "iopub.status.idle": "2023-01-12T04:39:38.089076Z",
     "shell.execute_reply": "2023-01-12T04:39:38.088097Z"
    },
    "papermill": {
     "duration": 0.232874,
     "end_time": "2023-01-12T04:39:38.091628",
     "exception": false,
     "start_time": "2023-01-12T04:39:37.858754",
     "status": "completed"
    },
    "tags": []
   },
   "outputs": [
    {
     "data": {
      "image/png": "[encoded data removed]",
      "text/plain": [
       "<Figure size 360x360 with 1 Axes>"
      ]
     },
     "metadata": {},
     "output_type": "display_data"
    }
   ],
   "source": [
    "# plot item_category\n",
    "plt.figure(figsize=(5,5))\n",
    "sns.countplot(x='item_category', data=clean_data)\n",
    "plt.show()"
   ]
  },
  {
   "cell_type": "markdown",
   "id": "e273abef",
   "metadata": {
    "papermill": {
     "duration": 0.022362,
     "end_time": "2023-01-12T04:39:38.138104",
     "exception": false,
     "start_time": "2023-01-12T04:39:38.115742",
     "status": "completed"
    },
    "tags": []
   },
   "source": [
    "## **7.2. Plot data data distribution**"
   ]
  },
  {
   "cell_type": "code",
   "execution_count": 31,
   "id": "dda08ca1",
   "metadata": {
    "execution": {
     "iopub.execute_input": "2023-01-12T04:39:38.186668Z",
     "iopub.status.busy": "2023-01-12T04:39:38.185886Z",
     "iopub.status.idle": "2023-01-12T04:39:39.449481Z",
     "shell.execute_reply": "2023-01-12T04:39:39.447476Z"
    },
    "papermill": {
     "duration": 1.292875,
     "end_time": "2023-01-12T04:39:39.453840",
     "exception": false,
     "start_time": "2023-01-12T04:39:38.160965",
     "status": "completed"
    },
    "tags": []
   },
   "outputs": [
    {
     "data": {
      "text/plain": [
       "array([[<AxesSubplot:title={'center':'item_weight'}>,\n",
       "        <AxesSubplot:title={'center':'item_visibility'}>],\n",
       "       [<AxesSubplot:title={'center':'item_mrp'}>,\n",
       "        <AxesSubplot:title={'center':'outlet_establishment_year'}>],\n",
       "       [<AxesSubplot:title={'center':'item_outlet_sales'}>,\n",
       "        <AxesSubplot:title={'center':'outlet_years'}>]], dtype=object)"
      ]
     },
     "execution_count": 31,
     "metadata": {},
     "output_type": "execute_result"
    },
    {
     "data": {
      "image/png": "[encoded data removed]",
      "text/plain": [
       "<Figure size 864x576 with 6 Axes>"
      ]
     },
     "metadata": {},
     "output_type": "display_data"
    }
   ],
   "source": [
    "# data distribution of numerical values\n",
    "clean_data.hist(figsize=(12,8))"
   ]
  },
  {
   "cell_type": "code",
   "execution_count": 32,
   "id": "2df4343c",
   "metadata": {
    "execution": {
     "iopub.execute_input": "2023-01-12T04:39:39.510710Z",
     "iopub.status.busy": "2023-01-12T04:39:39.509873Z",
     "iopub.status.idle": "2023-01-12T04:39:39.774039Z",
     "shell.execute_reply": "2023-01-12T04:39:39.773199Z"
    },
    "papermill": {
     "duration": 0.291958,
     "end_time": "2023-01-12T04:39:39.776583",
     "exception": false,
     "start_time": "2023-01-12T04:39:39.484625",
     "status": "completed"
    },
    "tags": []
   },
   "outputs": [
    {
     "data": {
      "image/png": "[encoded data removed]",
      "text/plain": [
       "<Figure size 432x432 with 1 Axes>"
      ]
     },
     "metadata": {},
     "output_type": "display_data"
    }
   ],
   "source": [
    "# outlet_establishment_year column count\n",
    "plt.figure(figsize=(6,6))\n",
    "sns.countplot(x='outlet_establishment_year', data=clean_data)\n",
    "plt.show()"
   ]
  },
  {
   "cell_type": "code",
   "execution_count": 33,
   "id": "290ebb45",
   "metadata": {
    "execution": {
     "iopub.execute_input": "2023-01-12T04:39:39.828189Z",
     "iopub.status.busy": "2023-01-12T04:39:39.827423Z",
     "iopub.status.idle": "2023-01-12T04:39:40.170172Z",
     "shell.execute_reply": "2023-01-12T04:39:40.169191Z"
    },
    "papermill": {
     "duration": 0.372385,
     "end_time": "2023-01-12T04:39:40.172783",
     "exception": false,
     "start_time": "2023-01-12T04:39:39.800398",
     "status": "completed"
    },
    "tags": []
   },
   "outputs": [
    {
     "data": {
      "image/png": "[encoded data removed]",
      "text/plain": [
       "<Figure size 432x432 with 1 Axes>"
      ]
     },
     "metadata": {},
     "output_type": "display_data"
    }
   ],
   "source": [
    "# outlet_years column count\n",
    "plt.figure(figsize=(6,6))\n",
    "sns.countplot(x='outlet_years', data=clean_data)\n",
    "plt.show()"
   ]
  },
  {
   "cell_type": "code",
   "execution_count": 34,
   "id": "5792c7b1",
   "metadata": {
    "execution": {
     "iopub.execute_input": "2023-01-12T04:39:40.224373Z",
     "iopub.status.busy": "2023-01-12T04:39:40.223596Z",
     "iopub.status.idle": "2023-01-12T04:39:40.234777Z",
     "shell.execute_reply": "2023-01-12T04:39:40.233619Z"
    },
    "papermill": {
     "duration": 0.040556,
     "end_time": "2023-01-12T04:39:40.237389",
     "exception": false,
     "start_time": "2023-01-12T04:39:40.196833",
     "status": "completed"
    },
    "tags": []
   },
   "outputs": [
    {
     "data": {
      "text/plain": [
       "item_outlet_sales            1.000000\n",
       "item_mrp                     0.567574\n",
       "outlet_years                 0.049135\n",
       "item_weight                  0.011550\n",
       "outlet_establishment_year   -0.049135\n",
       "item_visibility             -0.134138\n",
       "Name: item_outlet_sales, dtype: float64"
      ]
     },
     "execution_count": 34,
     "metadata": {},
     "output_type": "execute_result"
    }
   ],
   "source": [
    "# correlation with the target column\n",
    "corr_matrix = clean_data.corr()\n",
    "corr_matrix['item_outlet_sales'].sort_values(ascending=False)"
   ]
  },
  {
   "cell_type": "code",
   "execution_count": 35,
   "id": "a04aed28",
   "metadata": {
    "execution": {
     "iopub.execute_input": "2023-01-12T04:39:40.290531Z",
     "iopub.status.busy": "2023-01-12T04:39:40.289618Z",
     "iopub.status.idle": "2023-01-12T04:39:40.812740Z",
     "shell.execute_reply": "2023-01-12T04:39:40.811479Z"
    },
    "papermill": {
     "duration": 0.551684,
     "end_time": "2023-01-12T04:39:40.815507",
     "exception": false,
     "start_time": "2023-01-12T04:39:40.263823",
     "status": "completed"
    },
    "tags": []
   },
   "outputs": [
    {
     "data": {
      "text/plain": [
       "<AxesSubplot:>"
      ]
     },
     "execution_count": 35,
     "metadata": {},
     "output_type": "execute_result"
    },
    {
     "data": {
      "image/png": "[encoded data removed]",
      "text/plain": [
       "<Figure size 432x288 with 2 Axes>"
      ]
     },
     "metadata": {},
     "output_type": "display_data"
    }
   ],
   "source": [
    "# plot correlations\n",
    "sns.heatmap(corr_matrix, annot=True, cmap='coolwarm')"
   ]
  },
  {
   "cell_type": "code",
   "execution_count": 36,
   "id": "cf643d44",
   "metadata": {
    "execution": {
     "iopub.execute_input": "2023-01-12T04:39:40.868039Z",
     "iopub.status.busy": "2023-01-12T04:39:40.867595Z",
     "iopub.status.idle": "2023-01-12T04:39:41.218407Z",
     "shell.execute_reply": "2023-01-12T04:39:41.217096Z"
    },
    "papermill": {
     "duration": 0.380442,
     "end_time": "2023-01-12T04:39:41.221041",
     "exception": false,
     "start_time": "2023-01-12T04:39:40.840599",
     "status": "completed"
    },
    "tags": []
   },
   "outputs": [
    {
     "data": {
      "text/plain": [
       "<AxesSubplot:xlabel='item_mrp', ylabel='item_outlet_sales'>"
      ]
     },
     "execution_count": 36,
     "metadata": {},
     "output_type": "execute_result"
    },
    {
     "data": {
      "image/png": "[encoded data removed]",
      "text/plain": [
       "<Figure size 432x288 with 1 Axes>"
      ]
     },
     "metadata": {},
     "output_type": "display_data"
    }
   ],
   "source": [
    "# scatter plot of item_mrp and item_outlet_sales\n",
    "sns.scatterplot(data=clean_data, x='item_mrp', y='item_outlet_sales')"
   ]
  },
  {
   "cell_type": "markdown",
   "id": "14517334",
   "metadata": {
    "papermill": {
     "duration": 0.025933,
     "end_time": "2023-01-12T04:39:41.273768",
     "exception": false,
     "start_time": "2023-01-12T04:39:41.247835",
     "status": "completed"
    },
    "tags": []
   },
   "source": [
    "## **Notes:**\n",
    "* The data present some minor changes based on what was done in the previous step.\n",
    "* Some of the categorical features are not well distributed, the model can present some bias toward the most repetitive ones.\n",
    "* There is not a clear correlation with the numerical features, _'item_mrp'_ seems to be the most essential feature to estimate the _'item_outlet_sales'_."
   ]
  },
  {
   "cell_type": "markdown",
   "id": "9e75b0c2",
   "metadata": {
    "papermill": {
     "duration": 0.025674,
     "end_time": "2023-01-12T04:39:41.325237",
     "exception": false,
     "start_time": "2023-01-12T04:39:41.299563",
     "status": "completed"
    },
    "tags": []
   },
   "source": [
    "# **8. Data Pre-processing.**"
   ]
  },
  {
   "cell_type": "code",
   "execution_count": 37,
   "id": "19a72499",
   "metadata": {
    "execution": {
     "iopub.execute_input": "2023-01-12T04:39:41.380051Z",
     "iopub.status.busy": "2023-01-12T04:39:41.379643Z",
     "iopub.status.idle": "2023-01-12T04:39:41.399240Z",
     "shell.execute_reply": "2023-01-12T04:39:41.398059Z"
    },
    "papermill": {
     "duration": 0.050015,
     "end_time": "2023-01-12T04:39:41.402003",
     "exception": false,
     "start_time": "2023-01-12T04:39:41.351988",
     "status": "completed"
    },
    "scrolled": true,
    "tags": []
   },
   "outputs": [
    {
     "data": {
      "text/html": [
       "<div>\n",
       "<style scoped>\n",
       "    .dataframe tbody tr th:only-of-type {\n",
       "        vertical-align: middle;\n",
       "    }\n",
       "\n",
       "    .dataframe tbody tr th {\n",
       "        vertical-align: top;\n",
       "    }\n",
       "\n",
       "    .dataframe thead th {\n",
       "        text-align: right;\n",
       "    }\n",
       "</style>\n",
       "<table border=\"1\" class=\"dataframe\">\n",
       "  <thead>\n",
       "    <tr style=\"text-align: right;\">\n",
       "      <th></th>\n",
       "      <th>item_identifier</th>\n",
       "      <th>item_weight</th>\n",
       "      <th>item_fat_content</th>\n",
       "      <th>item_visibility</th>\n",
       "      <th>item_type</th>\n",
       "      <th>item_mrp</th>\n",
       "      <th>outlet_identifier</th>\n",
       "      <th>outlet_establishment_year</th>\n",
       "      <th>outlet_size</th>\n",
       "      <th>outlet_location_type</th>\n",
       "      <th>outlet_type</th>\n",
       "      <th>item_outlet_sales</th>\n",
       "      <th>item_category</th>\n",
       "      <th>outlet_years</th>\n",
       "    </tr>\n",
       "  </thead>\n",
       "  <tbody>\n",
       "    <tr>\n",
       "      <th>0</th>\n",
       "      <td>FDA15</td>\n",
       "      <td>9.30</td>\n",
       "      <td>Low Fat</td>\n",
       "      <td>0.016047</td>\n",
       "      <td>Dairy</td>\n",
       "      <td>249.8092</td>\n",
       "      <td>OUT049</td>\n",
       "      <td>1999</td>\n",
       "      <td>Medium</td>\n",
       "      <td>Tier 1</td>\n",
       "      <td>Supermarket Type1</td>\n",
       "      <td>3735.1380</td>\n",
       "      <td>Food</td>\n",
       "      <td>14</td>\n",
       "    </tr>\n",
       "    <tr>\n",
       "      <th>1</th>\n",
       "      <td>DRC01</td>\n",
       "      <td>5.92</td>\n",
       "      <td>Regular</td>\n",
       "      <td>0.019278</td>\n",
       "      <td>Soft Drinks</td>\n",
       "      <td>48.2692</td>\n",
       "      <td>OUT018</td>\n",
       "      <td>2009</td>\n",
       "      <td>Medium</td>\n",
       "      <td>Tier 3</td>\n",
       "      <td>Supermarket Type2</td>\n",
       "      <td>443.4228</td>\n",
       "      <td>Drink</td>\n",
       "      <td>4</td>\n",
       "    </tr>\n",
       "    <tr>\n",
       "      <th>2</th>\n",
       "      <td>FDN15</td>\n",
       "      <td>17.50</td>\n",
       "      <td>Low Fat</td>\n",
       "      <td>0.016760</td>\n",
       "      <td>Meat</td>\n",
       "      <td>141.6180</td>\n",
       "      <td>OUT049</td>\n",
       "      <td>1999</td>\n",
       "      <td>Medium</td>\n",
       "      <td>Tier 1</td>\n",
       "      <td>Supermarket Type1</td>\n",
       "      <td>2097.2700</td>\n",
       "      <td>Food</td>\n",
       "      <td>14</td>\n",
       "    </tr>\n",
       "    <tr>\n",
       "      <th>3</th>\n",
       "      <td>FDX07</td>\n",
       "      <td>19.20</td>\n",
       "      <td>Regular</td>\n",
       "      <td>0.066132</td>\n",
       "      <td>Fruits and Vegetables</td>\n",
       "      <td>182.0950</td>\n",
       "      <td>OUT010</td>\n",
       "      <td>1998</td>\n",
       "      <td>Small</td>\n",
       "      <td>Tier 3</td>\n",
       "      <td>Grocery Store</td>\n",
       "      <td>732.3800</td>\n",
       "      <td>Food</td>\n",
       "      <td>15</td>\n",
       "    </tr>\n",
       "    <tr>\n",
       "      <th>4</th>\n",
       "      <td>NCD19</td>\n",
       "      <td>8.93</td>\n",
       "      <td>No Edible</td>\n",
       "      <td>0.066132</td>\n",
       "      <td>Household</td>\n",
       "      <td>53.8614</td>\n",
       "      <td>OUT013</td>\n",
       "      <td>1987</td>\n",
       "      <td>High</td>\n",
       "      <td>Tier 3</td>\n",
       "      <td>Supermarket Type1</td>\n",
       "      <td>994.7052</td>\n",
       "      <td>Non-Consumable</td>\n",
       "      <td>26</td>\n",
       "    </tr>\n",
       "  </tbody>\n",
       "</table>\n",
       "</div>"
      ],
      "text/plain": [
       "  item_identifier  item_weight item_fat_content  item_visibility  \\\n",
       "0           FDA15         9.30          Low Fat         0.016047   \n",
       "1           DRC01         5.92          Regular         0.019278   \n",
       "2           FDN15        17.50          Low Fat         0.016760   \n",
       "3           FDX07        19.20          Regular         0.066132   \n",
       "4           NCD19         8.93        No Edible         0.066132   \n",
       "\n",
       "               item_type  item_mrp outlet_identifier  \\\n",
       "0                  Dairy  249.8092            OUT049   \n",
       "1            Soft Drinks   48.2692            OUT018   \n",
       "2                   Meat  141.6180            OUT049   \n",
       "3  Fruits and Vegetables  182.0950            OUT010   \n",
       "4              Household   53.8614            OUT013   \n",
       "\n",
       "   outlet_establishment_year outlet_size outlet_location_type  \\\n",
       "0                       1999      Medium               Tier 1   \n",
       "1                       2009      Medium               Tier 3   \n",
       "2                       1999      Medium               Tier 1   \n",
       "3                       1998       Small               Tier 3   \n",
       "4                       1987        High               Tier 3   \n",
       "\n",
       "         outlet_type  item_outlet_sales   item_category  outlet_years  \n",
       "0  Supermarket Type1          3735.1380            Food            14  \n",
       "1  Supermarket Type2           443.4228           Drink             4  \n",
       "2  Supermarket Type1          2097.2700            Food            14  \n",
       "3      Grocery Store           732.3800            Food            15  \n",
       "4  Supermarket Type1           994.7052  Non-Consumable            26  "
      ]
     },
     "execution_count": 37,
     "metadata": {},
     "output_type": "execute_result"
    }
   ],
   "source": [
    "# how the data looks like\n",
    "clean_data.head()"
   ]
  },
  {
   "cell_type": "code",
   "execution_count": 38,
   "id": "b8935cbd",
   "metadata": {
    "execution": {
     "iopub.execute_input": "2023-01-12T04:39:41.460836Z",
     "iopub.status.busy": "2023-01-12T04:39:41.460408Z",
     "iopub.status.idle": "2023-01-12T04:39:41.479811Z",
     "shell.execute_reply": "2023-01-12T04:39:41.478787Z"
    },
    "papermill": {
     "duration": 0.052552,
     "end_time": "2023-01-12T04:39:41.482634",
     "exception": false,
     "start_time": "2023-01-12T04:39:41.430082",
     "status": "completed"
    },
    "tags": []
   },
   "outputs": [],
   "source": [
    "# applying label encoding to some features\n",
    "encoder = LabelEncoder()\n",
    "\n",
    "cols_to_encode = ['item_identifier', 'item_type', 'outlet_identifier']\n",
    "\n",
    "for col in cols_to_encode:\n",
    "    clean_data[col] = encoder.fit_transform(clean_data[col])"
   ]
  },
  {
   "cell_type": "code",
   "execution_count": 39,
   "id": "a962fd3b",
   "metadata": {
    "execution": {
     "iopub.execute_input": "2023-01-12T04:39:41.541934Z",
     "iopub.status.busy": "2023-01-12T04:39:41.541527Z",
     "iopub.status.idle": "2023-01-12T04:39:41.562258Z",
     "shell.execute_reply": "2023-01-12T04:39:41.561089Z"
    },
    "papermill": {
     "duration": 0.054423,
     "end_time": "2023-01-12T04:39:41.565524",
     "exception": false,
     "start_time": "2023-01-12T04:39:41.511101",
     "status": "completed"
    },
    "tags": []
   },
   "outputs": [],
   "source": [
    "# applying one-hot encoding to some features\n",
    "clean_data = pd.get_dummies(clean_data, columns=['item_fat_content', 'outlet_size', 'outlet_location_type', 'outlet_type', 'item_category'])"
   ]
  },
  {
   "cell_type": "code",
   "execution_count": 40,
   "id": "d1753f9b",
   "metadata": {
    "execution": {
     "iopub.execute_input": "2023-01-12T04:39:41.620112Z",
     "iopub.status.busy": "2023-01-12T04:39:41.619728Z",
     "iopub.status.idle": "2023-01-12T04:39:41.644581Z",
     "shell.execute_reply": "2023-01-12T04:39:41.643129Z"
    },
    "papermill": {
     "duration": 0.055238,
     "end_time": "2023-01-12T04:39:41.647299",
     "exception": false,
     "start_time": "2023-01-12T04:39:41.592061",
     "status": "completed"
    },
    "tags": []
   },
   "outputs": [
    {
     "data": {
      "text/html": [
       "<div>\n",
       "<style scoped>\n",
       "    .dataframe tbody tr th:only-of-type {\n",
       "        vertical-align: middle;\n",
       "    }\n",
       "\n",
       "    .dataframe tbody tr th {\n",
       "        vertical-align: top;\n",
       "    }\n",
       "\n",
       "    .dataframe thead th {\n",
       "        text-align: right;\n",
       "    }\n",
       "</style>\n",
       "<table border=\"1\" class=\"dataframe\">\n",
       "  <thead>\n",
       "    <tr style=\"text-align: right;\">\n",
       "      <th></th>\n",
       "      <th>item_identifier</th>\n",
       "      <th>item_weight</th>\n",
       "      <th>item_visibility</th>\n",
       "      <th>item_type</th>\n",
       "      <th>item_mrp</th>\n",
       "      <th>outlet_identifier</th>\n",
       "      <th>outlet_establishment_year</th>\n",
       "      <th>item_outlet_sales</th>\n",
       "      <th>outlet_years</th>\n",
       "      <th>item_fat_content_Low Fat</th>\n",
       "      <th>...</th>\n",
       "      <th>outlet_location_type_Tier 1</th>\n",
       "      <th>outlet_location_type_Tier 2</th>\n",
       "      <th>outlet_location_type_Tier 3</th>\n",
       "      <th>outlet_type_Grocery Store</th>\n",
       "      <th>outlet_type_Supermarket Type1</th>\n",
       "      <th>outlet_type_Supermarket Type2</th>\n",
       "      <th>outlet_type_Supermarket Type3</th>\n",
       "      <th>item_category_Drink</th>\n",
       "      <th>item_category_Food</th>\n",
       "      <th>item_category_Non-Consumable</th>\n",
       "    </tr>\n",
       "  </thead>\n",
       "  <tbody>\n",
       "    <tr>\n",
       "      <th>0</th>\n",
       "      <td>156</td>\n",
       "      <td>9.30</td>\n",
       "      <td>0.016047</td>\n",
       "      <td>4</td>\n",
       "      <td>249.8092</td>\n",
       "      <td>9</td>\n",
       "      <td>1999</td>\n",
       "      <td>3735.1380</td>\n",
       "      <td>14</td>\n",
       "      <td>1</td>\n",
       "      <td>...</td>\n",
       "      <td>1</td>\n",
       "      <td>0</td>\n",
       "      <td>0</td>\n",
       "      <td>0</td>\n",
       "      <td>1</td>\n",
       "      <td>0</td>\n",
       "      <td>0</td>\n",
       "      <td>0</td>\n",
       "      <td>1</td>\n",
       "      <td>0</td>\n",
       "    </tr>\n",
       "    <tr>\n",
       "      <th>1</th>\n",
       "      <td>8</td>\n",
       "      <td>5.92</td>\n",
       "      <td>0.019278</td>\n",
       "      <td>14</td>\n",
       "      <td>48.2692</td>\n",
       "      <td>3</td>\n",
       "      <td>2009</td>\n",
       "      <td>443.4228</td>\n",
       "      <td>4</td>\n",
       "      <td>0</td>\n",
       "      <td>...</td>\n",
       "      <td>0</td>\n",
       "      <td>0</td>\n",
       "      <td>1</td>\n",
       "      <td>0</td>\n",
       "      <td>0</td>\n",
       "      <td>1</td>\n",
       "      <td>0</td>\n",
       "      <td>1</td>\n",
       "      <td>0</td>\n",
       "      <td>0</td>\n",
       "    </tr>\n",
       "    <tr>\n",
       "      <th>2</th>\n",
       "      <td>662</td>\n",
       "      <td>17.50</td>\n",
       "      <td>0.016760</td>\n",
       "      <td>10</td>\n",
       "      <td>141.6180</td>\n",
       "      <td>9</td>\n",
       "      <td>1999</td>\n",
       "      <td>2097.2700</td>\n",
       "      <td>14</td>\n",
       "      <td>1</td>\n",
       "      <td>...</td>\n",
       "      <td>1</td>\n",
       "      <td>0</td>\n",
       "      <td>0</td>\n",
       "      <td>0</td>\n",
       "      <td>1</td>\n",
       "      <td>0</td>\n",
       "      <td>0</td>\n",
       "      <td>0</td>\n",
       "      <td>1</td>\n",
       "      <td>0</td>\n",
       "    </tr>\n",
       "    <tr>\n",
       "      <th>3</th>\n",
       "      <td>1121</td>\n",
       "      <td>19.20</td>\n",
       "      <td>0.066132</td>\n",
       "      <td>6</td>\n",
       "      <td>182.0950</td>\n",
       "      <td>0</td>\n",
       "      <td>1998</td>\n",
       "      <td>732.3800</td>\n",
       "      <td>15</td>\n",
       "      <td>0</td>\n",
       "      <td>...</td>\n",
       "      <td>0</td>\n",
       "      <td>0</td>\n",
       "      <td>1</td>\n",
       "      <td>1</td>\n",
       "      <td>0</td>\n",
       "      <td>0</td>\n",
       "      <td>0</td>\n",
       "      <td>0</td>\n",
       "      <td>1</td>\n",
       "      <td>0</td>\n",
       "    </tr>\n",
       "    <tr>\n",
       "      <th>4</th>\n",
       "      <td>1297</td>\n",
       "      <td>8.93</td>\n",
       "      <td>0.066132</td>\n",
       "      <td>9</td>\n",
       "      <td>53.8614</td>\n",
       "      <td>1</td>\n",
       "      <td>1987</td>\n",
       "      <td>994.7052</td>\n",
       "      <td>26</td>\n",
       "      <td>0</td>\n",
       "      <td>...</td>\n",
       "      <td>0</td>\n",
       "      <td>0</td>\n",
       "      <td>1</td>\n",
       "      <td>0</td>\n",
       "      <td>1</td>\n",
       "      <td>0</td>\n",
       "      <td>0</td>\n",
       "      <td>0</td>\n",
       "      <td>0</td>\n",
       "      <td>1</td>\n",
       "    </tr>\n",
       "  </tbody>\n",
       "</table>\n",
       "<p>5 rows × 25 columns</p>\n",
       "</div>"
      ],
      "text/plain": [
       "   item_identifier  item_weight  item_visibility  item_type  item_mrp  \\\n",
       "0              156         9.30         0.016047          4  249.8092   \n",
       "1                8         5.92         0.019278         14   48.2692   \n",
       "2              662        17.50         0.016760         10  141.6180   \n",
       "3             1121        19.20         0.066132          6  182.0950   \n",
       "4             1297         8.93         0.066132          9   53.8614   \n",
       "\n",
       "   outlet_identifier  outlet_establishment_year  item_outlet_sales  \\\n",
       "0                  9                       1999          3735.1380   \n",
       "1                  3                       2009           443.4228   \n",
       "2                  9                       1999          2097.2700   \n",
       "3                  0                       1998           732.3800   \n",
       "4                  1                       1987           994.7052   \n",
       "\n",
       "   outlet_years  item_fat_content_Low Fat  ...  outlet_location_type_Tier 1  \\\n",
       "0            14                         1  ...                            1   \n",
       "1             4                         0  ...                            0   \n",
       "2            14                         1  ...                            1   \n",
       "3            15                         0  ...                            0   \n",
       "4            26                         0  ...                            0   \n",
       "\n",
       "   outlet_location_type_Tier 2  outlet_location_type_Tier 3  \\\n",
       "0                            0                            0   \n",
       "1                            0                            1   \n",
       "2                            0                            0   \n",
       "3                            0                            1   \n",
       "4                            0                            1   \n",
       "\n",
       "   outlet_type_Grocery Store  outlet_type_Supermarket Type1  \\\n",
       "0                          0                              1   \n",
       "1                          0                              0   \n",
       "2                          0                              1   \n",
       "3                          1                              0   \n",
       "4                          0                              1   \n",
       "\n",
       "   outlet_type_Supermarket Type2  outlet_type_Supermarket Type3  \\\n",
       "0                              0                              0   \n",
       "1                              1                              0   \n",
       "2                              0                              0   \n",
       "3                              0                              0   \n",
       "4                              0                              0   \n",
       "\n",
       "   item_category_Drink  item_category_Food  item_category_Non-Consumable  \n",
       "0                    0                   1                             0  \n",
       "1                    1                   0                             0  \n",
       "2                    0                   1                             0  \n",
       "3                    0                   1                             0  \n",
       "4                    0                   0                             1  \n",
       "\n",
       "[5 rows x 25 columns]"
      ]
     },
     "execution_count": 40,
     "metadata": {},
     "output_type": "execute_result"
    }
   ],
   "source": [
    "# how the data looks like\n",
    "clean_data.head()"
   ]
  },
  {
   "cell_type": "markdown",
   "id": "3a3bb47f",
   "metadata": {
    "papermill": {
     "duration": 0.027452,
     "end_time": "2023-01-12T04:39:41.701938",
     "exception": false,
     "start_time": "2023-01-12T04:39:41.674486",
     "status": "completed"
    },
    "tags": []
   },
   "source": [
    "# **9. Defining The Input Data**"
   ]
  },
  {
   "cell_type": "code",
   "execution_count": 41,
   "id": "873d9baa",
   "metadata": {
    "execution": {
     "iopub.execute_input": "2023-01-12T04:39:41.760086Z",
     "iopub.status.busy": "2023-01-12T04:39:41.759641Z",
     "iopub.status.idle": "2023-01-12T04:39:41.767789Z",
     "shell.execute_reply": "2023-01-12T04:39:41.766658Z"
    },
    "papermill": {
     "duration": 0.040317,
     "end_time": "2023-01-12T04:39:41.770633",
     "exception": false,
     "start_time": "2023-01-12T04:39:41.730316",
     "status": "completed"
    },
    "tags": []
   },
   "outputs": [],
   "source": [
    "# setting model input and target variables\n",
    "X = clean_data.drop(columns=['outlet_establishment_year', 'item_outlet_sales'])\n",
    "y = clean_data['item_outlet_sales']"
   ]
  },
  {
   "cell_type": "markdown",
   "id": "d6772f8f",
   "metadata": {
    "papermill": {
     "duration": 0.026676,
     "end_time": "2023-01-12T04:39:41.824539",
     "exception": false,
     "start_time": "2023-01-12T04:39:41.797863",
     "status": "completed"
    },
    "tags": []
   },
   "source": [
    "# **10. Exploring Different Models**"
   ]
  },
  {
   "cell_type": "code",
   "execution_count": 42,
   "id": "9fc8aae3",
   "metadata": {
    "execution": {
     "iopub.execute_input": "2023-01-12T04:39:41.881272Z",
     "iopub.status.busy": "2023-01-12T04:39:41.880828Z",
     "iopub.status.idle": "2023-01-12T04:39:41.888011Z",
     "shell.execute_reply": "2023-01-12T04:39:41.887209Z"
    },
    "papermill": {
     "duration": 0.038563,
     "end_time": "2023-01-12T04:39:41.890297",
     "exception": false,
     "start_time": "2023-01-12T04:39:41.851734",
     "status": "completed"
    },
    "tags": []
   },
   "outputs": [],
   "source": [
    "# df to store model error and scores\n",
    "model_scores = pd.DataFrame(columns=['model', 'rmse', 'r2_score'])"
   ]
  },
  {
   "cell_type": "code",
   "execution_count": 43,
   "id": "d745d051",
   "metadata": {
    "execution": {
     "iopub.execute_input": "2023-01-12T04:39:41.946046Z",
     "iopub.status.busy": "2023-01-12T04:39:41.945558Z",
     "iopub.status.idle": "2023-01-12T04:39:41.954214Z",
     "shell.execute_reply": "2023-01-12T04:39:41.953262Z"
    },
    "papermill": {
     "duration": 0.03924,
     "end_time": "2023-01-12T04:39:41.956448",
     "exception": false,
     "start_time": "2023-01-12T04:39:41.917208",
     "status": "completed"
    },
    "tags": []
   },
   "outputs": [],
   "source": [
    "def train_and_evaluate_model(model_name, model, X, y):\n",
    "    '''\n",
    "    Create a training pipeline to scale and train the model\n",
    "    using the input data, then evaluate the model and safe its error\n",
    "    and score in the scores dataframe.\n",
    "    '''\n",
    "    # split the data\n",
    "    X_train, X_validate, y_train, y_validate = train_test_split(X, y, test_size=0.2, random_state=42)\n",
    "    \n",
    "    # create a training pipeline\n",
    "    pipeline = make_pipeline(StandardScaler(), model)\n",
    "    \n",
    "    # apply scaling on training data and train the model\n",
    "    pipeline.fit(X_train, y_train)\n",
    "    \n",
    "    # predict the validation set\n",
    "    y_hat = pipeline.predict(X_validate)\n",
    "    \n",
    "    # evaluate the model\n",
    "    rmse = np.sqrt(mean_squared_error(y_validate, y_hat))\n",
    "    model_score = r2_score(y_validate, y_hat)\n",
    "    \n",
    "    # adding error and score, to the scores datafrane\n",
    "    model_scores.loc[len(model_scores)] = [model_name, rmse, model_score]\n",
    "    \n",
    "    print('----------------------------------')\n",
    "    print(model_name, ' Report:')\n",
    "    print('----------------------------------')\n",
    "    print('RMSE: ', rmse)\n",
    "    print('R2 Score: ', model_score)"
   ]
  },
  {
   "cell_type": "markdown",
   "id": "7366077d",
   "metadata": {
    "papermill": {
     "duration": 0.027155,
     "end_time": "2023-01-12T04:39:42.010249",
     "exception": false,
     "start_time": "2023-01-12T04:39:41.983094",
     "status": "completed"
    },
    "tags": []
   },
   "source": [
    "## **10.1. Linear Regression**"
   ]
  },
  {
   "cell_type": "code",
   "execution_count": 44,
   "id": "4c85e50e",
   "metadata": {
    "execution": {
     "iopub.execute_input": "2023-01-12T04:39:42.066106Z",
     "iopub.status.busy": "2023-01-12T04:39:42.065700Z",
     "iopub.status.idle": "2023-01-12T04:39:42.129764Z",
     "shell.execute_reply": "2023-01-12T04:39:42.128212Z"
    },
    "papermill": {
     "duration": 0.097202,
     "end_time": "2023-01-12T04:39:42.134638",
     "exception": false,
     "start_time": "2023-01-12T04:39:42.037436",
     "status": "completed"
    },
    "tags": []
   },
   "outputs": [
    {
     "name": "stdout",
     "output_type": "stream",
     "text": [
      "----------------------------------\n",
      "Linear Regression  Report:\n",
      "----------------------------------\n",
      "RMSE:  1067.2642801267802\n",
      "R2 Score:  0.5809177379747945\n"
     ]
    }
   ],
   "source": [
    "# linear regression\n",
    "linear_regression_model = LinearRegression()\n",
    "train_and_evaluate_model('Linear Regression', linear_regression_model, X, y)"
   ]
  },
  {
   "cell_type": "markdown",
   "id": "c6b8a291",
   "metadata": {
    "papermill": {
     "duration": 0.027615,
     "end_time": "2023-01-12T04:39:42.270535",
     "exception": false,
     "start_time": "2023-01-12T04:39:42.242920",
     "status": "completed"
    },
    "tags": []
   },
   "source": [
    "## **10.2. Ridge Regularization**"
   ]
  },
  {
   "cell_type": "code",
   "execution_count": 45,
   "id": "de513d66",
   "metadata": {
    "execution": {
     "iopub.execute_input": "2023-01-12T04:39:42.328060Z",
     "iopub.status.busy": "2023-01-12T04:39:42.327613Z",
     "iopub.status.idle": "2023-01-12T04:39:42.364934Z",
     "shell.execute_reply": "2023-01-12T04:39:42.363644Z"
    },
    "papermill": {
     "duration": 0.072228,
     "end_time": "2023-01-12T04:39:42.370315",
     "exception": false,
     "start_time": "2023-01-12T04:39:42.298087",
     "status": "completed"
    },
    "tags": []
   },
   "outputs": [
    {
     "name": "stdout",
     "output_type": "stream",
     "text": [
      "----------------------------------\n",
      "Ridge  Report:\n",
      "----------------------------------\n",
      "RMSE:  1067.6091017911338\n",
      "R2 Score:  0.5806468922426142\n"
     ]
    }
   ],
   "source": [
    "# ridge\n",
    "ridge_model = Ridge()\n",
    "train_and_evaluate_model('Ridge', ridge_model, X, y)"
   ]
  },
  {
   "cell_type": "markdown",
   "id": "23076db5",
   "metadata": {
    "papermill": {
     "duration": 0.060974,
     "end_time": "2023-01-12T04:39:42.503810",
     "exception": false,
     "start_time": "2023-01-12T04:39:42.442836",
     "status": "completed"
    },
    "tags": []
   },
   "source": [
    "## **10.3. Lasso Regularization**"
   ]
  },
  {
   "cell_type": "code",
   "execution_count": 46,
   "id": "772f5c0e",
   "metadata": {
    "execution": {
     "iopub.execute_input": "2023-01-12T04:39:42.585063Z",
     "iopub.status.busy": "2023-01-12T04:39:42.584679Z",
     "iopub.status.idle": "2023-01-12T04:39:42.734729Z",
     "shell.execute_reply": "2023-01-12T04:39:42.732739Z"
    },
    "papermill": {
     "duration": 0.195211,
     "end_time": "2023-01-12T04:39:42.739466",
     "exception": false,
     "start_time": "2023-01-12T04:39:42.544255",
     "status": "completed"
    },
    "tags": []
   },
   "outputs": [
    {
     "name": "stdout",
     "output_type": "stream",
     "text": [
      "----------------------------------\n",
      "Lasso  Report:\n",
      "----------------------------------\n",
      "RMSE:  1068.86069667095\n",
      "R2 Score:  0.5796630717460309\n"
     ]
    }
   ],
   "source": [
    "# lasso\n",
    "lasso_model = Lasso()\n",
    "train_and_evaluate_model('Lasso', lasso_model, X, y)"
   ]
  },
  {
   "cell_type": "markdown",
   "id": "d26b3959",
   "metadata": {
    "papermill": {
     "duration": 0.049206,
     "end_time": "2023-01-12T04:39:42.859897",
     "exception": false,
     "start_time": "2023-01-12T04:39:42.810691",
     "status": "completed"
    },
    "tags": []
   },
   "source": [
    "## **10.4. SVM**"
   ]
  },
  {
   "cell_type": "code",
   "execution_count": 47,
   "id": "3da876d3",
   "metadata": {
    "execution": {
     "iopub.execute_input": "2023-01-12T04:39:42.917434Z",
     "iopub.status.busy": "2023-01-12T04:39:42.916839Z",
     "iopub.status.idle": "2023-01-12T04:39:47.096309Z",
     "shell.execute_reply": "2023-01-12T04:39:47.094461Z"
    },
    "papermill": {
     "duration": 4.212064,
     "end_time": "2023-01-12T04:39:47.099794",
     "exception": false,
     "start_time": "2023-01-12T04:39:42.887730",
     "status": "completed"
    },
    "tags": []
   },
   "outputs": [
    {
     "name": "stdout",
     "output_type": "stream",
     "text": [
      "----------------------------------\n",
      "SVM  Report:\n",
      "----------------------------------\n",
      "RMSE:  1604.6102486835202\n",
      "R2 Score:  0.05268491297800837\n"
     ]
    }
   ],
   "source": [
    "# svm\n",
    "svr_model = SVR()\n",
    "train_and_evaluate_model('SVM', svr_model, X, y)"
   ]
  },
  {
   "cell_type": "markdown",
   "id": "fec1072c",
   "metadata": {
    "papermill": {
     "duration": 0.027278,
     "end_time": "2023-01-12T04:39:47.154519",
     "exception": false,
     "start_time": "2023-01-12T04:39:47.127241",
     "status": "completed"
    },
    "tags": []
   },
   "source": [
    "## **10.5. Decision Tree**"
   ]
  },
  {
   "cell_type": "code",
   "execution_count": 48,
   "id": "4d414539",
   "metadata": {
    "execution": {
     "iopub.execute_input": "2023-01-12T04:39:47.212527Z",
     "iopub.status.busy": "2023-01-12T04:39:47.212077Z",
     "iopub.status.idle": "2023-01-12T04:39:47.300402Z",
     "shell.execute_reply": "2023-01-12T04:39:47.299091Z"
    },
    "papermill": {
     "duration": 0.121284,
     "end_time": "2023-01-12T04:39:47.303604",
     "exception": false,
     "start_time": "2023-01-12T04:39:47.182320",
     "status": "completed"
    },
    "tags": []
   },
   "outputs": [
    {
     "name": "stdout",
     "output_type": "stream",
     "text": [
      "----------------------------------\n",
      "Decision Tree  Report:\n",
      "----------------------------------\n",
      "RMSE:  1476.8862727637825\n",
      "R2 Score:  0.19749187473826535\n"
     ]
    }
   ],
   "source": [
    "# decision tree\n",
    "dtr_model = DecisionTreeRegressor()\n",
    "train_and_evaluate_model('Decision Tree', dtr_model, X, y)"
   ]
  },
  {
   "cell_type": "markdown",
   "id": "02dfb492",
   "metadata": {
    "papermill": {
     "duration": 0.026648,
     "end_time": "2023-01-12T04:39:47.358689",
     "exception": false,
     "start_time": "2023-01-12T04:39:47.332041",
     "status": "completed"
    },
    "tags": []
   },
   "source": [
    "## **10.6. Random Forest**"
   ]
  },
  {
   "cell_type": "code",
   "execution_count": 49,
   "id": "78bc490b",
   "metadata": {
    "execution": {
     "iopub.execute_input": "2023-01-12T04:39:47.417589Z",
     "iopub.status.busy": "2023-01-12T04:39:47.416409Z",
     "iopub.status.idle": "2023-01-12T04:39:51.585524Z",
     "shell.execute_reply": "2023-01-12T04:39:51.583893Z"
    },
    "papermill": {
     "duration": 4.201588,
     "end_time": "2023-01-12T04:39:51.588304",
     "exception": false,
     "start_time": "2023-01-12T04:39:47.386716",
     "status": "completed"
    },
    "tags": []
   },
   "outputs": [
    {
     "name": "stdout",
     "output_type": "stream",
     "text": [
      "----------------------------------\n",
      "Random Forest  Report:\n",
      "----------------------------------\n",
      "RMSE:  1097.0194616621618\n",
      "R2 Score:  0.5572240790850308\n"
     ]
    }
   ],
   "source": [
    "# random forest\n",
    "rfr_model = RandomForestRegressor()\n",
    "train_and_evaluate_model('Random Forest', rfr_model, X, y)"
   ]
  },
  {
   "cell_type": "markdown",
   "id": "93857241",
   "metadata": {
    "papermill": {
     "duration": 0.028118,
     "end_time": "2023-01-12T04:39:51.646369",
     "exception": false,
     "start_time": "2023-01-12T04:39:51.618251",
     "status": "completed"
    },
    "tags": []
   },
   "source": [
    "## **10.7. XGBoost**"
   ]
  },
  {
   "cell_type": "code",
   "execution_count": 50,
   "id": "1dd076b8",
   "metadata": {
    "execution": {
     "iopub.execute_input": "2023-01-12T04:39:51.706895Z",
     "iopub.status.busy": "2023-01-12T04:39:51.705954Z",
     "iopub.status.idle": "2023-01-12T04:39:52.729413Z",
     "shell.execute_reply": "2023-01-12T04:39:52.728322Z"
    },
    "papermill": {
     "duration": 1.058984,
     "end_time": "2023-01-12T04:39:52.733908",
     "exception": false,
     "start_time": "2023-01-12T04:39:51.674924",
     "status": "completed"
    },
    "tags": []
   },
   "outputs": [
    {
     "name": "stdout",
     "output_type": "stream",
     "text": [
      "----------------------------------\n",
      "XGBoost  Report:\n",
      "----------------------------------\n",
      "RMSE:  1132.1795888659562\n",
      "R2 Score:  0.5283867776217697\n"
     ]
    }
   ],
   "source": [
    "# xgboost\n",
    "xgbr_model = XGBRegressor()\n",
    "train_and_evaluate_model('XGBoost', xgbr_model, X, y)"
   ]
  },
  {
   "cell_type": "markdown",
   "id": "07cb14d9",
   "metadata": {
    "papermill": {
     "duration": 0.029237,
     "end_time": "2023-01-12T04:39:52.793176",
     "exception": false,
     "start_time": "2023-01-12T04:39:52.763939",
     "status": "completed"
    },
    "tags": []
   },
   "source": [
    "## **10.8. Model Score Summary**"
   ]
  },
  {
   "cell_type": "code",
   "execution_count": 51,
   "id": "b3d3240e",
   "metadata": {
    "execution": {
     "iopub.execute_input": "2023-01-12T04:39:52.853907Z",
     "iopub.status.busy": "2023-01-12T04:39:52.853458Z",
     "iopub.status.idle": "2023-01-12T04:39:52.865711Z",
     "shell.execute_reply": "2023-01-12T04:39:52.864511Z"
    },
    "papermill": {
     "duration": 0.045727,
     "end_time": "2023-01-12T04:39:52.868019",
     "exception": false,
     "start_time": "2023-01-12T04:39:52.822292",
     "status": "completed"
    },
    "tags": []
   },
   "outputs": [
    {
     "data": {
      "text/html": [
       "<div>\n",
       "<style scoped>\n",
       "    .dataframe tbody tr th:only-of-type {\n",
       "        vertical-align: middle;\n",
       "    }\n",
       "\n",
       "    .dataframe tbody tr th {\n",
       "        vertical-align: top;\n",
       "    }\n",
       "\n",
       "    .dataframe thead th {\n",
       "        text-align: right;\n",
       "    }\n",
       "</style>\n",
       "<table border=\"1\" class=\"dataframe\">\n",
       "  <thead>\n",
       "    <tr style=\"text-align: right;\">\n",
       "      <th></th>\n",
       "      <th>model</th>\n",
       "      <th>rmse</th>\n",
       "      <th>r2_score</th>\n",
       "    </tr>\n",
       "  </thead>\n",
       "  <tbody>\n",
       "    <tr>\n",
       "      <th>0</th>\n",
       "      <td>Linear Regression</td>\n",
       "      <td>1067.264280</td>\n",
       "      <td>0.580918</td>\n",
       "    </tr>\n",
       "    <tr>\n",
       "      <th>1</th>\n",
       "      <td>Ridge</td>\n",
       "      <td>1067.609102</td>\n",
       "      <td>0.580647</td>\n",
       "    </tr>\n",
       "    <tr>\n",
       "      <th>2</th>\n",
       "      <td>Lasso</td>\n",
       "      <td>1068.860697</td>\n",
       "      <td>0.579663</td>\n",
       "    </tr>\n",
       "    <tr>\n",
       "      <th>3</th>\n",
       "      <td>SVM</td>\n",
       "      <td>1604.610249</td>\n",
       "      <td>0.052685</td>\n",
       "    </tr>\n",
       "    <tr>\n",
       "      <th>4</th>\n",
       "      <td>Decision Tree</td>\n",
       "      <td>1476.886273</td>\n",
       "      <td>0.197492</td>\n",
       "    </tr>\n",
       "    <tr>\n",
       "      <th>5</th>\n",
       "      <td>Random Forest</td>\n",
       "      <td>1097.019462</td>\n",
       "      <td>0.557224</td>\n",
       "    </tr>\n",
       "    <tr>\n",
       "      <th>6</th>\n",
       "      <td>XGBoost</td>\n",
       "      <td>1132.179589</td>\n",
       "      <td>0.528387</td>\n",
       "    </tr>\n",
       "  </tbody>\n",
       "</table>\n",
       "</div>"
      ],
      "text/plain": [
       "               model         rmse  r2_score\n",
       "0  Linear Regression  1067.264280  0.580918\n",
       "1              Ridge  1067.609102  0.580647\n",
       "2              Lasso  1068.860697  0.579663\n",
       "3                SVM  1604.610249  0.052685\n",
       "4      Decision Tree  1476.886273  0.197492\n",
       "5      Random Forest  1097.019462  0.557224\n",
       "6            XGBoost  1132.179589  0.528387"
      ]
     },
     "execution_count": 51,
     "metadata": {},
     "output_type": "execute_result"
    }
   ],
   "source": [
    "# display model scores\n",
    "model_scores"
   ]
  },
  {
   "cell_type": "markdown",
   "id": "dba07d63",
   "metadata": {
    "papermill": {
     "duration": 0.027623,
     "end_time": "2023-01-12T04:39:52.924319",
     "exception": false,
     "start_time": "2023-01-12T04:39:52.896696",
     "status": "completed"
    },
    "tags": []
   },
   "source": [
    "## **Notes:**\n",
    "Based on the model score table, the model that best fits this problem that presents the lowest RMSE and highest Score is **Linear Regression**."
   ]
  },
  {
   "cell_type": "markdown",
   "id": "61ac0f9f",
   "metadata": {
    "papermill": {
     "duration": 0.027827,
     "end_time": "2023-01-12T04:39:52.980515",
     "exception": false,
     "start_time": "2023-01-12T04:39:52.952688",
     "status": "completed"
    },
    "tags": []
   },
   "source": [
    "# **11. Testing The Chosen Model**\n",
    "\n",
    "To test the model, article with id FDW58 was chosen, using the machine learning model, it will be estimated in which of the different outlets the article will generate the greatest number of sales."
   ]
  },
  {
   "cell_type": "markdown",
   "id": "79a75b21",
   "metadata": {
    "papermill": {
     "duration": 0.028625,
     "end_time": "2023-01-12T04:39:53.036792",
     "exception": false,
     "start_time": "2023-01-12T04:39:53.008167",
     "status": "completed"
    },
    "tags": []
   },
   "source": [
    "## **11.1 Train the model with all the training data**"
   ]
  },
  {
   "cell_type": "code",
   "execution_count": 52,
   "id": "ee4560f2",
   "metadata": {
    "execution": {
     "iopub.execute_input": "2023-01-12T04:39:53.093911Z",
     "iopub.status.busy": "2023-01-12T04:39:53.093132Z",
     "iopub.status.idle": "2023-01-12T04:39:53.120404Z",
     "shell.execute_reply": "2023-01-12T04:39:53.119192Z"
    },
    "papermill": {
     "duration": 0.060366,
     "end_time": "2023-01-12T04:39:53.124548",
     "exception": false,
     "start_time": "2023-01-12T04:39:53.064182",
     "status": "completed"
    },
    "tags": []
   },
   "outputs": [
    {
     "data": {
      "text/plain": [
       "Pipeline(steps=[('standardscaler', StandardScaler()),\n",
       "                ('linearregression', LinearRegression())])"
      ]
     },
     "execution_count": 52,
     "metadata": {},
     "output_type": "execute_result"
    }
   ],
   "source": [
    "# train a Linear Regression model with all the data\n",
    "model_pipeline = make_pipeline(StandardScaler(), LinearRegression())\n",
    "model_pipeline.fit(X, y)"
   ]
  },
  {
   "cell_type": "markdown",
   "id": "8697092a",
   "metadata": {
    "papermill": {
     "duration": 0.048847,
     "end_time": "2023-01-12T04:39:53.244835",
     "exception": false,
     "start_time": "2023-01-12T04:39:53.195988",
     "status": "completed"
    },
    "tags": []
   },
   "source": [
    "## **11.2. Reading and preparing the test data**"
   ]
  },
  {
   "cell_type": "code",
   "execution_count": 53,
   "id": "e924feff",
   "metadata": {
    "execution": {
     "iopub.execute_input": "2023-01-12T04:39:53.302206Z",
     "iopub.status.busy": "2023-01-12T04:39:53.301766Z",
     "iopub.status.idle": "2023-01-12T04:39:53.353898Z",
     "shell.execute_reply": "2023-01-12T04:39:53.352687Z"
    },
    "papermill": {
     "duration": 0.084,
     "end_time": "2023-01-12T04:39:53.356343",
     "exception": false,
     "start_time": "2023-01-12T04:39:53.272343",
     "status": "completed"
    },
    "tags": []
   },
   "outputs": [
    {
     "data": {
      "text/html": [
       "<div>\n",
       "<style scoped>\n",
       "    .dataframe tbody tr th:only-of-type {\n",
       "        vertical-align: middle;\n",
       "    }\n",
       "\n",
       "    .dataframe tbody tr th {\n",
       "        vertical-align: top;\n",
       "    }\n",
       "\n",
       "    .dataframe thead th {\n",
       "        text-align: right;\n",
       "    }\n",
       "</style>\n",
       "<table border=\"1\" class=\"dataframe\">\n",
       "  <thead>\n",
       "    <tr style=\"text-align: right;\">\n",
       "      <th></th>\n",
       "      <th>Item_Identifier</th>\n",
       "      <th>Item_Weight</th>\n",
       "      <th>Item_Fat_Content</th>\n",
       "      <th>Item_Visibility</th>\n",
       "      <th>Item_Type</th>\n",
       "      <th>Item_MRP</th>\n",
       "      <th>Outlet_Identifier</th>\n",
       "      <th>Outlet_Establishment_Year</th>\n",
       "      <th>Outlet_Size</th>\n",
       "      <th>Outlet_Location_Type</th>\n",
       "      <th>Outlet_Type</th>\n",
       "    </tr>\n",
       "  </thead>\n",
       "  <tbody>\n",
       "    <tr>\n",
       "      <th>0</th>\n",
       "      <td>FDW58</td>\n",
       "      <td>20.75</td>\n",
       "      <td>Low Fat</td>\n",
       "      <td>0.007565</td>\n",
       "      <td>Snack Foods</td>\n",
       "      <td>107.8622</td>\n",
       "      <td>OUT049</td>\n",
       "      <td>1999</td>\n",
       "      <td>Medium</td>\n",
       "      <td>Tier 1</td>\n",
       "      <td>Supermarket Type1</td>\n",
       "    </tr>\n",
       "    <tr>\n",
       "      <th>253</th>\n",
       "      <td>FDW58</td>\n",
       "      <td>20.75</td>\n",
       "      <td>Low Fat</td>\n",
       "      <td>0.007596</td>\n",
       "      <td>Snack Foods</td>\n",
       "      <td>104.4622</td>\n",
       "      <td>OUT017</td>\n",
       "      <td>2007</td>\n",
       "      <td>NaN</td>\n",
       "      <td>Tier 2</td>\n",
       "      <td>Supermarket Type1</td>\n",
       "    </tr>\n",
       "    <tr>\n",
       "      <th>1625</th>\n",
       "      <td>FDW58</td>\n",
       "      <td>20.75</td>\n",
       "      <td>Low Fat</td>\n",
       "      <td>0.007584</td>\n",
       "      <td>Snack Foods</td>\n",
       "      <td>107.0622</td>\n",
       "      <td>OUT018</td>\n",
       "      <td>2009</td>\n",
       "      <td>Medium</td>\n",
       "      <td>Tier 3</td>\n",
       "      <td>Supermarket Type2</td>\n",
       "    </tr>\n",
       "    <tr>\n",
       "      <th>1892</th>\n",
       "      <td>FDW58</td>\n",
       "      <td>20.75</td>\n",
       "      <td>Low Fat</td>\n",
       "      <td>0.000000</td>\n",
       "      <td>Snack Foods</td>\n",
       "      <td>105.9622</td>\n",
       "      <td>OUT046</td>\n",
       "      <td>1997</td>\n",
       "      <td>Small</td>\n",
       "      <td>Tier 1</td>\n",
       "      <td>Supermarket Type1</td>\n",
       "    </tr>\n",
       "    <tr>\n",
       "      <th>2166</th>\n",
       "      <td>FDW58</td>\n",
       "      <td>20.75</td>\n",
       "      <td>Low Fat</td>\n",
       "      <td>0.007568</td>\n",
       "      <td>Snack Foods</td>\n",
       "      <td>105.8622</td>\n",
       "      <td>OUT045</td>\n",
       "      <td>2002</td>\n",
       "      <td>NaN</td>\n",
       "      <td>Tier 2</td>\n",
       "      <td>Supermarket Type1</td>\n",
       "    </tr>\n",
       "    <tr>\n",
       "      <th>2434</th>\n",
       "      <td>FDW58</td>\n",
       "      <td>NaN</td>\n",
       "      <td>Low Fat</td>\n",
       "      <td>0.007517</td>\n",
       "      <td>Snack Foods</td>\n",
       "      <td>107.6622</td>\n",
       "      <td>OUT027</td>\n",
       "      <td>1985</td>\n",
       "      <td>Medium</td>\n",
       "      <td>Tier 3</td>\n",
       "      <td>Supermarket Type3</td>\n",
       "    </tr>\n",
       "    <tr>\n",
       "      <th>2830</th>\n",
       "      <td>FDW58</td>\n",
       "      <td>NaN</td>\n",
       "      <td>Low Fat</td>\n",
       "      <td>0.013224</td>\n",
       "      <td>Snack Foods</td>\n",
       "      <td>106.4622</td>\n",
       "      <td>OUT019</td>\n",
       "      <td>1985</td>\n",
       "      <td>Small</td>\n",
       "      <td>Tier 1</td>\n",
       "      <td>Grocery Store</td>\n",
       "    </tr>\n",
       "  </tbody>\n",
       "</table>\n",
       "</div>"
      ],
      "text/plain": [
       "     Item_Identifier  Item_Weight Item_Fat_Content  Item_Visibility  \\\n",
       "0              FDW58        20.75          Low Fat         0.007565   \n",
       "253            FDW58        20.75          Low Fat         0.007596   \n",
       "1625           FDW58        20.75          Low Fat         0.007584   \n",
       "1892           FDW58        20.75          Low Fat         0.000000   \n",
       "2166           FDW58        20.75          Low Fat         0.007568   \n",
       "2434           FDW58          NaN          Low Fat         0.007517   \n",
       "2830           FDW58          NaN          Low Fat         0.013224   \n",
       "\n",
       "        Item_Type  Item_MRP Outlet_Identifier  Outlet_Establishment_Year  \\\n",
       "0     Snack Foods  107.8622            OUT049                       1999   \n",
       "253   Snack Foods  104.4622            OUT017                       2007   \n",
       "1625  Snack Foods  107.0622            OUT018                       2009   \n",
       "1892  Snack Foods  105.9622            OUT046                       1997   \n",
       "2166  Snack Foods  105.8622            OUT045                       2002   \n",
       "2434  Snack Foods  107.6622            OUT027                       1985   \n",
       "2830  Snack Foods  106.4622            OUT019                       1985   \n",
       "\n",
       "     Outlet_Size Outlet_Location_Type        Outlet_Type  \n",
       "0         Medium               Tier 1  Supermarket Type1  \n",
       "253          NaN               Tier 2  Supermarket Type1  \n",
       "1625      Medium               Tier 3  Supermarket Type2  \n",
       "1892       Small               Tier 1  Supermarket Type1  \n",
       "2166         NaN               Tier 2  Supermarket Type1  \n",
       "2434      Medium               Tier 3  Supermarket Type3  \n",
       "2830       Small               Tier 1      Grocery Store  "
      ]
     },
     "execution_count": 53,
     "metadata": {},
     "output_type": "execute_result"
    }
   ],
   "source": [
    "# loading the test data\n",
    "test_data=pd.read_csv('/kaggle/input/big-mart-sales-prediction-datasets/test.csv')\n",
    "test_data=test_data.loc[test_data['Item_Identifier'] == 'FDW58']\n",
    "test_data"
   ]
  },
  {
   "cell_type": "markdown",
   "id": "4b30a55b",
   "metadata": {
    "papermill": {
     "duration": 0.027436,
     "end_time": "2023-01-12T04:39:53.411637",
     "exception": false,
     "start_time": "2023-01-12T04:39:53.384201",
     "status": "completed"
    },
    "tags": []
   },
   "source": [
    "**Important:** The same preprocessing that was done during training should be the same that need to be done to test the model as well as when the model is in production, the best way to do it is by creating a pipeline, in the notebook this preprocessing is done manually."
   ]
  },
  {
   "cell_type": "code",
   "execution_count": 54,
   "id": "a96de77e",
   "metadata": {
    "execution": {
     "iopub.execute_input": "2023-01-12T04:39:53.474475Z",
     "iopub.status.busy": "2023-01-12T04:39:53.473690Z",
     "iopub.status.idle": "2023-01-12T04:39:53.521331Z",
     "shell.execute_reply": "2023-01-12T04:39:53.520332Z"
    },
    "papermill": {
     "duration": 0.084727,
     "end_time": "2023-01-12T04:39:53.523991",
     "exception": false,
     "start_time": "2023-01-12T04:39:53.439264",
     "status": "completed"
    },
    "tags": []
   },
   "outputs": [],
   "source": [
    "\n",
    "# format column names to be lower-case\n",
    "new_col_names = [col.lower() for col in test_data.columns]\n",
    "test_data.columns = new_col_names\n",
    "\n",
    "# creating a new df to show the results of each datapoint at the end of the notebook\n",
    "results = test_data[['item_identifier', 'outlet_identifier']]\n",
    "\n",
    "# fill null values - item_weight\n",
    "test_data['item_weight'].fillna(test_data['item_weight'].mean(), inplace=True)\n",
    "\n",
    "# fill null values - outlet_size\n",
    "missing_values = test_data['outlet_size'].isnull()\n",
    "test_data.loc[missing_values, 'outlet_size'] = test_data.loc[missing_values, 'outlet_type'].apply(lambda x: outlet_size_mode_pt[x].outlet_size)\n",
    "\n",
    "# replace 0s - item_visibility\n",
    "test_data.loc[:,'item_visibility'].replace(to_replace=0,\n",
    "                                            value=test_data['item_visibility'].mean(),\n",
    "                                            inplace=True)\n",
    "\n",
    "# create a new feature - item_category\n",
    "test_data['item_category'] = test_data['item_identifier'].apply(lambda x: x[:2])\n",
    "test_data['item_category'] = test_data['item_category'].replace({'FD':'Food', 'DR':'Drink', 'NC':'Non-Consumable'})\n",
    "\n",
    "# create a new feature - outlet_years\n",
    "test_data['outlet_years'] = 2013 - test_data['outlet_establishment_year']\n",
    "\n",
    "# applying one-hot encoding to some features\n",
    "test_data = pd.get_dummies(test_data, columns=['item_fat_content', 'outlet_size', 'outlet_location_type', 'outlet_type', 'item_category'])\n",
    "\n",
    "\n",
    "test_data['item_identifier'] = test_data['item_identifier'].replace({'FDW58': 1114})\n",
    "test_data['item_type'] = test_data['item_type'].replace({'Snack Foods': 13})\n",
    "test_data['outlet_identifier'] = test_data['outlet_identifier'].replace({'OUT049': 9,\n",
    "                                                                         'OUT017': 2,\n",
    "                                                                         'OUT018': 3,\n",
    "                                                                         'OUT046': 8,\n",
    "                                                                         'OUT045': 7,\n",
    "                                                                         'OUT027': 5,\n",
    "                                                                         'OUT019': 4})\n",
    "\n",
    "\n",
    "test_data['item_fat_content_No Edible'] = 0\n",
    "test_data['item_fat_content_Regular'] = 0\n",
    "test_data['outlet_size_High'] = 0\n",
    "test_data['item_category_Drink'] = 0\n",
    "test_data['item_category_Non-Consumable'] = 0\n",
    "\n",
    "# drop unnecessary features\n",
    "test_data = test_data.drop(columns=['outlet_establishment_year'])\n",
    "\n",
    "# IMPORTANT: The features must match the same order as the training data\n",
    "# re-order columns\n",
    "test_data = test_data[['item_identifier',\n",
    "                       'item_weight',\n",
    "                       'item_visibility',\n",
    "                       'item_type',\n",
    "                       'item_mrp',\n",
    "                       'outlet_identifier',\n",
    "                       'outlet_years',\n",
    "                       'item_fat_content_Low Fat',\n",
    "                       'item_fat_content_No Edible',\n",
    "                       'item_fat_content_Regular',\n",
    "                       'outlet_size_High',\n",
    "                       'outlet_size_Medium',\n",
    "                       'outlet_size_Small',\n",
    "                       'outlet_location_type_Tier 1',\n",
    "                       'outlet_location_type_Tier 2',\n",
    "                       'outlet_location_type_Tier 3',\n",
    "                       'outlet_type_Grocery Store',\n",
    "                       'outlet_type_Supermarket Type1',\n",
    "                       'outlet_type_Supermarket Type2',\n",
    "                       'outlet_type_Supermarket Type3',\n",
    "                       'item_category_Drink',\n",
    "                       'item_category_Food',\n",
    "                       'item_category_Non-Consumable']]"
   ]
  },
  {
   "cell_type": "code",
   "execution_count": 55,
   "id": "5a3ddc06",
   "metadata": {
    "execution": {
     "iopub.execute_input": "2023-01-12T04:39:53.586515Z",
     "iopub.status.busy": "2023-01-12T04:39:53.585653Z",
     "iopub.status.idle": "2023-01-12T04:39:53.603496Z",
     "shell.execute_reply": "2023-01-12T04:39:53.601363Z"
    },
    "papermill": {
     "duration": 0.050868,
     "end_time": "2023-01-12T04:39:53.607514",
     "exception": false,
     "start_time": "2023-01-12T04:39:53.556646",
     "status": "completed"
    },
    "tags": []
   },
   "outputs": [
    {
     "name": "stderr",
     "output_type": "stream",
     "text": [
      "/opt/conda/lib/python3.7/site-packages/ipykernel_launcher.py:5: SettingWithCopyWarning: \n",
      "A value is trying to be set on a copy of a slice from a DataFrame.\n",
      "Try using .loc[row_indexer,col_indexer] = value instead\n",
      "\n",
      "See the caveats in the documentation: https://pandas.pydata.org/pandas-docs/stable/user_guide/indexing.html#returning-a-view-versus-a-copy\n",
      "  \"\"\"\n"
     ]
    },
    {
     "data": {
      "text/html": [
       "<div>\n",
       "<style scoped>\n",
       "    .dataframe tbody tr th:only-of-type {\n",
       "        vertical-align: middle;\n",
       "    }\n",
       "\n",
       "    .dataframe tbody tr th {\n",
       "        vertical-align: top;\n",
       "    }\n",
       "\n",
       "    .dataframe thead th {\n",
       "        text-align: right;\n",
       "    }\n",
       "</style>\n",
       "<table border=\"1\" class=\"dataframe\">\n",
       "  <thead>\n",
       "    <tr style=\"text-align: right;\">\n",
       "      <th></th>\n",
       "      <th>item_identifier</th>\n",
       "      <th>outlet_identifier</th>\n",
       "      <th>prediction</th>\n",
       "    </tr>\n",
       "  </thead>\n",
       "  <tbody>\n",
       "    <tr>\n",
       "      <th>0</th>\n",
       "      <td>FDW58</td>\n",
       "      <td>OUT049</td>\n",
       "      <td>1862.958268</td>\n",
       "    </tr>\n",
       "    <tr>\n",
       "      <th>253</th>\n",
       "      <td>FDW58</td>\n",
       "      <td>OUT017</td>\n",
       "      <td>1816.454798</td>\n",
       "    </tr>\n",
       "    <tr>\n",
       "      <th>1625</th>\n",
       "      <td>FDW58</td>\n",
       "      <td>OUT018</td>\n",
       "      <td>1476.624681</td>\n",
       "    </tr>\n",
       "    <tr>\n",
       "      <th>1892</th>\n",
       "      <td>FDW58</td>\n",
       "      <td>OUT046</td>\n",
       "      <td>1735.836885</td>\n",
       "    </tr>\n",
       "    <tr>\n",
       "      <th>2166</th>\n",
       "      <td>FDW58</td>\n",
       "      <td>OUT045</td>\n",
       "      <td>1666.463500</td>\n",
       "    </tr>\n",
       "    <tr>\n",
       "      <th>2434</th>\n",
       "      <td>FDW58</td>\n",
       "      <td>OUT027</td>\n",
       "      <td>3212.870698</td>\n",
       "    </tr>\n",
       "    <tr>\n",
       "      <th>2830</th>\n",
       "      <td>FDW58</td>\n",
       "      <td>OUT019</td>\n",
       "      <td>-148.948246</td>\n",
       "    </tr>\n",
       "  </tbody>\n",
       "</table>\n",
       "</div>"
      ],
      "text/plain": [
       "     item_identifier outlet_identifier   prediction\n",
       "0              FDW58            OUT049  1862.958268\n",
       "253            FDW58            OUT017  1816.454798\n",
       "1625           FDW58            OUT018  1476.624681\n",
       "1892           FDW58            OUT046  1735.836885\n",
       "2166           FDW58            OUT045  1666.463500\n",
       "2434           FDW58            OUT027  3212.870698\n",
       "2830           FDW58            OUT019  -148.948246"
      ]
     },
     "execution_count": 55,
     "metadata": {},
     "output_type": "execute_result"
    }
   ],
   "source": [
    "# predict the testing data\n",
    "y_hat = model_pipeline.predict(test_data)\n",
    "\n",
    "# displaying results\n",
    "results['prediction'] = y_hat\n",
    "results"
   ]
  },
  {
   "cell_type": "markdown",
   "id": "4fd7c609",
   "metadata": {
    "papermill": {
     "duration": 0.028281,
     "end_time": "2023-01-12T04:39:53.665404",
     "exception": false,
     "start_time": "2023-01-12T04:39:53.637123",
     "status": "completed"
    },
    "tags": []
   },
   "source": [
    "\n",
    "As shown in the previous data frame, based on the model prediction the store where the greatest profit from the sale of the product **FDW58** would be obtained is **OUT027**."
   ]
  },
  {
   "cell_type": "code",
   "execution_count": null,
   "id": "fb91c956",
   "metadata": {},
   "outputs": [],
   "source": []
  }
 ],
 "metadata": {
  "kernelspec": {
   "display_name": "Python 3 (ipykernel)",
   "language": "python",
   "name": "python3"
  },
  "language_info": {
   "codemirror_mode": {
    "name": "ipython",
    "version": 3
   },
   "file_extension": ".py",
   "mimetype": "text/x-python",
   "name": "python",
   "nbconvert_exporter": "python",
   "pygments_lexer": "ipython3",
   "version": "3.9.13"
  },
  "papermill": {
   "default_parameters": {},
   "duration": 32.527793,
   "end_time": "2023-01-12T04:39:54.572996",
   "environment_variables": {},
   "exception": null,
   "input_path": "__notebook__.ipynb",
   "output_path": "__notebook__.ipynb",
   "parameters": {},
   "start_time": "2023-01-12T04:39:22.045203",
   "version": "2.3.4"
  }
 },
 "nbformat": 4,
 "nbformat_minor": 5
}
