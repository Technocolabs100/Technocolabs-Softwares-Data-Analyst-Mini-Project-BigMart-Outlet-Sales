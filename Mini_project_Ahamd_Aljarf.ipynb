{
  "cells": [
    {
      "cell_type": "markdown",
      "metadata": {
        "id": "MtrC6ZVaiKFp"
      },
      "source": [
        "###Name: Ahamd Aljarf\n",
        "\n",
        "###Mini Project: BigMart Outlet Sales\n",
        "\n",
        "###Technocolabs Softwares \n",
        "\n",
        "###Batch: March 2023"
      ]
    },
    {
      "cell_type": "markdown",
      "metadata": {
        "id": "2zMy8aGmit50"
      },
      "source": [
        "###Problem Statement:\n",
        "\n",
        "The aim of this data science project is to build a predictive model and find out the sales of each product at a particular store.\n",
        "Using this model, BigMart will try to understand the properties of products and stores which play a key role in increasing sales.\n",
        "The data has missing values as some stores do not report all the data due to technical glitches. Hence, it will be required to treat them accordingly"
      ]
    },
    {
      "cell_type": "markdown",
      "metadata": {
        "id": "5tKujgpLt18K"
      },
      "source": [
        "###Loading Packages and Data:"
      ]
    },
    {
      "cell_type": "markdown",
      "metadata": {
        "id": "yEqQ9Uzdl91q"
      },
      "source": [
        "Uploading the dataset:"
      ]
    },
    {
      "cell_type": "code",
      "execution_count": null,
      "metadata": {
        "colab": {
          "base_uri": "https://localhost:8080/",
          "height": 108
        },
        "id": "JsT_ovC8p36W",
        "outputId": "b9c11a51-37eb-4f01-9935-9bcfc771b7c5"
      },
      "outputs": [
        {
          "data": {
            "text/html": [
              "\n",
              "     <input type=\"file\" id=\"files-5c0e8515-e33f-4f3d-8007-c4e98ce4fbf4\" name=\"files[]\" multiple disabled\n",
              "        style=\"border:none\" />\n",
              "     <output id=\"result-5c0e8515-e33f-4f3d-8007-c4e98ce4fbf4\">\n",
              "      Upload widget is only available when the cell has been executed in the\n",
              "      current browser session. Please rerun this cell to enable.\n",
              "      </output>\n",
              "      <script>// Copyright 2017 Google LLC\n",
              "//\n",
              "// Licensed under the Apache License, Version 2.0 (the \"License\");\n",
              "// you may not use this file except in compliance with the License.\n",
              "// You may obtain a copy of the License at\n",
              "//\n",
              "//      http://www.apache.org/licenses/LICENSE-2.0\n",
              "//\n",
              "// Unless required by applicable law or agreed to in writing, software\n",
              "// distributed under the License is distributed on an \"AS IS\" BASIS,\n",
              "// WITHOUT WARRANTIES OR CONDITIONS OF ANY KIND, either express or implied.\n",
              "// See the License for the specific language governing permissions and\n",
              "// limitations under the License.\n",
              "\n",
              "/**\n",
              " * @fileoverview Helpers for google.colab Python module.\n",
              " */\n",
              "(function(scope) {\n",
              "function span(text, styleAttributes = {}) {\n",
              "  const element = document.createElement('span');\n",
              "  element.textContent = text;\n",
              "  for (const key of Object.keys(styleAttributes)) {\n",
              "    element.style[key] = styleAttributes[key];\n",
              "  }\n",
              "  return element;\n",
              "}\n",
              "\n",
              "// Max number of bytes which will be uploaded at a time.\n",
              "const MAX_PAYLOAD_SIZE = 100 * 1024;\n",
              "\n",
              "function _uploadFiles(inputId, outputId) {\n",
              "  const steps = uploadFilesStep(inputId, outputId);\n",
              "  const outputElement = document.getElementById(outputId);\n",
              "  // Cache steps on the outputElement to make it available for the next call\n",
              "  // to uploadFilesContinue from Python.\n",
              "  outputElement.steps = steps;\n",
              "\n",
              "  return _uploadFilesContinue(outputId);\n",
              "}\n",
              "\n",
              "// This is roughly an async generator (not supported in the browser yet),\n",
              "// where there are multiple asynchronous steps and the Python side is going\n",
              "// to poll for completion of each step.\n",
              "// This uses a Promise to block the python side on completion of each step,\n",
              "// then passes the result of the previous step as the input to the next step.\n",
              "function _uploadFilesContinue(outputId) {\n",
              "  const outputElement = document.getElementById(outputId);\n",
              "  const steps = outputElement.steps;\n",
              "\n",
              "  const next = steps.next(outputElement.lastPromiseValue);\n",
              "  return Promise.resolve(next.value.promise).then((value) => {\n",
              "    // Cache the last promise value to make it available to the next\n",
              "    // step of the generator.\n",
              "    outputElement.lastPromiseValue = value;\n",
              "    return next.value.response;\n",
              "  });\n",
              "}\n",
              "\n",
              "/**\n",
              " * Generator function which is called between each async step of the upload\n",
              " * process.\n",
              " * @param {string} inputId Element ID of the input file picker element.\n",
              " * @param {string} outputId Element ID of the output display.\n",
              " * @return {!Iterable<!Object>} Iterable of next steps.\n",
              " */\n",
              "function* uploadFilesStep(inputId, outputId) {\n",
              "  const inputElement = document.getElementById(inputId);\n",
              "  inputElement.disabled = false;\n",
              "\n",
              "  const outputElement = document.getElementById(outputId);\n",
              "  outputElement.innerHTML = '';\n",
              "\n",
              "  const pickedPromise = new Promise((resolve) => {\n",
              "    inputElement.addEventListener('change', (e) => {\n",
              "      resolve(e.target.files);\n",
              "    });\n",
              "  });\n",
              "\n",
              "  const cancel = document.createElement('button');\n",
              "  inputElement.parentElement.appendChild(cancel);\n",
              "  cancel.textContent = 'Cancel upload';\n",
              "  const cancelPromise = new Promise((resolve) => {\n",
              "    cancel.onclick = () => {\n",
              "      resolve(null);\n",
              "    };\n",
              "  });\n",
              "\n",
              "  // Wait for the user to pick the files.\n",
              "  const files = yield {\n",
              "    promise: Promise.race([pickedPromise, cancelPromise]),\n",
              "    response: {\n",
              "      action: 'starting',\n",
              "    }\n",
              "  };\n",
              "\n",
              "  cancel.remove();\n",
              "\n",
              "  // Disable the input element since further picks are not allowed.\n",
              "  inputElement.disabled = true;\n",
              "\n",
              "  if (!files) {\n",
              "    return {\n",
              "      response: {\n",
              "        action: 'complete',\n",
              "      }\n",
              "    };\n",
              "  }\n",
              "\n",
              "  for (const file of files) {\n",
              "    const li = document.createElement('li');\n",
              "    li.append(span(file.name, {fontWeight: 'bold'}));\n",
              "    li.append(span(\n",
              "        `(${file.type || 'n/a'}) - ${file.size} bytes, ` +\n",
              "        `last modified: ${\n",
              "            file.lastModifiedDate ? file.lastModifiedDate.toLocaleDateString() :\n",
              "                                    'n/a'} - `));\n",
              "    const percent = span('0% done');\n",
              "    li.appendChild(percent);\n",
              "\n",
              "    outputElement.appendChild(li);\n",
              "\n",
              "    const fileDataPromise = new Promise((resolve) => {\n",
              "      const reader = new FileReader();\n",
              "      reader.onload = (e) => {\n",
              "        resolve(e.target.result);\n",
              "      };\n",
              "      reader.readAsArrayBuffer(file);\n",
              "    });\n",
              "    // Wait for the data to be ready.\n",
              "    let fileData = yield {\n",
              "      promise: fileDataPromise,\n",
              "      response: {\n",
              "        action: 'continue',\n",
              "      }\n",
              "    };\n",
              "\n",
              "    // Use a chunked sending to avoid message size limits. See b/62115660.\n",
              "    let position = 0;\n",
              "    do {\n",
              "      const length = Math.min(fileData.byteLength - position, MAX_PAYLOAD_SIZE);\n",
              "      const chunk = new Uint8Array(fileData, position, length);\n",
              "      position += length;\n",
              "\n",
              "      const base64 = btoa(String.fromCharCode.apply(null, chunk));\n",
              "      yield {\n",
              "        response: {\n",
              "          action: 'append',\n",
              "          file: file.name,\n",
              "          data: base64,\n",
              "        },\n",
              "      };\n",
              "\n",
              "      let percentDone = fileData.byteLength === 0 ?\n",
              "          100 :\n",
              "          Math.round((position / fileData.byteLength) * 100);\n",
              "      percent.textContent = `${percentDone}% done`;\n",
              "\n",
              "    } while (position < fileData.byteLength);\n",
              "  }\n",
              "\n",
              "  // All done.\n",
              "  yield {\n",
              "    response: {\n",
              "      action: 'complete',\n",
              "    }\n",
              "  };\n",
              "}\n",
              "\n",
              "scope.google = scope.google || {};\n",
              "scope.google.colab = scope.google.colab || {};\n",
              "scope.google.colab._files = {\n",
              "  _uploadFiles,\n",
              "  _uploadFilesContinue,\n",
              "};\n",
              "})(self);\n",
              "</script> "
            ],
            "text/plain": [
              "<IPython.core.display.HTML object>"
            ]
          },
          "metadata": {},
          "output_type": "display_data"
        },
        {
          "name": "stdout",
          "output_type": "stream",
          "text": [
            "Saving Test.csv to Test (1).csv\n",
            "Saving Train.csv to Train (3).csv\n"
          ]
        }
      ],
      "source": [
        "from google.colab import files\n",
        "uploaded = files.upload()"
      ]
    },
    {
      "cell_type": "markdown",
      "metadata": {
        "id": "4AHg7wkDkQQu"
      },
      "source": [
        "Lets import the required libraries:\n",
        "\n"
      ]
    },
    {
      "cell_type": "code",
      "execution_count": null,
      "metadata": {
        "colab": {
          "base_uri": "https://localhost:8080/",
          "height": 661
        },
        "id": "IKmqeMSBiFid",
        "outputId": "edd55c4f-bdc4-47ac-939a-67b57aa8b0e6"
      },
      "outputs": [
        {
          "data": {
            "text/html": [
              "\n",
              "  <div id=\"df-69a676a7-16dc-4e0d-8e81-8c8fec28c232\">\n",
              "    <div class=\"colab-df-container\">\n",
              "      <div>\n",
              "<style scoped>\n",
              "    .dataframe tbody tr th:only-of-type {\n",
              "        vertical-align: middle;\n",
              "    }\n",
              "\n",
              "    .dataframe tbody tr th {\n",
              "        vertical-align: top;\n",
              "    }\n",
              "\n",
              "    .dataframe thead th {\n",
              "        text-align: right;\n",
              "    }\n",
              "</style>\n",
              "<table border=\"1\" class=\"dataframe\">\n",
              "  <thead>\n",
              "    <tr style=\"text-align: right;\">\n",
              "      <th></th>\n",
              "      <th>Item_Identifier</th>\n",
              "      <th>Item_Weight</th>\n",
              "      <th>Item_Fat_Content</th>\n",
              "      <th>Item_Visibility</th>\n",
              "      <th>Item_Type</th>\n",
              "      <th>Item_MRP</th>\n",
              "      <th>Outlet_Identifier</th>\n",
              "      <th>Outlet_Establishment_Year</th>\n",
              "      <th>Outlet_Size</th>\n",
              "      <th>Outlet_Location_Type</th>\n",
              "      <th>Outlet_Type</th>\n",
              "      <th>Item_Outlet_Sales</th>\n",
              "    </tr>\n",
              "  </thead>\n",
              "  <tbody>\n",
              "    <tr>\n",
              "      <th>0</th>\n",
              "      <td>FDA15</td>\n",
              "      <td>9.300</td>\n",
              "      <td>Low Fat</td>\n",
              "      <td>0.016047</td>\n",
              "      <td>Dairy</td>\n",
              "      <td>249.8092</td>\n",
              "      <td>OUT049</td>\n",
              "      <td>1999</td>\n",
              "      <td>Medium</td>\n",
              "      <td>Tier 1</td>\n",
              "      <td>Supermarket Type1</td>\n",
              "      <td>3735.1380</td>\n",
              "    </tr>\n",
              "    <tr>\n",
              "      <th>1</th>\n",
              "      <td>DRC01</td>\n",
              "      <td>5.920</td>\n",
              "      <td>Regular</td>\n",
              "      <td>0.019278</td>\n",
              "      <td>Soft Drinks</td>\n",
              "      <td>48.2692</td>\n",
              "      <td>OUT018</td>\n",
              "      <td>2009</td>\n",
              "      <td>Medium</td>\n",
              "      <td>Tier 3</td>\n",
              "      <td>Supermarket Type2</td>\n",
              "      <td>443.4228</td>\n",
              "    </tr>\n",
              "    <tr>\n",
              "      <th>2</th>\n",
              "      <td>FDN15</td>\n",
              "      <td>17.500</td>\n",
              "      <td>Low Fat</td>\n",
              "      <td>0.016760</td>\n",
              "      <td>Meat</td>\n",
              "      <td>141.6180</td>\n",
              "      <td>OUT049</td>\n",
              "      <td>1999</td>\n",
              "      <td>Medium</td>\n",
              "      <td>Tier 1</td>\n",
              "      <td>Supermarket Type1</td>\n",
              "      <td>2097.2700</td>\n",
              "    </tr>\n",
              "    <tr>\n",
              "      <th>3</th>\n",
              "      <td>FDX07</td>\n",
              "      <td>19.200</td>\n",
              "      <td>Regular</td>\n",
              "      <td>0.000000</td>\n",
              "      <td>Fruits and Vegetables</td>\n",
              "      <td>182.0950</td>\n",
              "      <td>OUT010</td>\n",
              "      <td>1998</td>\n",
              "      <td>NaN</td>\n",
              "      <td>Tier 3</td>\n",
              "      <td>Grocery Store</td>\n",
              "      <td>732.3800</td>\n",
              "    </tr>\n",
              "    <tr>\n",
              "      <th>4</th>\n",
              "      <td>NCD19</td>\n",
              "      <td>8.930</td>\n",
              "      <td>Low Fat</td>\n",
              "      <td>0.000000</td>\n",
              "      <td>Household</td>\n",
              "      <td>53.8614</td>\n",
              "      <td>OUT013</td>\n",
              "      <td>1987</td>\n",
              "      <td>High</td>\n",
              "      <td>Tier 3</td>\n",
              "      <td>Supermarket Type1</td>\n",
              "      <td>994.7052</td>\n",
              "    </tr>\n",
              "    <tr>\n",
              "      <th>...</th>\n",
              "      <td>...</td>\n",
              "      <td>...</td>\n",
              "      <td>...</td>\n",
              "      <td>...</td>\n",
              "      <td>...</td>\n",
              "      <td>...</td>\n",
              "      <td>...</td>\n",
              "      <td>...</td>\n",
              "      <td>...</td>\n",
              "      <td>...</td>\n",
              "      <td>...</td>\n",
              "      <td>...</td>\n",
              "    </tr>\n",
              "    <tr>\n",
              "      <th>995</th>\n",
              "      <td>FDO34</td>\n",
              "      <td>17.700</td>\n",
              "      <td>Low Fat</td>\n",
              "      <td>0.050112</td>\n",
              "      <td>Snack Foods</td>\n",
              "      <td>165.9816</td>\n",
              "      <td>OUT010</td>\n",
              "      <td>1998</td>\n",
              "      <td>NaN</td>\n",
              "      <td>Tier 3</td>\n",
              "      <td>Grocery Store</td>\n",
              "      <td>167.7816</td>\n",
              "    </tr>\n",
              "    <tr>\n",
              "      <th>996</th>\n",
              "      <td>NCL30</td>\n",
              "      <td>18.100</td>\n",
              "      <td>Low Fat</td>\n",
              "      <td>0.048931</td>\n",
              "      <td>Household</td>\n",
              "      <td>127.3336</td>\n",
              "      <td>OUT035</td>\n",
              "      <td>2004</td>\n",
              "      <td>Small</td>\n",
              "      <td>Tier 2</td>\n",
              "      <td>Supermarket Type1</td>\n",
              "      <td>1150.5024</td>\n",
              "    </tr>\n",
              "    <tr>\n",
              "      <th>997</th>\n",
              "      <td>FDK28</td>\n",
              "      <td>5.695</td>\n",
              "      <td>Low Fat</td>\n",
              "      <td>0.065961</td>\n",
              "      <td>Frozen Foods</td>\n",
              "      <td>259.2646</td>\n",
              "      <td>OUT017</td>\n",
              "      <td>2007</td>\n",
              "      <td>NaN</td>\n",
              "      <td>Tier 2</td>\n",
              "      <td>Supermarket Type1</td>\n",
              "      <td>9275.9256</td>\n",
              "    </tr>\n",
              "    <tr>\n",
              "      <th>998</th>\n",
              "      <td>DRJ39</td>\n",
              "      <td>20.250</td>\n",
              "      <td>Low Fat</td>\n",
              "      <td>0.036319</td>\n",
              "      <td>Dairy</td>\n",
              "      <td>219.3482</td>\n",
              "      <td>OUT035</td>\n",
              "      <td>2004</td>\n",
              "      <td>Small</td>\n",
              "      <td>Tier 2</td>\n",
              "      <td>Supermarket Type1</td>\n",
              "      <td>5038.1086</td>\n",
              "    </tr>\n",
              "    <tr>\n",
              "      <th>999</th>\n",
              "      <td>NCP06</td>\n",
              "      <td>NaN</td>\n",
              "      <td>Low Fat</td>\n",
              "      <td>0.039056</td>\n",
              "      <td>Household</td>\n",
              "      <td>152.3366</td>\n",
              "      <td>OUT027</td>\n",
              "      <td>1985</td>\n",
              "      <td>Medium</td>\n",
              "      <td>Tier 3</td>\n",
              "      <td>Supermarket Type3</td>\n",
              "      <td>2115.9124</td>\n",
              "    </tr>\n",
              "  </tbody>\n",
              "</table>\n",
              "<p>1000 rows × 12 columns</p>\n",
              "</div>\n",
              "      <button class=\"colab-df-convert\" onclick=\"convertToInteractive('df-69a676a7-16dc-4e0d-8e81-8c8fec28c232')\"\n",
              "              title=\"Convert this dataframe to an interactive table.\"\n",
              "              style=\"display:none;\">\n",
              "        \n",
              "  <svg xmlns=\"http://www.w3.org/2000/svg\" height=\"24px\"viewBox=\"0 0 24 24\"\n",
              "       width=\"24px\">\n",
              "    <path d=\"M0 0h24v24H0V0z\" fill=\"none\"/>\n",
              "    <path d=\"M18.56 5.44l.94 2.06.94-2.06 2.06-.94-2.06-.94-.94-2.06-.94 2.06-2.06.94zm-11 1L8.5 8.5l.94-2.06 2.06-.94-2.06-.94L8.5 2.5l-.94 2.06-2.06.94zm10 10l.94 2.06.94-2.06 2.06-.94-2.06-.94-.94-2.06-.94 2.06-2.06.94z\"/><path d=\"M17.41 7.96l-1.37-1.37c-.4-.4-.92-.59-1.43-.59-.52 0-1.04.2-1.43.59L10.3 9.45l-7.72 7.72c-.78.78-.78 2.05 0 2.83L4 21.41c.39.39.9.59 1.41.59.51 0 1.02-.2 1.41-.59l7.78-7.78 2.81-2.81c.8-.78.8-2.07 0-2.86zM5.41 20L4 18.59l7.72-7.72 1.47 1.35L5.41 20z\"/>\n",
              "  </svg>\n",
              "      </button>\n",
              "      \n",
              "  <style>\n",
              "    .colab-df-container {\n",
              "      display:flex;\n",
              "      flex-wrap:wrap;\n",
              "      gap: 12px;\n",
              "    }\n",
              "\n",
              "    .colab-df-convert {\n",
              "      background-color: #E8F0FE;\n",
              "      border: none;\n",
              "      border-radius: 50%;\n",
              "      cursor: pointer;\n",
              "      display: none;\n",
              "      fill: #1967D2;\n",
              "      height: 32px;\n",
              "      padding: 0 0 0 0;\n",
              "      width: 32px;\n",
              "    }\n",
              "\n",
              "    .colab-df-convert:hover {\n",
              "      background-color: #E2EBFA;\n",
              "      box-shadow: 0px 1px 2px rgba(60, 64, 67, 0.3), 0px 1px 3px 1px rgba(60, 64, 67, 0.15);\n",
              "      fill: #174EA6;\n",
              "    }\n",
              "\n",
              "    [theme=dark] .colab-df-convert {\n",
              "      background-color: #3B4455;\n",
              "      fill: #D2E3FC;\n",
              "    }\n",
              "\n",
              "    [theme=dark] .colab-df-convert:hover {\n",
              "      background-color: #434B5C;\n",
              "      box-shadow: 0px 1px 3px 1px rgba(0, 0, 0, 0.15);\n",
              "      filter: drop-shadow(0px 1px 2px rgba(0, 0, 0, 0.3));\n",
              "      fill: #FFFFFF;\n",
              "    }\n",
              "  </style>\n",
              "\n",
              "      <script>\n",
              "        const buttonEl =\n",
              "          document.querySelector('#df-69a676a7-16dc-4e0d-8e81-8c8fec28c232 button.colab-df-convert');\n",
              "        buttonEl.style.display =\n",
              "          google.colab.kernel.accessAllowed ? 'block' : 'none';\n",
              "\n",
              "        async function convertToInteractive(key) {\n",
              "          const element = document.querySelector('#df-69a676a7-16dc-4e0d-8e81-8c8fec28c232');\n",
              "          const dataTable =\n",
              "            await google.colab.kernel.invokeFunction('convertToInteractive',\n",
              "                                                     [key], {});\n",
              "          if (!dataTable) return;\n",
              "\n",
              "          const docLinkHtml = 'Like what you see? Visit the ' +\n",
              "            '<a target=\"_blank\" href=https://colab.research.google.com/notebooks/data_table.ipynb>data table notebook</a>'\n",
              "            + ' to learn more about interactive tables.';\n",
              "          element.innerHTML = '';\n",
              "          dataTable['output_type'] = 'display_data';\n",
              "          await google.colab.output.renderOutput(dataTable, element);\n",
              "          const docLink = document.createElement('div');\n",
              "          docLink.innerHTML = docLinkHtml;\n",
              "          element.appendChild(docLink);\n",
              "        }\n",
              "      </script>\n",
              "    </div>\n",
              "  </div>\n",
              "  "
            ],
            "text/plain": [
              "    Item_Identifier  Item_Weight Item_Fat_Content  Item_Visibility  \\\n",
              "0             FDA15        9.300          Low Fat         0.016047   \n",
              "1             DRC01        5.920          Regular         0.019278   \n",
              "2             FDN15       17.500          Low Fat         0.016760   \n",
              "3             FDX07       19.200          Regular         0.000000   \n",
              "4             NCD19        8.930          Low Fat         0.000000   \n",
              "..              ...          ...              ...              ...   \n",
              "995           FDO34       17.700          Low Fat         0.050112   \n",
              "996           NCL30       18.100          Low Fat         0.048931   \n",
              "997           FDK28        5.695          Low Fat         0.065961   \n",
              "998           DRJ39       20.250          Low Fat         0.036319   \n",
              "999           NCP06          NaN          Low Fat         0.039056   \n",
              "\n",
              "                 Item_Type  Item_MRP Outlet_Identifier  \\\n",
              "0                    Dairy  249.8092            OUT049   \n",
              "1              Soft Drinks   48.2692            OUT018   \n",
              "2                     Meat  141.6180            OUT049   \n",
              "3    Fruits and Vegetables  182.0950            OUT010   \n",
              "4                Household   53.8614            OUT013   \n",
              "..                     ...       ...               ...   \n",
              "995            Snack Foods  165.9816            OUT010   \n",
              "996              Household  127.3336            OUT035   \n",
              "997           Frozen Foods  259.2646            OUT017   \n",
              "998                  Dairy  219.3482            OUT035   \n",
              "999              Household  152.3366            OUT027   \n",
              "\n",
              "     Outlet_Establishment_Year Outlet_Size Outlet_Location_Type  \\\n",
              "0                         1999      Medium               Tier 1   \n",
              "1                         2009      Medium               Tier 3   \n",
              "2                         1999      Medium               Tier 1   \n",
              "3                         1998         NaN               Tier 3   \n",
              "4                         1987        High               Tier 3   \n",
              "..                         ...         ...                  ...   \n",
              "995                       1998         NaN               Tier 3   \n",
              "996                       2004       Small               Tier 2   \n",
              "997                       2007         NaN               Tier 2   \n",
              "998                       2004       Small               Tier 2   \n",
              "999                       1985      Medium               Tier 3   \n",
              "\n",
              "           Outlet_Type  Item_Outlet_Sales  \n",
              "0    Supermarket Type1          3735.1380  \n",
              "1    Supermarket Type2           443.4228  \n",
              "2    Supermarket Type1          2097.2700  \n",
              "3        Grocery Store           732.3800  \n",
              "4    Supermarket Type1           994.7052  \n",
              "..                 ...                ...  \n",
              "995      Grocery Store           167.7816  \n",
              "996  Supermarket Type1          1150.5024  \n",
              "997  Supermarket Type1          9275.9256  \n",
              "998  Supermarket Type1          5038.1086  \n",
              "999  Supermarket Type3          2115.9124  \n",
              "\n",
              "[1000 rows x 12 columns]"
            ]
          },
          "execution_count": 129,
          "metadata": {},
          "output_type": "execute_result"
        }
      ],
      "source": [
        "import pandas as pd\n",
        "import numpy as np\n",
        "import io\n",
        "\n",
        "df1 = pd.read_csv(io.BytesIO(uploaded['Train.csv'])).head(1000)\n",
        "\n",
        "df1\n",
        "\n"
      ]
    },
    {
      "cell_type": "code",
      "execution_count": null,
      "metadata": {
        "colab": {
          "base_uri": "https://localhost:8080/",
          "height": 661
        },
        "id": "sWezpU2ggSI_",
        "outputId": "6c43ad81-f77e-49e8-906f-69c637dcbb4c"
      },
      "outputs": [
        {
          "data": {
            "text/html": [
              "\n",
              "  <div id=\"df-d7040bd3-2cdd-46f7-84ef-edf9b9eed5f7\">\n",
              "    <div class=\"colab-df-container\">\n",
              "      <div>\n",
              "<style scoped>\n",
              "    .dataframe tbody tr th:only-of-type {\n",
              "        vertical-align: middle;\n",
              "    }\n",
              "\n",
              "    .dataframe tbody tr th {\n",
              "        vertical-align: top;\n",
              "    }\n",
              "\n",
              "    .dataframe thead th {\n",
              "        text-align: right;\n",
              "    }\n",
              "</style>\n",
              "<table border=\"1\" class=\"dataframe\">\n",
              "  <thead>\n",
              "    <tr style=\"text-align: right;\">\n",
              "      <th></th>\n",
              "      <th>Item_Identifier</th>\n",
              "      <th>Item_Weight</th>\n",
              "      <th>Item_Fat_Content</th>\n",
              "      <th>Item_Visibility</th>\n",
              "      <th>Item_Type</th>\n",
              "      <th>Item_MRP</th>\n",
              "      <th>Outlet_Identifier</th>\n",
              "      <th>Outlet_Establishment_Year</th>\n",
              "      <th>Outlet_Size</th>\n",
              "      <th>Outlet_Location_Type</th>\n",
              "      <th>Outlet_Type</th>\n",
              "    </tr>\n",
              "  </thead>\n",
              "  <tbody>\n",
              "    <tr>\n",
              "      <th>0</th>\n",
              "      <td>FDW58</td>\n",
              "      <td>20.750</td>\n",
              "      <td>Low Fat</td>\n",
              "      <td>0.007565</td>\n",
              "      <td>Snack Foods</td>\n",
              "      <td>107.8622</td>\n",
              "      <td>OUT049</td>\n",
              "      <td>1999</td>\n",
              "      <td>Medium</td>\n",
              "      <td>Tier 1</td>\n",
              "      <td>Supermarket Type1</td>\n",
              "    </tr>\n",
              "    <tr>\n",
              "      <th>1</th>\n",
              "      <td>FDW14</td>\n",
              "      <td>8.300</td>\n",
              "      <td>reg</td>\n",
              "      <td>0.038428</td>\n",
              "      <td>Dairy</td>\n",
              "      <td>87.3198</td>\n",
              "      <td>OUT017</td>\n",
              "      <td>2007</td>\n",
              "      <td>NaN</td>\n",
              "      <td>Tier 2</td>\n",
              "      <td>Supermarket Type1</td>\n",
              "    </tr>\n",
              "    <tr>\n",
              "      <th>2</th>\n",
              "      <td>NCN55</td>\n",
              "      <td>14.600</td>\n",
              "      <td>Low Fat</td>\n",
              "      <td>0.099575</td>\n",
              "      <td>Others</td>\n",
              "      <td>241.7538</td>\n",
              "      <td>OUT010</td>\n",
              "      <td>1998</td>\n",
              "      <td>NaN</td>\n",
              "      <td>Tier 3</td>\n",
              "      <td>Grocery Store</td>\n",
              "    </tr>\n",
              "    <tr>\n",
              "      <th>3</th>\n",
              "      <td>FDQ58</td>\n",
              "      <td>7.315</td>\n",
              "      <td>Low Fat</td>\n",
              "      <td>0.015388</td>\n",
              "      <td>Snack Foods</td>\n",
              "      <td>155.0340</td>\n",
              "      <td>OUT017</td>\n",
              "      <td>2007</td>\n",
              "      <td>NaN</td>\n",
              "      <td>Tier 2</td>\n",
              "      <td>Supermarket Type1</td>\n",
              "    </tr>\n",
              "    <tr>\n",
              "      <th>4</th>\n",
              "      <td>FDY38</td>\n",
              "      <td>NaN</td>\n",
              "      <td>Regular</td>\n",
              "      <td>0.118599</td>\n",
              "      <td>Dairy</td>\n",
              "      <td>234.2300</td>\n",
              "      <td>OUT027</td>\n",
              "      <td>1985</td>\n",
              "      <td>Medium</td>\n",
              "      <td>Tier 3</td>\n",
              "      <td>Supermarket Type3</td>\n",
              "    </tr>\n",
              "    <tr>\n",
              "      <th>...</th>\n",
              "      <td>...</td>\n",
              "      <td>...</td>\n",
              "      <td>...</td>\n",
              "      <td>...</td>\n",
              "      <td>...</td>\n",
              "      <td>...</td>\n",
              "      <td>...</td>\n",
              "      <td>...</td>\n",
              "      <td>...</td>\n",
              "      <td>...</td>\n",
              "      <td>...</td>\n",
              "    </tr>\n",
              "    <tr>\n",
              "      <th>995</th>\n",
              "      <td>FDK52</td>\n",
              "      <td>18.250</td>\n",
              "      <td>Low Fat</td>\n",
              "      <td>0.079219</td>\n",
              "      <td>Frozen Foods</td>\n",
              "      <td>227.0062</td>\n",
              "      <td>OUT046</td>\n",
              "      <td>1997</td>\n",
              "      <td>Small</td>\n",
              "      <td>Tier 1</td>\n",
              "      <td>Supermarket Type1</td>\n",
              "    </tr>\n",
              "    <tr>\n",
              "      <th>996</th>\n",
              "      <td>FDA02</td>\n",
              "      <td>14.000</td>\n",
              "      <td>reg</td>\n",
              "      <td>0.029891</td>\n",
              "      <td>Dairy</td>\n",
              "      <td>146.3786</td>\n",
              "      <td>OUT017</td>\n",
              "      <td>2007</td>\n",
              "      <td>NaN</td>\n",
              "      <td>Tier 2</td>\n",
              "      <td>Supermarket Type1</td>\n",
              "    </tr>\n",
              "    <tr>\n",
              "      <th>997</th>\n",
              "      <td>FDM56</td>\n",
              "      <td>16.700</td>\n",
              "      <td>Low Fat</td>\n",
              "      <td>0.070301</td>\n",
              "      <td>Fruits and Vegetables</td>\n",
              "      <td>109.3912</td>\n",
              "      <td>OUT049</td>\n",
              "      <td>1999</td>\n",
              "      <td>Medium</td>\n",
              "      <td>Tier 1</td>\n",
              "      <td>Supermarket Type1</td>\n",
              "    </tr>\n",
              "    <tr>\n",
              "      <th>998</th>\n",
              "      <td>FDE57</td>\n",
              "      <td>9.600</td>\n",
              "      <td>LF</td>\n",
              "      <td>0.036278</td>\n",
              "      <td>Fruits and Vegetables</td>\n",
              "      <td>141.4154</td>\n",
              "      <td>OUT035</td>\n",
              "      <td>2004</td>\n",
              "      <td>Small</td>\n",
              "      <td>Tier 2</td>\n",
              "      <td>Supermarket Type1</td>\n",
              "    </tr>\n",
              "    <tr>\n",
              "      <th>999</th>\n",
              "      <td>FDM32</td>\n",
              "      <td>20.500</td>\n",
              "      <td>Low Fat</td>\n",
              "      <td>0.020647</td>\n",
              "      <td>Fruits and Vegetables</td>\n",
              "      <td>88.7830</td>\n",
              "      <td>OUT045</td>\n",
              "      <td>2002</td>\n",
              "      <td>NaN</td>\n",
              "      <td>Tier 2</td>\n",
              "      <td>Supermarket Type1</td>\n",
              "    </tr>\n",
              "  </tbody>\n",
              "</table>\n",
              "<p>1000 rows × 11 columns</p>\n",
              "</div>\n",
              "      <button class=\"colab-df-convert\" onclick=\"convertToInteractive('df-d7040bd3-2cdd-46f7-84ef-edf9b9eed5f7')\"\n",
              "              title=\"Convert this dataframe to an interactive table.\"\n",
              "              style=\"display:none;\">\n",
              "        \n",
              "  <svg xmlns=\"http://www.w3.org/2000/svg\" height=\"24px\"viewBox=\"0 0 24 24\"\n",
              "       width=\"24px\">\n",
              "    <path d=\"M0 0h24v24H0V0z\" fill=\"none\"/>\n",
              "    <path d=\"M18.56 5.44l.94 2.06.94-2.06 2.06-.94-2.06-.94-.94-2.06-.94 2.06-2.06.94zm-11 1L8.5 8.5l.94-2.06 2.06-.94-2.06-.94L8.5 2.5l-.94 2.06-2.06.94zm10 10l.94 2.06.94-2.06 2.06-.94-2.06-.94-.94-2.06-.94 2.06-2.06.94z\"/><path d=\"M17.41 7.96l-1.37-1.37c-.4-.4-.92-.59-1.43-.59-.52 0-1.04.2-1.43.59L10.3 9.45l-7.72 7.72c-.78.78-.78 2.05 0 2.83L4 21.41c.39.39.9.59 1.41.59.51 0 1.02-.2 1.41-.59l7.78-7.78 2.81-2.81c.8-.78.8-2.07 0-2.86zM5.41 20L4 18.59l7.72-7.72 1.47 1.35L5.41 20z\"/>\n",
              "  </svg>\n",
              "      </button>\n",
              "      \n",
              "  <style>\n",
              "    .colab-df-container {\n",
              "      display:flex;\n",
              "      flex-wrap:wrap;\n",
              "      gap: 12px;\n",
              "    }\n",
              "\n",
              "    .colab-df-convert {\n",
              "      background-color: #E8F0FE;\n",
              "      border: none;\n",
              "      border-radius: 50%;\n",
              "      cursor: pointer;\n",
              "      display: none;\n",
              "      fill: #1967D2;\n",
              "      height: 32px;\n",
              "      padding: 0 0 0 0;\n",
              "      width: 32px;\n",
              "    }\n",
              "\n",
              "    .colab-df-convert:hover {\n",
              "      background-color: #E2EBFA;\n",
              "      box-shadow: 0px 1px 2px rgba(60, 64, 67, 0.3), 0px 1px 3px 1px rgba(60, 64, 67, 0.15);\n",
              "      fill: #174EA6;\n",
              "    }\n",
              "\n",
              "    [theme=dark] .colab-df-convert {\n",
              "      background-color: #3B4455;\n",
              "      fill: #D2E3FC;\n",
              "    }\n",
              "\n",
              "    [theme=dark] .colab-df-convert:hover {\n",
              "      background-color: #434B5C;\n",
              "      box-shadow: 0px 1px 3px 1px rgba(0, 0, 0, 0.15);\n",
              "      filter: drop-shadow(0px 1px 2px rgba(0, 0, 0, 0.3));\n",
              "      fill: #FFFFFF;\n",
              "    }\n",
              "  </style>\n",
              "\n",
              "      <script>\n",
              "        const buttonEl =\n",
              "          document.querySelector('#df-d7040bd3-2cdd-46f7-84ef-edf9b9eed5f7 button.colab-df-convert');\n",
              "        buttonEl.style.display =\n",
              "          google.colab.kernel.accessAllowed ? 'block' : 'none';\n",
              "\n",
              "        async function convertToInteractive(key) {\n",
              "          const element = document.querySelector('#df-d7040bd3-2cdd-46f7-84ef-edf9b9eed5f7');\n",
              "          const dataTable =\n",
              "            await google.colab.kernel.invokeFunction('convertToInteractive',\n",
              "                                                     [key], {});\n",
              "          if (!dataTable) return;\n",
              "\n",
              "          const docLinkHtml = 'Like what you see? Visit the ' +\n",
              "            '<a target=\"_blank\" href=https://colab.research.google.com/notebooks/data_table.ipynb>data table notebook</a>'\n",
              "            + ' to learn more about interactive tables.';\n",
              "          element.innerHTML = '';\n",
              "          dataTable['output_type'] = 'display_data';\n",
              "          await google.colab.output.renderOutput(dataTable, element);\n",
              "          const docLink = document.createElement('div');\n",
              "          docLink.innerHTML = docLinkHtml;\n",
              "          element.appendChild(docLink);\n",
              "        }\n",
              "      </script>\n",
              "    </div>\n",
              "  </div>\n",
              "  "
            ],
            "text/plain": [
              "    Item_Identifier  Item_Weight Item_Fat_Content  Item_Visibility  \\\n",
              "0             FDW58       20.750          Low Fat         0.007565   \n",
              "1             FDW14        8.300              reg         0.038428   \n",
              "2             NCN55       14.600          Low Fat         0.099575   \n",
              "3             FDQ58        7.315          Low Fat         0.015388   \n",
              "4             FDY38          NaN          Regular         0.118599   \n",
              "..              ...          ...              ...              ...   \n",
              "995           FDK52       18.250          Low Fat         0.079219   \n",
              "996           FDA02       14.000              reg         0.029891   \n",
              "997           FDM56       16.700          Low Fat         0.070301   \n",
              "998           FDE57        9.600               LF         0.036278   \n",
              "999           FDM32       20.500          Low Fat         0.020647   \n",
              "\n",
              "                 Item_Type  Item_MRP Outlet_Identifier  \\\n",
              "0              Snack Foods  107.8622            OUT049   \n",
              "1                    Dairy   87.3198            OUT017   \n",
              "2                   Others  241.7538            OUT010   \n",
              "3              Snack Foods  155.0340            OUT017   \n",
              "4                    Dairy  234.2300            OUT027   \n",
              "..                     ...       ...               ...   \n",
              "995           Frozen Foods  227.0062            OUT046   \n",
              "996                  Dairy  146.3786            OUT017   \n",
              "997  Fruits and Vegetables  109.3912            OUT049   \n",
              "998  Fruits and Vegetables  141.4154            OUT035   \n",
              "999  Fruits and Vegetables   88.7830            OUT045   \n",
              "\n",
              "     Outlet_Establishment_Year Outlet_Size Outlet_Location_Type  \\\n",
              "0                         1999      Medium               Tier 1   \n",
              "1                         2007         NaN               Tier 2   \n",
              "2                         1998         NaN               Tier 3   \n",
              "3                         2007         NaN               Tier 2   \n",
              "4                         1985      Medium               Tier 3   \n",
              "..                         ...         ...                  ...   \n",
              "995                       1997       Small               Tier 1   \n",
              "996                       2007         NaN               Tier 2   \n",
              "997                       1999      Medium               Tier 1   \n",
              "998                       2004       Small               Tier 2   \n",
              "999                       2002         NaN               Tier 2   \n",
              "\n",
              "           Outlet_Type  \n",
              "0    Supermarket Type1  \n",
              "1    Supermarket Type1  \n",
              "2        Grocery Store  \n",
              "3    Supermarket Type1  \n",
              "4    Supermarket Type3  \n",
              "..                 ...  \n",
              "995  Supermarket Type1  \n",
              "996  Supermarket Type1  \n",
              "997  Supermarket Type1  \n",
              "998  Supermarket Type1  \n",
              "999  Supermarket Type1  \n",
              "\n",
              "[1000 rows x 11 columns]"
            ]
          },
          "execution_count": 130,
          "metadata": {},
          "output_type": "execute_result"
        }
      ],
      "source": [
        "df2 = pd.read_csv(io.BytesIO(uploaded['Test.csv'])).head(1000)\n",
        "df2\n"
      ]
    },
    {
      "cell_type": "markdown",
      "metadata": {
        "id": "sgU2RIqHtrBo"
      },
      "source": [
        "###Data Structure and Content:\n"
      ]
    },
    {
      "cell_type": "code",
      "execution_count": null,
      "metadata": {
        "colab": {
          "base_uri": "https://localhost:8080/"
        },
        "id": "Sxsiwn66uRPr",
        "outputId": "c913439d-0697-4988-a03c-829ba4bb98e4"
      },
      "outputs": [
        {
          "data": {
            "text/plain": [
              "(1000, 12)"
            ]
          },
          "execution_count": 131,
          "metadata": {},
          "output_type": "execute_result"
        }
      ],
      "source": [
        "df1.shape"
      ]
    },
    {
      "cell_type": "code",
      "execution_count": null,
      "metadata": {
        "colab": {
          "base_uri": "https://localhost:8080/"
        },
        "id": "sE-UoT0buWgK",
        "outputId": "64cb0c53-6175-482c-f723-33e4df89e827"
      },
      "outputs": [
        {
          "data": {
            "text/plain": [
              "Index(['Item_Identifier', 'Item_Weight', 'Item_Fat_Content', 'Item_Visibility',\n",
              "       'Item_Type', 'Item_MRP', 'Outlet_Identifier',\n",
              "       'Outlet_Establishment_Year', 'Outlet_Size', 'Outlet_Location_Type',\n",
              "       'Outlet_Type', 'Item_Outlet_Sales'],\n",
              "      dtype='object')"
            ]
          },
          "execution_count": 132,
          "metadata": {},
          "output_type": "execute_result"
        }
      ],
      "source": [
        "df1.columns"
      ]
    },
    {
      "cell_type": "code",
      "execution_count": null,
      "metadata": {
        "colab": {
          "base_uri": "https://localhost:8080/"
        },
        "id": "fBQ35aIku6Hh",
        "outputId": "e3226710-a868-4358-bbbd-68112f59c5cb"
      },
      "outputs": [
        {
          "data": {
            "text/plain": [
              "<bound method DataFrame.info of     Item_Identifier  Item_Weight Item_Fat_Content  Item_Visibility  \\\n",
              "0             FDA15        9.300          Low Fat         0.016047   \n",
              "1             DRC01        5.920          Regular         0.019278   \n",
              "2             FDN15       17.500          Low Fat         0.016760   \n",
              "3             FDX07       19.200          Regular         0.000000   \n",
              "4             NCD19        8.930          Low Fat         0.000000   \n",
              "..              ...          ...              ...              ...   \n",
              "995           FDO34       17.700          Low Fat         0.050112   \n",
              "996           NCL30       18.100          Low Fat         0.048931   \n",
              "997           FDK28        5.695          Low Fat         0.065961   \n",
              "998           DRJ39       20.250          Low Fat         0.036319   \n",
              "999           NCP06          NaN          Low Fat         0.039056   \n",
              "\n",
              "                 Item_Type  Item_MRP Outlet_Identifier  \\\n",
              "0                    Dairy  249.8092            OUT049   \n",
              "1              Soft Drinks   48.2692            OUT018   \n",
              "2                     Meat  141.6180            OUT049   \n",
              "3    Fruits and Vegetables  182.0950            OUT010   \n",
              "4                Household   53.8614            OUT013   \n",
              "..                     ...       ...               ...   \n",
              "995            Snack Foods  165.9816            OUT010   \n",
              "996              Household  127.3336            OUT035   \n",
              "997           Frozen Foods  259.2646            OUT017   \n",
              "998                  Dairy  219.3482            OUT035   \n",
              "999              Household  152.3366            OUT027   \n",
              "\n",
              "     Outlet_Establishment_Year Outlet_Size Outlet_Location_Type  \\\n",
              "0                         1999      Medium               Tier 1   \n",
              "1                         2009      Medium               Tier 3   \n",
              "2                         1999      Medium               Tier 1   \n",
              "3                         1998         NaN               Tier 3   \n",
              "4                         1987        High               Tier 3   \n",
              "..                         ...         ...                  ...   \n",
              "995                       1998         NaN               Tier 3   \n",
              "996                       2004       Small               Tier 2   \n",
              "997                       2007         NaN               Tier 2   \n",
              "998                       2004       Small               Tier 2   \n",
              "999                       1985      Medium               Tier 3   \n",
              "\n",
              "           Outlet_Type  Item_Outlet_Sales  \n",
              "0    Supermarket Type1          3735.1380  \n",
              "1    Supermarket Type2           443.4228  \n",
              "2    Supermarket Type1          2097.2700  \n",
              "3        Grocery Store           732.3800  \n",
              "4    Supermarket Type1           994.7052  \n",
              "..                 ...                ...  \n",
              "995      Grocery Store           167.7816  \n",
              "996  Supermarket Type1          1150.5024  \n",
              "997  Supermarket Type1          9275.9256  \n",
              "998  Supermarket Type1          5038.1086  \n",
              "999  Supermarket Type3          2115.9124  \n",
              "\n",
              "[1000 rows x 12 columns]>"
            ]
          },
          "execution_count": 133,
          "metadata": {},
          "output_type": "execute_result"
        }
      ],
      "source": [
        "df1.info"
      ]
    },
    {
      "cell_type": "markdown",
      "metadata": {
        "id": "Fdaz2JqtvFc_"
      },
      "source": [
        "###Exploratory Data Analysis:"
      ]
    },
    {
      "cell_type": "markdown",
      "metadata": {
        "id": "cEkqBGazxm4I"
      },
      "source": [
        "EDA Outliers:"
      ]
    },
    {
      "cell_type": "code",
      "execution_count": null,
      "metadata": {
        "colab": {
          "base_uri": "https://localhost:8080/"
        },
        "id": "kBkmYOUtxRjo",
        "outputId": "598b3d9e-aedb-4b7b-cd1c-81a7b8f74250"
      },
      "outputs": [
        {
          "data": {
            "text/plain": [
              "Item_Identifier               object\n",
              "Item_Weight                  float64\n",
              "Item_Fat_Content              object\n",
              "Item_Visibility              float64\n",
              "Item_Type                     object\n",
              "Item_MRP                     float64\n",
              "Outlet_Identifier             object\n",
              "Outlet_Establishment_Year      int64\n",
              "Outlet_Size                   object\n",
              "Outlet_Location_Type          object\n",
              "Outlet_Type                   object\n",
              "Item_Outlet_Sales            float64\n",
              "dtype: object"
            ]
          },
          "execution_count": 134,
          "metadata": {},
          "output_type": "execute_result"
        }
      ],
      "source": [
        "df1.dtypes"
      ]
    },
    {
      "cell_type": "code",
      "execution_count": null,
      "metadata": {
        "colab": {
          "base_uri": "https://localhost:8080/",
          "height": 300
        },
        "id": "w29WKBaFvNGf",
        "outputId": "07a33c6d-9471-4a59-ec4d-84e392ac5974"
      },
      "outputs": [
        {
          "data": {
            "text/html": [
              "\n",
              "  <div id=\"df-12dbfd69-2bd4-4f99-ad2b-cc1c185c778e\">\n",
              "    <div class=\"colab-df-container\">\n",
              "      <div>\n",
              "<style scoped>\n",
              "    .dataframe tbody tr th:only-of-type {\n",
              "        vertical-align: middle;\n",
              "    }\n",
              "\n",
              "    .dataframe tbody tr th {\n",
              "        vertical-align: top;\n",
              "    }\n",
              "\n",
              "    .dataframe thead th {\n",
              "        text-align: right;\n",
              "    }\n",
              "</style>\n",
              "<table border=\"1\" class=\"dataframe\">\n",
              "  <thead>\n",
              "    <tr style=\"text-align: right;\">\n",
              "      <th></th>\n",
              "      <th>Item_Weight</th>\n",
              "      <th>Item_Visibility</th>\n",
              "      <th>Item_MRP</th>\n",
              "      <th>Outlet_Establishment_Year</th>\n",
              "      <th>Item_Outlet_Sales</th>\n",
              "    </tr>\n",
              "  </thead>\n",
              "  <tbody>\n",
              "    <tr>\n",
              "      <th>count</th>\n",
              "      <td>814.000000</td>\n",
              "      <td>1000.000000</td>\n",
              "      <td>1000.000000</td>\n",
              "      <td>1000.000000</td>\n",
              "      <td>1000.000000</td>\n",
              "    </tr>\n",
              "    <tr>\n",
              "      <th>mean</th>\n",
              "      <td>13.032138</td>\n",
              "      <td>0.066694</td>\n",
              "      <td>138.100303</td>\n",
              "      <td>1997.389000</td>\n",
              "      <td>2190.633137</td>\n",
              "    </tr>\n",
              "    <tr>\n",
              "      <th>std</th>\n",
              "      <td>4.724259</td>\n",
              "      <td>0.052238</td>\n",
              "      <td>62.152665</td>\n",
              "      <td>8.417989</td>\n",
              "      <td>1758.717873</td>\n",
              "    </tr>\n",
              "    <tr>\n",
              "      <th>min</th>\n",
              "      <td>4.610000</td>\n",
              "      <td>0.000000</td>\n",
              "      <td>31.290000</td>\n",
              "      <td>1985.000000</td>\n",
              "      <td>33.290000</td>\n",
              "    </tr>\n",
              "    <tr>\n",
              "      <th>25%</th>\n",
              "      <td>8.801250</td>\n",
              "      <td>0.026658</td>\n",
              "      <td>90.055400</td>\n",
              "      <td>1987.000000</td>\n",
              "      <td>807.116050</td>\n",
              "    </tr>\n",
              "    <tr>\n",
              "      <th>50%</th>\n",
              "      <td>13.000000</td>\n",
              "      <td>0.054691</td>\n",
              "      <td>140.099600</td>\n",
              "      <td>1999.000000</td>\n",
              "      <td>1757.712000</td>\n",
              "    </tr>\n",
              "    <tr>\n",
              "      <th>75%</th>\n",
              "      <td>17.250000</td>\n",
              "      <td>0.095443</td>\n",
              "      <td>182.662750</td>\n",
              "      <td>2004.000000</td>\n",
              "      <td>3087.314600</td>\n",
              "    </tr>\n",
              "    <tr>\n",
              "      <th>max</th>\n",
              "      <td>21.350000</td>\n",
              "      <td>0.328391</td>\n",
              "      <td>265.222600</td>\n",
              "      <td>2009.000000</td>\n",
              "      <td>9275.925600</td>\n",
              "    </tr>\n",
              "  </tbody>\n",
              "</table>\n",
              "</div>\n",
              "      <button class=\"colab-df-convert\" onclick=\"convertToInteractive('df-12dbfd69-2bd4-4f99-ad2b-cc1c185c778e')\"\n",
              "              title=\"Convert this dataframe to an interactive table.\"\n",
              "              style=\"display:none;\">\n",
              "        \n",
              "  <svg xmlns=\"http://www.w3.org/2000/svg\" height=\"24px\"viewBox=\"0 0 24 24\"\n",
              "       width=\"24px\">\n",
              "    <path d=\"M0 0h24v24H0V0z\" fill=\"none\"/>\n",
              "    <path d=\"M18.56 5.44l.94 2.06.94-2.06 2.06-.94-2.06-.94-.94-2.06-.94 2.06-2.06.94zm-11 1L8.5 8.5l.94-2.06 2.06-.94-2.06-.94L8.5 2.5l-.94 2.06-2.06.94zm10 10l.94 2.06.94-2.06 2.06-.94-2.06-.94-.94-2.06-.94 2.06-2.06.94z\"/><path d=\"M17.41 7.96l-1.37-1.37c-.4-.4-.92-.59-1.43-.59-.52 0-1.04.2-1.43.59L10.3 9.45l-7.72 7.72c-.78.78-.78 2.05 0 2.83L4 21.41c.39.39.9.59 1.41.59.51 0 1.02-.2 1.41-.59l7.78-7.78 2.81-2.81c.8-.78.8-2.07 0-2.86zM5.41 20L4 18.59l7.72-7.72 1.47 1.35L5.41 20z\"/>\n",
              "  </svg>\n",
              "      </button>\n",
              "      \n",
              "  <style>\n",
              "    .colab-df-container {\n",
              "      display:flex;\n",
              "      flex-wrap:wrap;\n",
              "      gap: 12px;\n",
              "    }\n",
              "\n",
              "    .colab-df-convert {\n",
              "      background-color: #E8F0FE;\n",
              "      border: none;\n",
              "      border-radius: 50%;\n",
              "      cursor: pointer;\n",
              "      display: none;\n",
              "      fill: #1967D2;\n",
              "      height: 32px;\n",
              "      padding: 0 0 0 0;\n",
              "      width: 32px;\n",
              "    }\n",
              "\n",
              "    .colab-df-convert:hover {\n",
              "      background-color: #E2EBFA;\n",
              "      box-shadow: 0px 1px 2px rgba(60, 64, 67, 0.3), 0px 1px 3px 1px rgba(60, 64, 67, 0.15);\n",
              "      fill: #174EA6;\n",
              "    }\n",
              "\n",
              "    [theme=dark] .colab-df-convert {\n",
              "      background-color: #3B4455;\n",
              "      fill: #D2E3FC;\n",
              "    }\n",
              "\n",
              "    [theme=dark] .colab-df-convert:hover {\n",
              "      background-color: #434B5C;\n",
              "      box-shadow: 0px 1px 3px 1px rgba(0, 0, 0, 0.15);\n",
              "      filter: drop-shadow(0px 1px 2px rgba(0, 0, 0, 0.3));\n",
              "      fill: #FFFFFF;\n",
              "    }\n",
              "  </style>\n",
              "\n",
              "      <script>\n",
              "        const buttonEl =\n",
              "          document.querySelector('#df-12dbfd69-2bd4-4f99-ad2b-cc1c185c778e button.colab-df-convert');\n",
              "        buttonEl.style.display =\n",
              "          google.colab.kernel.accessAllowed ? 'block' : 'none';\n",
              "\n",
              "        async function convertToInteractive(key) {\n",
              "          const element = document.querySelector('#df-12dbfd69-2bd4-4f99-ad2b-cc1c185c778e');\n",
              "          const dataTable =\n",
              "            await google.colab.kernel.invokeFunction('convertToInteractive',\n",
              "                                                     [key], {});\n",
              "          if (!dataTable) return;\n",
              "\n",
              "          const docLinkHtml = 'Like what you see? Visit the ' +\n",
              "            '<a target=\"_blank\" href=https://colab.research.google.com/notebooks/data_table.ipynb>data table notebook</a>'\n",
              "            + ' to learn more about interactive tables.';\n",
              "          element.innerHTML = '';\n",
              "          dataTable['output_type'] = 'display_data';\n",
              "          await google.colab.output.renderOutput(dataTable, element);\n",
              "          const docLink = document.createElement('div');\n",
              "          docLink.innerHTML = docLinkHtml;\n",
              "          element.appendChild(docLink);\n",
              "        }\n",
              "      </script>\n",
              "    </div>\n",
              "  </div>\n",
              "  "
            ],
            "text/plain": [
              "       Item_Weight  Item_Visibility     Item_MRP  Outlet_Establishment_Year  \\\n",
              "count   814.000000      1000.000000  1000.000000                1000.000000   \n",
              "mean     13.032138         0.066694   138.100303                1997.389000   \n",
              "std       4.724259         0.052238    62.152665                   8.417989   \n",
              "min       4.610000         0.000000    31.290000                1985.000000   \n",
              "25%       8.801250         0.026658    90.055400                1987.000000   \n",
              "50%      13.000000         0.054691   140.099600                1999.000000   \n",
              "75%      17.250000         0.095443   182.662750                2004.000000   \n",
              "max      21.350000         0.328391   265.222600                2009.000000   \n",
              "\n",
              "       Item_Outlet_Sales  \n",
              "count        1000.000000  \n",
              "mean         2190.633137  \n",
              "std          1758.717873  \n",
              "min            33.290000  \n",
              "25%           807.116050  \n",
              "50%          1757.712000  \n",
              "75%          3087.314600  \n",
              "max          9275.925600  "
            ]
          },
          "execution_count": 135,
          "metadata": {},
          "output_type": "execute_result"
        }
      ],
      "source": [
        "df1.describe()"
      ]
    },
    {
      "cell_type": "code",
      "execution_count": null,
      "metadata": {
        "colab": {
          "base_uri": "https://localhost:8080/"
        },
        "id": "SAirsAuPvSdl",
        "outputId": "47de8721-ad20-4a5c-e884-cab0b96feb13"
      },
      "outputs": [
        {
          "data": {
            "text/plain": [
              "Item_Identifier                0\n",
              "Item_Weight                  186\n",
              "Item_Fat_Content               0\n",
              "Item_Visibility                0\n",
              "Item_Type                      0\n",
              "Item_MRP                       0\n",
              "Outlet_Identifier              0\n",
              "Outlet_Establishment_Year      0\n",
              "Outlet_Size                  284\n",
              "Outlet_Location_Type           0\n",
              "Outlet_Type                    0\n",
              "Item_Outlet_Sales              0\n",
              "dtype: int64"
            ]
          },
          "execution_count": 136,
          "metadata": {},
          "output_type": "execute_result"
        }
      ],
      "source": [
        "df1.isna().sum()"
      ]
    },
    {
      "cell_type": "code",
      "execution_count": null,
      "metadata": {
        "colab": {
          "base_uri": "https://localhost:8080/"
        },
        "id": "LMQS5dAExEL_",
        "outputId": "8417f6f2-016b-450c-e157-354f0da5c802"
      },
      "outputs": [
        {
          "data": {
            "text/plain": [
              "Item_Identifier                0\n",
              "Item_Weight                  186\n",
              "Item_Fat_Content               0\n",
              "Item_Visibility                0\n",
              "Item_Type                      0\n",
              "Item_MRP                       0\n",
              "Outlet_Identifier              0\n",
              "Outlet_Establishment_Year      0\n",
              "Outlet_Size                  284\n",
              "Outlet_Location_Type           0\n",
              "Outlet_Type                    0\n",
              "Item_Outlet_Sales              0\n",
              "dtype: int64"
            ]
          },
          "execution_count": 137,
          "metadata": {},
          "output_type": "execute_result"
        }
      ],
      "source": [
        "df1.isnull().sum()"
      ]
    },
    {
      "cell_type": "code",
      "execution_count": null,
      "metadata": {
        "colab": {
          "base_uri": "https://localhost:8080/",
          "height": 206
        },
        "id": "a_njD572vz_a",
        "outputId": "6c2527c3-75c0-4a8a-bcc0-c095a09a81b6"
      },
      "outputs": [
        {
          "data": {
            "text/html": [
              "\n",
              "  <div id=\"df-bb2ac4cc-ff0e-4375-ba75-872a1595dadb\">\n",
              "    <div class=\"colab-df-container\">\n",
              "      <div>\n",
              "<style scoped>\n",
              "    .dataframe tbody tr th:only-of-type {\n",
              "        vertical-align: middle;\n",
              "    }\n",
              "\n",
              "    .dataframe tbody tr th {\n",
              "        vertical-align: top;\n",
              "    }\n",
              "\n",
              "    .dataframe thead th {\n",
              "        text-align: right;\n",
              "    }\n",
              "</style>\n",
              "<table border=\"1\" class=\"dataframe\">\n",
              "  <thead>\n",
              "    <tr style=\"text-align: right;\">\n",
              "      <th></th>\n",
              "      <th>Item_Weight</th>\n",
              "      <th>Item_Visibility</th>\n",
              "      <th>Item_MRP</th>\n",
              "      <th>Outlet_Establishment_Year</th>\n",
              "      <th>Item_Outlet_Sales</th>\n",
              "    </tr>\n",
              "  </thead>\n",
              "  <tbody>\n",
              "    <tr>\n",
              "      <th>Item_Weight</th>\n",
              "      <td>1.000000</td>\n",
              "      <td>-0.020027</td>\n",
              "      <td>0.052249</td>\n",
              "      <td>-0.013017</td>\n",
              "      <td>0.013830</td>\n",
              "    </tr>\n",
              "    <tr>\n",
              "      <th>Item_Visibility</th>\n",
              "      <td>-0.020027</td>\n",
              "      <td>1.000000</td>\n",
              "      <td>0.012226</td>\n",
              "      <td>-0.114948</td>\n",
              "      <td>-0.093142</td>\n",
              "    </tr>\n",
              "    <tr>\n",
              "      <th>Item_MRP</th>\n",
              "      <td>0.052249</td>\n",
              "      <td>0.012226</td>\n",
              "      <td>1.000000</td>\n",
              "      <td>0.055565</td>\n",
              "      <td>0.581664</td>\n",
              "    </tr>\n",
              "    <tr>\n",
              "      <th>Outlet_Establishment_Year</th>\n",
              "      <td>-0.013017</td>\n",
              "      <td>-0.114948</td>\n",
              "      <td>0.055565</td>\n",
              "      <td>1.000000</td>\n",
              "      <td>-0.024841</td>\n",
              "    </tr>\n",
              "    <tr>\n",
              "      <th>Item_Outlet_Sales</th>\n",
              "      <td>0.013830</td>\n",
              "      <td>-0.093142</td>\n",
              "      <td>0.581664</td>\n",
              "      <td>-0.024841</td>\n",
              "      <td>1.000000</td>\n",
              "    </tr>\n",
              "  </tbody>\n",
              "</table>\n",
              "</div>\n",
              "      <button class=\"colab-df-convert\" onclick=\"convertToInteractive('df-bb2ac4cc-ff0e-4375-ba75-872a1595dadb')\"\n",
              "              title=\"Convert this dataframe to an interactive table.\"\n",
              "              style=\"display:none;\">\n",
              "        \n",
              "  <svg xmlns=\"http://www.w3.org/2000/svg\" height=\"24px\"viewBox=\"0 0 24 24\"\n",
              "       width=\"24px\">\n",
              "    <path d=\"M0 0h24v24H0V0z\" fill=\"none\"/>\n",
              "    <path d=\"M18.56 5.44l.94 2.06.94-2.06 2.06-.94-2.06-.94-.94-2.06-.94 2.06-2.06.94zm-11 1L8.5 8.5l.94-2.06 2.06-.94-2.06-.94L8.5 2.5l-.94 2.06-2.06.94zm10 10l.94 2.06.94-2.06 2.06-.94-2.06-.94-.94-2.06-.94 2.06-2.06.94z\"/><path d=\"M17.41 7.96l-1.37-1.37c-.4-.4-.92-.59-1.43-.59-.52 0-1.04.2-1.43.59L10.3 9.45l-7.72 7.72c-.78.78-.78 2.05 0 2.83L4 21.41c.39.39.9.59 1.41.59.51 0 1.02-.2 1.41-.59l7.78-7.78 2.81-2.81c.8-.78.8-2.07 0-2.86zM5.41 20L4 18.59l7.72-7.72 1.47 1.35L5.41 20z\"/>\n",
              "  </svg>\n",
              "      </button>\n",
              "      \n",
              "  <style>\n",
              "    .colab-df-container {\n",
              "      display:flex;\n",
              "      flex-wrap:wrap;\n",
              "      gap: 12px;\n",
              "    }\n",
              "\n",
              "    .colab-df-convert {\n",
              "      background-color: #E8F0FE;\n",
              "      border: none;\n",
              "      border-radius: 50%;\n",
              "      cursor: pointer;\n",
              "      display: none;\n",
              "      fill: #1967D2;\n",
              "      height: 32px;\n",
              "      padding: 0 0 0 0;\n",
              "      width: 32px;\n",
              "    }\n",
              "\n",
              "    .colab-df-convert:hover {\n",
              "      background-color: #E2EBFA;\n",
              "      box-shadow: 0px 1px 2px rgba(60, 64, 67, 0.3), 0px 1px 3px 1px rgba(60, 64, 67, 0.15);\n",
              "      fill: #174EA6;\n",
              "    }\n",
              "\n",
              "    [theme=dark] .colab-df-convert {\n",
              "      background-color: #3B4455;\n",
              "      fill: #D2E3FC;\n",
              "    }\n",
              "\n",
              "    [theme=dark] .colab-df-convert:hover {\n",
              "      background-color: #434B5C;\n",
              "      box-shadow: 0px 1px 3px 1px rgba(0, 0, 0, 0.15);\n",
              "      filter: drop-shadow(0px 1px 2px rgba(0, 0, 0, 0.3));\n",
              "      fill: #FFFFFF;\n",
              "    }\n",
              "  </style>\n",
              "\n",
              "      <script>\n",
              "        const buttonEl =\n",
              "          document.querySelector('#df-bb2ac4cc-ff0e-4375-ba75-872a1595dadb button.colab-df-convert');\n",
              "        buttonEl.style.display =\n",
              "          google.colab.kernel.accessAllowed ? 'block' : 'none';\n",
              "\n",
              "        async function convertToInteractive(key) {\n",
              "          const element = document.querySelector('#df-bb2ac4cc-ff0e-4375-ba75-872a1595dadb');\n",
              "          const dataTable =\n",
              "            await google.colab.kernel.invokeFunction('convertToInteractive',\n",
              "                                                     [key], {});\n",
              "          if (!dataTable) return;\n",
              "\n",
              "          const docLinkHtml = 'Like what you see? Visit the ' +\n",
              "            '<a target=\"_blank\" href=https://colab.research.google.com/notebooks/data_table.ipynb>data table notebook</a>'\n",
              "            + ' to learn more about interactive tables.';\n",
              "          element.innerHTML = '';\n",
              "          dataTable['output_type'] = 'display_data';\n",
              "          await google.colab.output.renderOutput(dataTable, element);\n",
              "          const docLink = document.createElement('div');\n",
              "          docLink.innerHTML = docLinkHtml;\n",
              "          element.appendChild(docLink);\n",
              "        }\n",
              "      </script>\n",
              "    </div>\n",
              "  </div>\n",
              "  "
            ],
            "text/plain": [
              "                           Item_Weight  Item_Visibility  Item_MRP  \\\n",
              "Item_Weight                   1.000000        -0.020027  0.052249   \n",
              "Item_Visibility              -0.020027         1.000000  0.012226   \n",
              "Item_MRP                      0.052249         0.012226  1.000000   \n",
              "Outlet_Establishment_Year    -0.013017        -0.114948  0.055565   \n",
              "Item_Outlet_Sales             0.013830        -0.093142  0.581664   \n",
              "\n",
              "                           Outlet_Establishment_Year  Item_Outlet_Sales  \n",
              "Item_Weight                                -0.013017           0.013830  \n",
              "Item_Visibility                            -0.114948          -0.093142  \n",
              "Item_MRP                                    0.055565           0.581664  \n",
              "Outlet_Establishment_Year                   1.000000          -0.024841  \n",
              "Item_Outlet_Sales                          -0.024841           1.000000  "
            ]
          },
          "execution_count": 138,
          "metadata": {},
          "output_type": "execute_result"
        }
      ],
      "source": [
        "corr=df1.corr()\n",
        "corr"
      ]
    },
    {
      "cell_type": "code",
      "execution_count": null,
      "metadata": {
        "colab": {
          "base_uri": "https://localhost:8080/"
        },
        "id": "9e4Jgwbywzlb",
        "outputId": "5091e77b-921b-435a-e92f-3da3e5c9d71e"
      },
      "outputs": [
        {
          "data": {
            "text/plain": [
              "0"
            ]
          },
          "execution_count": 139,
          "metadata": {},
          "output_type": "execute_result"
        }
      ],
      "source": [
        "df1.duplicated().sum()"
      ]
    },
    {
      "cell_type": "code",
      "execution_count": null,
      "metadata": {
        "colab": {
          "base_uri": "https://localhost:8080/",
          "height": 206
        },
        "id": "nxSR9fddx9eB",
        "outputId": "573b9da7-cfc2-4160-e2db-4a4047794ed4"
      },
      "outputs": [
        {
          "data": {
            "text/html": [
              "<style type=\"text/css\">\n",
              "#T_10cf5_row0_col0, #T_10cf5_row1_col1, #T_10cf5_row2_col2, #T_10cf5_row3_col3, #T_10cf5_row4_col4 {\n",
              "  background-color: #b40426;\n",
              "  color: #f1f1f1;\n",
              "}\n",
              "#T_10cf5_row0_col1 {\n",
              "  background-color: #5470de;\n",
              "  color: #f1f1f1;\n",
              "}\n",
              "#T_10cf5_row0_col2 {\n",
              "  background-color: #465ecf;\n",
              "  color: #f1f1f1;\n",
              "}\n",
              "#T_10cf5_row0_col3 {\n",
              "  background-color: #5673e0;\n",
              "  color: #f1f1f1;\n",
              "}\n",
              "#T_10cf5_row0_col4 {\n",
              "  background-color: #5977e3;\n",
              "  color: #f1f1f1;\n",
              "}\n",
              "#T_10cf5_row1_col0, #T_10cf5_row1_col2, #T_10cf5_row1_col3, #T_10cf5_row1_col4, #T_10cf5_row3_col1 {\n",
              "  background-color: #3b4cc0;\n",
              "  color: #f1f1f1;\n",
              "}\n",
              "#T_10cf5_row2_col0 {\n",
              "  background-color: #506bda;\n",
              "  color: #f1f1f1;\n",
              "}\n",
              "#T_10cf5_row2_col1 {\n",
              "  background-color: #5e7de7;\n",
              "  color: #f1f1f1;\n",
              "}\n",
              "#T_10cf5_row2_col3 {\n",
              "  background-color: #6b8df0;\n",
              "  color: #f1f1f1;\n",
              "}\n",
              "#T_10cf5_row2_col4 {\n",
              "  background-color: #f4c6af;\n",
              "  color: #000000;\n",
              "}\n",
              "#T_10cf5_row3_col0 {\n",
              "  background-color: #3c4ec2;\n",
              "  color: #f1f1f1;\n",
              "}\n",
              "#T_10cf5_row3_col2 {\n",
              "  background-color: #485fd1;\n",
              "  color: #f1f1f1;\n",
              "}\n",
              "#T_10cf5_row3_col4 {\n",
              "  background-color: #4c66d6;\n",
              "  color: #f1f1f1;\n",
              "}\n",
              "#T_10cf5_row4_col0 {\n",
              "  background-color: #445acc;\n",
              "  color: #f1f1f1;\n",
              "}\n",
              "#T_10cf5_row4_col1 {\n",
              "  background-color: #4055c8;\n",
              "  color: #f1f1f1;\n",
              "}\n",
              "#T_10cf5_row4_col2 {\n",
              "  background-color: #eed0c0;\n",
              "  color: #000000;\n",
              "}\n",
              "#T_10cf5_row4_col3 {\n",
              "  background-color: #536edd;\n",
              "  color: #f1f1f1;\n",
              "}\n",
              "</style>\n",
              "<table id=\"T_10cf5\" class=\"dataframe\">\n",
              "  <thead>\n",
              "    <tr>\n",
              "      <th class=\"blank level0\" >&nbsp;</th>\n",
              "      <th id=\"T_10cf5_level0_col0\" class=\"col_heading level0 col0\" >Item_Weight</th>\n",
              "      <th id=\"T_10cf5_level0_col1\" class=\"col_heading level0 col1\" >Item_Visibility</th>\n",
              "      <th id=\"T_10cf5_level0_col2\" class=\"col_heading level0 col2\" >Item_MRP</th>\n",
              "      <th id=\"T_10cf5_level0_col3\" class=\"col_heading level0 col3\" >Outlet_Establishment_Year</th>\n",
              "      <th id=\"T_10cf5_level0_col4\" class=\"col_heading level0 col4\" >Item_Outlet_Sales</th>\n",
              "    </tr>\n",
              "  </thead>\n",
              "  <tbody>\n",
              "    <tr>\n",
              "      <th id=\"T_10cf5_level0_row0\" class=\"row_heading level0 row0\" >Item_Weight</th>\n",
              "      <td id=\"T_10cf5_row0_col0\" class=\"data row0 col0\" >1.000000</td>\n",
              "      <td id=\"T_10cf5_row0_col1\" class=\"data row0 col1\" >-0.020027</td>\n",
              "      <td id=\"T_10cf5_row0_col2\" class=\"data row0 col2\" >0.052249</td>\n",
              "      <td id=\"T_10cf5_row0_col3\" class=\"data row0 col3\" >-0.013017</td>\n",
              "      <td id=\"T_10cf5_row0_col4\" class=\"data row0 col4\" >0.013830</td>\n",
              "    </tr>\n",
              "    <tr>\n",
              "      <th id=\"T_10cf5_level0_row1\" class=\"row_heading level0 row1\" >Item_Visibility</th>\n",
              "      <td id=\"T_10cf5_row1_col0\" class=\"data row1 col0\" >-0.020027</td>\n",
              "      <td id=\"T_10cf5_row1_col1\" class=\"data row1 col1\" >1.000000</td>\n",
              "      <td id=\"T_10cf5_row1_col2\" class=\"data row1 col2\" >0.012226</td>\n",
              "      <td id=\"T_10cf5_row1_col3\" class=\"data row1 col3\" >-0.114948</td>\n",
              "      <td id=\"T_10cf5_row1_col4\" class=\"data row1 col4\" >-0.093142</td>\n",
              "    </tr>\n",
              "    <tr>\n",
              "      <th id=\"T_10cf5_level0_row2\" class=\"row_heading level0 row2\" >Item_MRP</th>\n",
              "      <td id=\"T_10cf5_row2_col0\" class=\"data row2 col0\" >0.052249</td>\n",
              "      <td id=\"T_10cf5_row2_col1\" class=\"data row2 col1\" >0.012226</td>\n",
              "      <td id=\"T_10cf5_row2_col2\" class=\"data row2 col2\" >1.000000</td>\n",
              "      <td id=\"T_10cf5_row2_col3\" class=\"data row2 col3\" >0.055565</td>\n",
              "      <td id=\"T_10cf5_row2_col4\" class=\"data row2 col4\" >0.581664</td>\n",
              "    </tr>\n",
              "    <tr>\n",
              "      <th id=\"T_10cf5_level0_row3\" class=\"row_heading level0 row3\" >Outlet_Establishment_Year</th>\n",
              "      <td id=\"T_10cf5_row3_col0\" class=\"data row3 col0\" >-0.013017</td>\n",
              "      <td id=\"T_10cf5_row3_col1\" class=\"data row3 col1\" >-0.114948</td>\n",
              "      <td id=\"T_10cf5_row3_col2\" class=\"data row3 col2\" >0.055565</td>\n",
              "      <td id=\"T_10cf5_row3_col3\" class=\"data row3 col3\" >1.000000</td>\n",
              "      <td id=\"T_10cf5_row3_col4\" class=\"data row3 col4\" >-0.024841</td>\n",
              "    </tr>\n",
              "    <tr>\n",
              "      <th id=\"T_10cf5_level0_row4\" class=\"row_heading level0 row4\" >Item_Outlet_Sales</th>\n",
              "      <td id=\"T_10cf5_row4_col0\" class=\"data row4 col0\" >0.013830</td>\n",
              "      <td id=\"T_10cf5_row4_col1\" class=\"data row4 col1\" >-0.093142</td>\n",
              "      <td id=\"T_10cf5_row4_col2\" class=\"data row4 col2\" >0.581664</td>\n",
              "      <td id=\"T_10cf5_row4_col3\" class=\"data row4 col3\" >-0.024841</td>\n",
              "      <td id=\"T_10cf5_row4_col4\" class=\"data row4 col4\" >1.000000</td>\n",
              "    </tr>\n",
              "  </tbody>\n",
              "</table>\n"
            ],
            "text/plain": [
              "<pandas.io.formats.style.Styler at 0x7fd8c174ad60>"
            ]
          },
          "execution_count": 140,
          "metadata": {},
          "output_type": "execute_result"
        }
      ],
      "source": [
        "corr=df1.corr()\n",
        "corr.style.background_gradient(cmap='coolwarm')"
      ]
    },
    {
      "cell_type": "markdown",
      "metadata": {
        "id": "Pe82rhwwr9yb"
      },
      "source": [
        "###Univariate Analysis:"
      ]
    },
    {
      "cell_type": "code",
      "execution_count": null,
      "metadata": {
        "colab": {
          "base_uri": "https://localhost:8080/",
          "height": 467
        },
        "id": "eFfif6rzsgqG",
        "outputId": "fbd5b0f3-caaf-41b8-b8a7-2f0c9fcd1508"
      },
      "outputs": [
        {
          "data": {
            "text/plain": [
              "<Axes: xlabel='Item_Outlet_Sales', ylabel='Count'>"
            ]
          },
          "execution_count": 141,
          "metadata": {},
          "output_type": "execute_result"
        },
        {
          "data": {
            "image/png": "[encoded data removed]",
            "text/plain": [
              "<Figure size 640x480 with 1 Axes>"
            ]
          },
          "metadata": {},
          "output_type": "display_data"
        }
      ],
      "source": [
        "import seaborn as sns\n",
        "\n",
        "sns.histplot(df1['Item_Outlet_Sales'].head(50))"
      ]
    },
    {
      "cell_type": "code",
      "execution_count": null,
      "metadata": {
        "colab": {
          "base_uri": "https://localhost:8080/",
          "height": 600
        },
        "id": "YhXqRwFix3EO",
        "outputId": "c954a458-7097-4a51-c807-8c350abda387"
      },
      "outputs": [
        {
          "data": {
            "text/plain": [
              "[Text(0, 0, 'Supermarket Type1'),\n",
              " Text(1, 0, 'Supermarket Type2'),\n",
              " Text(2, 0, 'Grocery Store'),\n",
              " Text(3, 0, 'Supermarket Type3')]"
            ]
          },
          "execution_count": 142,
          "metadata": {},
          "output_type": "execute_result"
        },
        {
          "data": {
            "image/png": "[encoded data removed]",
            "text/plain": [
              "<Figure size 600x500 with 1 Axes>"
            ]
          },
          "metadata": {},
          "output_type": "display_data"
        }
      ],
      "source": [
        "import seaborn as sns\n",
        "import matplotlib.pyplot as plt\n",
        "\n",
        "\n",
        "plt.figure(figsize=(6,5))\n",
        "chart = sns.countplot(\n",
        "    data=df1.head(10),\n",
        "    x='Outlet_Type',hue='Outlet_Size'\n",
        "    \n",
        ")\n",
        "chart.set_xticklabels(chart.get_xticklabels(), rotation=30)"
      ]
    },
    {
      "cell_type": "code",
      "execution_count": null,
      "metadata": {
        "colab": {
          "base_uri": "https://localhost:8080/",
          "height": 587
        },
        "id": "-ZkaifjfyR3B",
        "outputId": "6bb8452a-725f-4de3-a7d6-4467461ef3b3"
      },
      "outputs": [
        {
          "data": {
            "image/png": "[encoded data removed]",
            "text/plain": [
              "<Figure size 1000x500 with 1 Axes>"
            ]
          },
          "metadata": {},
          "output_type": "display_data"
        }
      ],
      "source": [
        "import matplotlib.ticker as mtick\n",
        "\n",
        "\n",
        "plt.figure(figsize=(10,5))\n",
        "chart = sns.countplot( data=df1.head(10),\n",
        "    x='Item_Type',hue='Item_Fat_Content')\n",
        "chart.set_xticklabels(chart.get_xticklabels(), rotation=60)\n",
        "\n",
        "chart.yaxis.set_major_formatter(mtick.PercentFormatter())"
      ]
    },
    {
      "cell_type": "markdown",
      "metadata": {
        "id": "vY5Q3gsTxvEI"
      },
      "source": [
        "###Bivariate Analysis:"
      ]
    },
    {
      "cell_type": "code",
      "execution_count": null,
      "metadata": {
        "colab": {
          "base_uri": "https://localhost:8080/"
        },
        "id": "Z1syHWqZkZTu",
        "outputId": "1c421288-19c8-4075-8c60-b3d113490258"
      },
      "outputs": [
        {
          "data": {
            "text/plain": [
              "Outlet_Type\n",
              "Grocery Store         2.0\n",
              "Supermarket Type1    69.0\n",
              "Supermarket Type2     9.0\n",
              "Supermarket Type3    20.0\n",
              "Name: Item_Outlet_Sales, dtype: float64"
            ]
          },
          "execution_count": 145,
          "metadata": {},
          "output_type": "execute_result"
        }
      ],
      "source": [
        "pie1 = df1.groupby('Outlet_Type')['Item_Outlet_Sales'].sum()\n",
        "pie1 = pie1.div(pie1.sum().astype(float)).round(2)*100\n",
        "pie1"
      ]
    },
    {
      "cell_type": "code",
      "execution_count": null,
      "metadata": {
        "colab": {
          "base_uri": "https://localhost:8080/",
          "height": 445
        },
        "id": "bvoIxflCkx-b",
        "outputId": "0941056c-83e9-4b12-dc7a-71ed6a3035a0"
      },
      "outputs": [
        {
          "data": {
            "text/plain": [
              "<Axes: title={'center': 'Item Outlet Sales Grouped by Outlet Type'}, ylabel='Outlet Type'>"
            ]
          },
          "execution_count": 146,
          "metadata": {},
          "output_type": "execute_result"
        },
        {
          "data": {
            "image/png": "[encoded data removed]",
            "text/plain": [
              "<Figure size 640x480 with 1 Axes>"
            ]
          },
          "metadata": {},
          "output_type": "display_data"
        }
      ],
      "source": [
        "pie1.plot.pie(label=('Outlet Type'), title = \"Item Outlet Sales Grouped by Outlet Type\",colormap='brg', autopct='%1.0f%%') "
      ]
    },
    {
      "cell_type": "code",
      "execution_count": null,
      "metadata": {
        "colab": {
          "base_uri": "https://localhost:8080/",
          "height": 589
        },
        "id": "yCEXlyZfyZH6",
        "outputId": "b5dcf132-32b6-46d5-917f-62727c2fba48"
      },
      "outputs": [
        {
          "data": {
            "text/plain": [
              "<seaborn.axisgrid.FacetGrid at 0x7fd89bf81910>"
            ]
          },
          "execution_count": 147,
          "metadata": {},
          "output_type": "execute_result"
        },
        {
          "data": {
            "image/png": "[encoded data removed]",
            "text/plain": [
              "<Figure size 500x500 with 1 Axes>"
            ]
          },
          "metadata": {},
          "output_type": "display_data"
        }
      ],
      "source": [
        "chart=sns.relplot(data=df1, x='Outlet_Type' , y='Item_Outlet_Sales')\n",
        "chart.set_xticklabels(rotation=30)\n"
      ]
    },
    {
      "cell_type": "code",
      "execution_count": null,
      "metadata": {
        "colab": {
          "base_uri": "https://localhost:8080/",
          "height": 1000
        },
        "id": "SJwoKcxJLJup",
        "outputId": "6e8e102f-1793-4851-93c8-3682e180bdbd"
      },
      "outputs": [
        {
          "data": {
            "text/plain": [
              "[Text(0, 0, 'Dairy'),\n",
              " Text(1, 0, 'Soft Drinks'),\n",
              " Text(2, 0, 'Meat'),\n",
              " Text(3, 0, 'Fruits and Vegetables'),\n",
              " Text(4, 0, 'Household'),\n",
              " Text(5, 0, 'Baking Goods'),\n",
              " Text(6, 0, 'Snack Foods'),\n",
              " Text(7, 0, 'Frozen Foods'),\n",
              " Text(8, 0, 'Breakfast'),\n",
              " Text(9, 0, 'Health and Hygiene'),\n",
              " Text(10, 0, 'Hard Drinks'),\n",
              " Text(11, 0, 'Canned'),\n",
              " Text(12, 0, 'Breads'),\n",
              " Text(13, 0, 'Starchy Foods'),\n",
              " Text(14, 0, 'Others'),\n",
              " Text(15, 0, 'Seafood')]"
            ]
          },
          "execution_count": 148,
          "metadata": {},
          "output_type": "execute_result"
        },
        {
          "data": {
            "image/png": "[encoded data removed]",
            "text/plain": [
              "<Figure size 1600x1000 with 1 Axes>"
            ]
          },
          "metadata": {},
          "output_type": "display_data"
        }
      ],
      "source": [
        "plt.figure(figsize=(16,10))\n",
        "chart=sns.barplot(data=df1, x='Item_Type' , y='Item_Outlet_Sales' , hue='Outlet_Type')\n",
        "chart.set_xticklabels(chart.get_xticklabels(),rotation=100)"
      ]
    },
    {
      "cell_type": "markdown",
      "metadata": {
        "id": "vZSKfhY9rupY"
      },
      "source": [
        "###Missing Value Treatment:"
      ]
    },
    {
      "cell_type": "code",
      "execution_count": null,
      "metadata": {
        "colab": {
          "base_uri": "https://localhost:8080/",
          "height": 661
        },
        "id": "VO-wFx5wrxSm",
        "outputId": "c9cb49cd-81bf-4d9c-ea95-f64579fe752a"
      },
      "outputs": [
        {
          "data": {
            "text/html": [
              "\n",
              "  <div id=\"df-6412b29e-d00f-4b0c-ad39-3ccc902d349b\">\n",
              "    <div class=\"colab-df-container\">\n",
              "      <div>\n",
              "<style scoped>\n",
              "    .dataframe tbody tr th:only-of-type {\n",
              "        vertical-align: middle;\n",
              "    }\n",
              "\n",
              "    .dataframe tbody tr th {\n",
              "        vertical-align: top;\n",
              "    }\n",
              "\n",
              "    .dataframe thead th {\n",
              "        text-align: right;\n",
              "    }\n",
              "</style>\n",
              "<table border=\"1\" class=\"dataframe\">\n",
              "  <thead>\n",
              "    <tr style=\"text-align: right;\">\n",
              "      <th></th>\n",
              "      <th>Item_Identifier</th>\n",
              "      <th>Item_Weight</th>\n",
              "      <th>Item_Fat_Content</th>\n",
              "      <th>Item_Visibility</th>\n",
              "      <th>Item_Type</th>\n",
              "      <th>Item_MRP</th>\n",
              "      <th>Outlet_Identifier</th>\n",
              "      <th>Outlet_Establishment_Year</th>\n",
              "      <th>Outlet_Size</th>\n",
              "      <th>Outlet_Location_Type</th>\n",
              "      <th>Outlet_Type</th>\n",
              "      <th>Item_Outlet_Sales</th>\n",
              "    </tr>\n",
              "  </thead>\n",
              "  <tbody>\n",
              "    <tr>\n",
              "      <th>0</th>\n",
              "      <td>FDA15</td>\n",
              "      <td>9.300</td>\n",
              "      <td>Low Fat</td>\n",
              "      <td>0.016047</td>\n",
              "      <td>Dairy</td>\n",
              "      <td>249.8092</td>\n",
              "      <td>OUT049</td>\n",
              "      <td>1999</td>\n",
              "      <td>Medium</td>\n",
              "      <td>Tier 1</td>\n",
              "      <td>Supermarket Type1</td>\n",
              "      <td>3735.1380</td>\n",
              "    </tr>\n",
              "    <tr>\n",
              "      <th>1</th>\n",
              "      <td>DRC01</td>\n",
              "      <td>5.920</td>\n",
              "      <td>Regular</td>\n",
              "      <td>0.019278</td>\n",
              "      <td>Soft Drinks</td>\n",
              "      <td>48.2692</td>\n",
              "      <td>OUT018</td>\n",
              "      <td>2009</td>\n",
              "      <td>Medium</td>\n",
              "      <td>Tier 3</td>\n",
              "      <td>Supermarket Type2</td>\n",
              "      <td>443.4228</td>\n",
              "    </tr>\n",
              "    <tr>\n",
              "      <th>2</th>\n",
              "      <td>FDN15</td>\n",
              "      <td>17.500</td>\n",
              "      <td>Low Fat</td>\n",
              "      <td>0.016760</td>\n",
              "      <td>Meat</td>\n",
              "      <td>141.6180</td>\n",
              "      <td>OUT049</td>\n",
              "      <td>1999</td>\n",
              "      <td>Medium</td>\n",
              "      <td>Tier 1</td>\n",
              "      <td>Supermarket Type1</td>\n",
              "      <td>2097.2700</td>\n",
              "    </tr>\n",
              "    <tr>\n",
              "      <th>3</th>\n",
              "      <td>FDX07</td>\n",
              "      <td>19.200</td>\n",
              "      <td>Regular</td>\n",
              "      <td>0.000000</td>\n",
              "      <td>Fruits and Vegetables</td>\n",
              "      <td>182.0950</td>\n",
              "      <td>OUT010</td>\n",
              "      <td>1998</td>\n",
              "      <td>0</td>\n",
              "      <td>Tier 3</td>\n",
              "      <td>Grocery Store</td>\n",
              "      <td>732.3800</td>\n",
              "    </tr>\n",
              "    <tr>\n",
              "      <th>4</th>\n",
              "      <td>NCD19</td>\n",
              "      <td>8.930</td>\n",
              "      <td>Low Fat</td>\n",
              "      <td>0.000000</td>\n",
              "      <td>Household</td>\n",
              "      <td>53.8614</td>\n",
              "      <td>OUT013</td>\n",
              "      <td>1987</td>\n",
              "      <td>High</td>\n",
              "      <td>Tier 3</td>\n",
              "      <td>Supermarket Type1</td>\n",
              "      <td>994.7052</td>\n",
              "    </tr>\n",
              "    <tr>\n",
              "      <th>...</th>\n",
              "      <td>...</td>\n",
              "      <td>...</td>\n",
              "      <td>...</td>\n",
              "      <td>...</td>\n",
              "      <td>...</td>\n",
              "      <td>...</td>\n",
              "      <td>...</td>\n",
              "      <td>...</td>\n",
              "      <td>...</td>\n",
              "      <td>...</td>\n",
              "      <td>...</td>\n",
              "      <td>...</td>\n",
              "    </tr>\n",
              "    <tr>\n",
              "      <th>995</th>\n",
              "      <td>FDO34</td>\n",
              "      <td>17.700</td>\n",
              "      <td>Low Fat</td>\n",
              "      <td>0.050112</td>\n",
              "      <td>Snack Foods</td>\n",
              "      <td>165.9816</td>\n",
              "      <td>OUT010</td>\n",
              "      <td>1998</td>\n",
              "      <td>0</td>\n",
              "      <td>Tier 3</td>\n",
              "      <td>Grocery Store</td>\n",
              "      <td>167.7816</td>\n",
              "    </tr>\n",
              "    <tr>\n",
              "      <th>996</th>\n",
              "      <td>NCL30</td>\n",
              "      <td>18.100</td>\n",
              "      <td>Low Fat</td>\n",
              "      <td>0.048931</td>\n",
              "      <td>Household</td>\n",
              "      <td>127.3336</td>\n",
              "      <td>OUT035</td>\n",
              "      <td>2004</td>\n",
              "      <td>Small</td>\n",
              "      <td>Tier 2</td>\n",
              "      <td>Supermarket Type1</td>\n",
              "      <td>1150.5024</td>\n",
              "    </tr>\n",
              "    <tr>\n",
              "      <th>997</th>\n",
              "      <td>FDK28</td>\n",
              "      <td>5.695</td>\n",
              "      <td>Low Fat</td>\n",
              "      <td>0.065961</td>\n",
              "      <td>Frozen Foods</td>\n",
              "      <td>259.2646</td>\n",
              "      <td>OUT017</td>\n",
              "      <td>2007</td>\n",
              "      <td>0</td>\n",
              "      <td>Tier 2</td>\n",
              "      <td>Supermarket Type1</td>\n",
              "      <td>9275.9256</td>\n",
              "    </tr>\n",
              "    <tr>\n",
              "      <th>998</th>\n",
              "      <td>DRJ39</td>\n",
              "      <td>20.250</td>\n",
              "      <td>Low Fat</td>\n",
              "      <td>0.036319</td>\n",
              "      <td>Dairy</td>\n",
              "      <td>219.3482</td>\n",
              "      <td>OUT035</td>\n",
              "      <td>2004</td>\n",
              "      <td>Small</td>\n",
              "      <td>Tier 2</td>\n",
              "      <td>Supermarket Type1</td>\n",
              "      <td>5038.1086</td>\n",
              "    </tr>\n",
              "    <tr>\n",
              "      <th>999</th>\n",
              "      <td>NCP06</td>\n",
              "      <td>0.000</td>\n",
              "      <td>Low Fat</td>\n",
              "      <td>0.039056</td>\n",
              "      <td>Household</td>\n",
              "      <td>152.3366</td>\n",
              "      <td>OUT027</td>\n",
              "      <td>1985</td>\n",
              "      <td>Medium</td>\n",
              "      <td>Tier 3</td>\n",
              "      <td>Supermarket Type3</td>\n",
              "      <td>2115.9124</td>\n",
              "    </tr>\n",
              "  </tbody>\n",
              "</table>\n",
              "<p>1000 rows × 12 columns</p>\n",
              "</div>\n",
              "      <button class=\"colab-df-convert\" onclick=\"convertToInteractive('df-6412b29e-d00f-4b0c-ad39-3ccc902d349b')\"\n",
              "              title=\"Convert this dataframe to an interactive table.\"\n",
              "              style=\"display:none;\">\n",
              "        \n",
              "  <svg xmlns=\"http://www.w3.org/2000/svg\" height=\"24px\"viewBox=\"0 0 24 24\"\n",
              "       width=\"24px\">\n",
              "    <path d=\"M0 0h24v24H0V0z\" fill=\"none\"/>\n",
              "    <path d=\"M18.56 5.44l.94 2.06.94-2.06 2.06-.94-2.06-.94-.94-2.06-.94 2.06-2.06.94zm-11 1L8.5 8.5l.94-2.06 2.06-.94-2.06-.94L8.5 2.5l-.94 2.06-2.06.94zm10 10l.94 2.06.94-2.06 2.06-.94-2.06-.94-.94-2.06-.94 2.06-2.06.94z\"/><path d=\"M17.41 7.96l-1.37-1.37c-.4-.4-.92-.59-1.43-.59-.52 0-1.04.2-1.43.59L10.3 9.45l-7.72 7.72c-.78.78-.78 2.05 0 2.83L4 21.41c.39.39.9.59 1.41.59.51 0 1.02-.2 1.41-.59l7.78-7.78 2.81-2.81c.8-.78.8-2.07 0-2.86zM5.41 20L4 18.59l7.72-7.72 1.47 1.35L5.41 20z\"/>\n",
              "  </svg>\n",
              "      </button>\n",
              "      \n",
              "  <style>\n",
              "    .colab-df-container {\n",
              "      display:flex;\n",
              "      flex-wrap:wrap;\n",
              "      gap: 12px;\n",
              "    }\n",
              "\n",
              "    .colab-df-convert {\n",
              "      background-color: #E8F0FE;\n",
              "      border: none;\n",
              "      border-radius: 50%;\n",
              "      cursor: pointer;\n",
              "      display: none;\n",
              "      fill: #1967D2;\n",
              "      height: 32px;\n",
              "      padding: 0 0 0 0;\n",
              "      width: 32px;\n",
              "    }\n",
              "\n",
              "    .colab-df-convert:hover {\n",
              "      background-color: #E2EBFA;\n",
              "      box-shadow: 0px 1px 2px rgba(60, 64, 67, 0.3), 0px 1px 3px 1px rgba(60, 64, 67, 0.15);\n",
              "      fill: #174EA6;\n",
              "    }\n",
              "\n",
              "    [theme=dark] .colab-df-convert {\n",
              "      background-color: #3B4455;\n",
              "      fill: #D2E3FC;\n",
              "    }\n",
              "\n",
              "    [theme=dark] .colab-df-convert:hover {\n",
              "      background-color: #434B5C;\n",
              "      box-shadow: 0px 1px 3px 1px rgba(0, 0, 0, 0.15);\n",
              "      filter: drop-shadow(0px 1px 2px rgba(0, 0, 0, 0.3));\n",
              "      fill: #FFFFFF;\n",
              "    }\n",
              "  </style>\n",
              "\n",
              "      <script>\n",
              "        const buttonEl =\n",
              "          document.querySelector('#df-6412b29e-d00f-4b0c-ad39-3ccc902d349b button.colab-df-convert');\n",
              "        buttonEl.style.display =\n",
              "          google.colab.kernel.accessAllowed ? 'block' : 'none';\n",
              "\n",
              "        async function convertToInteractive(key) {\n",
              "          const element = document.querySelector('#df-6412b29e-d00f-4b0c-ad39-3ccc902d349b');\n",
              "          const dataTable =\n",
              "            await google.colab.kernel.invokeFunction('convertToInteractive',\n",
              "                                                     [key], {});\n",
              "          if (!dataTable) return;\n",
              "\n",
              "          const docLinkHtml = 'Like what you see? Visit the ' +\n",
              "            '<a target=\"_blank\" href=https://colab.research.google.com/notebooks/data_table.ipynb>data table notebook</a>'\n",
              "            + ' to learn more about interactive tables.';\n",
              "          element.innerHTML = '';\n",
              "          dataTable['output_type'] = 'display_data';\n",
              "          await google.colab.output.renderOutput(dataTable, element);\n",
              "          const docLink = document.createElement('div');\n",
              "          docLink.innerHTML = docLinkHtml;\n",
              "          element.appendChild(docLink);\n",
              "        }\n",
              "      </script>\n",
              "    </div>\n",
              "  </div>\n",
              "  "
            ],
            "text/plain": [
              "    Item_Identifier  Item_Weight Item_Fat_Content  Item_Visibility  \\\n",
              "0             FDA15        9.300          Low Fat         0.016047   \n",
              "1             DRC01        5.920          Regular         0.019278   \n",
              "2             FDN15       17.500          Low Fat         0.016760   \n",
              "3             FDX07       19.200          Regular         0.000000   \n",
              "4             NCD19        8.930          Low Fat         0.000000   \n",
              "..              ...          ...              ...              ...   \n",
              "995           FDO34       17.700          Low Fat         0.050112   \n",
              "996           NCL30       18.100          Low Fat         0.048931   \n",
              "997           FDK28        5.695          Low Fat         0.065961   \n",
              "998           DRJ39       20.250          Low Fat         0.036319   \n",
              "999           NCP06        0.000          Low Fat         0.039056   \n",
              "\n",
              "                 Item_Type  Item_MRP Outlet_Identifier  \\\n",
              "0                    Dairy  249.8092            OUT049   \n",
              "1              Soft Drinks   48.2692            OUT018   \n",
              "2                     Meat  141.6180            OUT049   \n",
              "3    Fruits and Vegetables  182.0950            OUT010   \n",
              "4                Household   53.8614            OUT013   \n",
              "..                     ...       ...               ...   \n",
              "995            Snack Foods  165.9816            OUT010   \n",
              "996              Household  127.3336            OUT035   \n",
              "997           Frozen Foods  259.2646            OUT017   \n",
              "998                  Dairy  219.3482            OUT035   \n",
              "999              Household  152.3366            OUT027   \n",
              "\n",
              "     Outlet_Establishment_Year Outlet_Size Outlet_Location_Type  \\\n",
              "0                         1999      Medium               Tier 1   \n",
              "1                         2009      Medium               Tier 3   \n",
              "2                         1999      Medium               Tier 1   \n",
              "3                         1998           0               Tier 3   \n",
              "4                         1987        High               Tier 3   \n",
              "..                         ...         ...                  ...   \n",
              "995                       1998           0               Tier 3   \n",
              "996                       2004       Small               Tier 2   \n",
              "997                       2007           0               Tier 2   \n",
              "998                       2004       Small               Tier 2   \n",
              "999                       1985      Medium               Tier 3   \n",
              "\n",
              "           Outlet_Type  Item_Outlet_Sales  \n",
              "0    Supermarket Type1          3735.1380  \n",
              "1    Supermarket Type2           443.4228  \n",
              "2    Supermarket Type1          2097.2700  \n",
              "3        Grocery Store           732.3800  \n",
              "4    Supermarket Type1           994.7052  \n",
              "..                 ...                ...  \n",
              "995      Grocery Store           167.7816  \n",
              "996  Supermarket Type1          1150.5024  \n",
              "997  Supermarket Type1          9275.9256  \n",
              "998  Supermarket Type1          5038.1086  \n",
              "999  Supermarket Type3          2115.9124  \n",
              "\n",
              "[1000 rows x 12 columns]"
            ]
          },
          "execution_count": 149,
          "metadata": {},
          "output_type": "execute_result"
        }
      ],
      "source": [
        "df1=df1.fillna(0)\n",
        "df1"
      ]
    },
    {
      "cell_type": "code",
      "execution_count": null,
      "metadata": {
        "colab": {
          "base_uri": "https://localhost:8080/"
        },
        "id": "vZ4C48Ycr4Qv",
        "outputId": "8ea1e0e8-93a3-4dac-bd56-efa3b9e4e87b"
      },
      "outputs": [
        {
          "data": {
            "text/plain": [
              "Item_Identifier              0\n",
              "Item_Weight                  0\n",
              "Item_Fat_Content             0\n",
              "Item_Visibility              0\n",
              "Item_Type                    0\n",
              "Item_MRP                     0\n",
              "Outlet_Identifier            0\n",
              "Outlet_Establishment_Year    0\n",
              "Outlet_Size                  0\n",
              "Outlet_Location_Type         0\n",
              "Outlet_Type                  0\n",
              "Item_Outlet_Sales            0\n",
              "dtype: int64"
            ]
          },
          "execution_count": 150,
          "metadata": {},
          "output_type": "execute_result"
        }
      ],
      "source": [
        "df1.isna().sum()"
      ]
    },
    {
      "cell_type": "markdown",
      "metadata": {
        "id": "V_r21voUsBL8"
      },
      "source": [
        "###Feature Engineering:"
      ]
    },
    {
      "cell_type": "markdown",
      "metadata": {
        "id": "LdF3bRhItBAS"
      },
      "source": [
        "Lets assign attributes and lables:"
      ]
    },
    {
      "cell_type": "code",
      "execution_count": null,
      "metadata": {
        "id": "s6PARaUQvKV0"
      },
      "outputs": [],
      "source": [
        "import numpy as np"
      ]
    },
    {
      "cell_type": "code",
      "execution_count": null,
      "metadata": {
        "colab": {
          "base_uri": "https://localhost:8080/"
        },
        "id": "fFEqOlzpl7aJ",
        "outputId": "937ba71f-f3d0-4c60-f13f-59737a2585dd"
      },
      "outputs": [
        {
          "name": "stdout",
          "output_type": "stream",
          "text": [
            "(1000, 11) (1000,)\n"
          ]
        }
      ],
      "source": [
        "X= df1.iloc[:,:-1].values.astype(str)\n",
        "y = df1.iloc[:,-1].values # labels\n",
        "\n",
        "\n",
        "print(X.shape, y.shape)\n",
        "  #  labels (outputs)"
      ]
    },
    {
      "cell_type": "code",
      "execution_count": null,
      "metadata": {
        "colab": {
          "base_uri": "https://localhost:8080/"
        },
        "id": "Mp5T4NEm0g-I",
        "outputId": "1140c551-071c-430e-c3a2-280c3faa6da0"
      },
      "outputs": [
        {
          "data": {
            "text/plain": [
              "array([3735.138 ,  443.4228, 2097.27  ,  732.38  ,  994.7052,  556.6088,\n",
              "        343.5528, 4022.7636, 1076.5986, 4710.535 , 1516.0266, 2187.153 ,\n",
              "       1589.2646, 2145.2076, 1977.426 , 1547.3192, 1621.8888,  718.3982,\n",
              "       2303.668 , 2748.4224, 3775.086 , 4064.0432, 1587.2672,  214.3876,\n",
              "       4078.025 ,  838.908 , 1065.28  ,  308.9312,  178.4344,  125.8362,\n",
              "        163.7868, 2741.7644, 3068.0064, 2174.5028, 2085.2856, 3791.0652,\n",
              "       2797.6916, 1609.9044,  388.1614, 2180.495 , 3435.528 , 2150.534 ,\n",
              "       2527.3768, 6768.5228,  373.5138,  358.2004, 2428.8384, 5815.0972,\n",
              "       2576.646 ,  780.3176, 3134.5864,  850.8924,  810.9444, 3121.2704,\n",
              "       4815.0656, 6258.52  , 2117.244 ,  796.9626, 4910.275 ,  892.172 ,\n",
              "       3185.1872, 1062.6168,  484.7024,  147.8076, 2543.356 ,  184.4266,\n",
              "       4865.6664, 1118.544 , 2302.3364, 2027.361 , 3435.528 ,  599.22  ,\n",
              "       4604.6728, 2285.0256, 5580.7356, 2290.352 , 1207.0954,  643.1628,\n",
              "       1587.933 , 5305.0944, 1697.79  , 1427.4752, 4693.89  ,  583.2408,\n",
              "       3091.9752, 2479.4392, 2716.464 , 3285.723 ,  661.8052, 1523.3504,\n",
              "        369.519 ,  690.4346, 1381.535 ,  622.523 , 1274.3412,  487.3656,\n",
              "       1231.73  , 3755.112 , 4363.6532, 1314.2892, 1805.6496, 2854.9504,\n",
              "       3896.2616,  667.7974, 3185.853 , 2247.7408, 1794.331 , 2530.7058,\n",
              "        679.116 ,  812.276 ,  699.09  , 2732.4432,  176.437 , 4097.3332,\n",
              "       3151.8972, 5942.265 , 4843.695 , 2542.0244, 2552.6772, 1141.847 ,\n",
              "        680.4476, 2085.9514,  186.424 , 3036.048 ,  866.8716,  868.869 ,\n",
              "       1137.1864,  928.1252,  762.341 ,  707.0796, 7968.2944, 1438.128 ,\n",
              "       6976.2524,  101.2016,  952.094 , 1969.4364, 5262.4832, 1314.2892,\n",
              "        535.3032,  263.6568, 1402.1748, 1693.7952, 2143.876 , 2676.516 ,\n",
              "        905.488 , 7370.406 , 6301.1312, 1597.92  ,  529.311 , 1969.4364,\n",
              "       1034.6532, 1794.331 , 2768.3964,  898.83  , 3169.208 , 3589.9936,\n",
              "        262.3252, 1910.1802, 1701.7848, 2471.4496, 1331.6   , 1808.9786,\n",
              "       3315.684 , 2618.5914, 2769.728 , 5375.0034, 2838.9712, 1743.0644,\n",
              "       5555.4352,  619.194 , 2120.573 , 3823.0236, 1360.2294, 3969.4996,\n",
              "        345.5502,  585.2382, 1010.6844,  161.1236,   42.6112, 3010.7476,\n",
              "       6024.1584,  988.713 ,  239.688 , 1374.2112, 4739.8302, 1012.016 ,\n",
              "        657.8104,  778.986 , 2336.958 , 2233.0932, 1661.8368, 4745.8224,\n",
              "       3124.5994,  467.3916, 5070.7328,  540.6296,  992.7078, 6008.845 ,\n",
              "       2105.2596, 5359.69  ,  745.696 , 3275.736 , 1701.7848, 6704.606 ,\n",
              "       4119.9704,  327.5736,  780.9834, 3630.6074,  317.5866,  231.6984,\n",
              "        133.16  , 5650.6446, 2636.568 , 1272.3438,  324.9104,  131.1626,\n",
              "        260.9936,  260.9936, 3690.5294, 1139.1838, 1995.4026, 1416.8224,\n",
              "        265.6542, 3552.7088, 2406.867 ,  213.056 , 2956.152 ,  153.134 ,\n",
              "       1649.8524, 3101.2964, 4769.1254, 3435.528 , 1133.8574, 2603.278 ,\n",
              "        605.878 , 2293.0152,  119.1782, 1929.4884, 2074.6328,  241.6854,\n",
              "       6795.1548,  639.168 , 3248.4382, 7222.5984, 3225.1352, 3755.112 ,\n",
              "       3440.8544,  974.7312,  535.969 , 5259.82  ,  306.268 , 1779.0176,\n",
              "        759.012 , 1877.556 , 3779.0808,   41.2796,  259.662 ,  193.082 ,\n",
              "       1687.803 , 4655.9394, 4950.8888, 1418.154 , 1225.072 , 5359.69  ,\n",
              "       1764.37  , 2553.343 , 1006.6896, 1081.925 ,  308.9312, 2516.724 ,\n",
              "       1428.141 , 2093.2752, 1929.4884, 5829.7448, 2082.6224, 7298.4996,\n",
              "       7452.9652,  450.0808,  500.6816, 3668.558 ,  736.3748, 6088.0752,\n",
              "       2125.2336, 2277.036 ,  573.2538, 2267.049 ,  296.9468,  559.272 ,\n",
              "       5559.43  , 1237.7222,  569.259 , 3866.9664, 1379.5376, 1869.5664,\n",
              "       5499.508 ,  925.462 ,  583.2408, 1418.154 ,  942.7728, 2364.9216,\n",
              "       3251.7672,  254.3356, 5895.659 , 1134.5232, 7696.648 , 2775.7202,\n",
              "       5317.0788,  874.8612, 1039.9796, 3038.0454, 3848.324 ,  527.3136,\n",
              "       2390.8878, 1677.816 ,  801.6232, 1267.0174,  886.8456,  452.744 ,\n",
              "       3877.6192, 4414.254 , 5448.9072, 4950.8888,  958.752 , 1956.1204,\n",
              "       2404.2038,  387.4956,  994.7052, 1754.383 , 3340.9844, 3918.8988,\n",
              "        306.268 , 4278.4308, 4425.5726, 9267.936 ,  229.701 , 2055.9904,\n",
              "       3339.6528, 6410.3224, 1992.0736, 2870.9296, 2807.0128,  539.298 ,\n",
              "       4377.635 , 2716.464 ,  383.5008,  703.0848, 1937.478 , 3307.6944,\n",
              "       3142.576 , 2554.0088, 1869.5664, 5494.8474, 6093.4016, 2586.633 ,\n",
              "       1255.6988, 4093.3384, 3163.8816, 5033.448 , 1137.1864, 2696.49  ,\n",
              "        898.83  , 2756.412 ,  878.856 ,  659.142 ,  182.4292, 3610.6334,\n",
              "       5153.292 , 2588.6304, 1286.3256, 1230.3984, 1733.7432,  384.8324,\n",
              "       3969.4996, 7763.228 ,  809.6128, 1253.7014, 5715.2272, 1464.76  ,\n",
              "       3251.1014, 4274.436 , 5375.0034, 1318.284 , 2251.7356, 1176.4686,\n",
              "       3523.4136,  610.5386, 1237.7222,  474.0496,  717.7324, 2580.6408,\n",
              "       2552.6772, 3914.904 ,  796.9626,  916.1408, 3259.7568, 1677.816 ,\n",
              "       3707.1744, 2954.1546, 2652.5472, 1037.3164,  717.7324,  426.112 ,\n",
              "       6911.004 , 3811.0392, 2277.036 ,   48.6034, 5770.4886,  690.4346,\n",
              "       1890.2062, 3195.84  , 1504.708 ,  711.0744, 4311.055 ,  521.3214,\n",
              "        829.5868, 1571.288 , 2403.538 ,   83.8908,  844.2344, 2940.1728,\n",
              "        291.6204, 3259.7568, 3415.554 , 5624.6784, 6687.961 , 5642.655 ,\n",
              "       4943.565 , 3135.2522,  796.9626,  848.895 ,   38.6164, 4997.4948,\n",
              "        588.5672,  372.848 ,  155.1314, 3038.7112, 1587.2672,  687.1056,\n",
              "       1929.4884, 3600.6464, 2181.1608, 3428.2042,  623.1888, 2133.2232,\n",
              "       3401.5722, 1289.6546,   50.6008,  790.9704, 3147.9024, 2486.763 ,\n",
              "       1139.8496, 1816.3024,  199.74  ,  978.726 , 2683.174 , 2897.5616,\n",
              "       9158.079 , 1957.452 , 1296.3126, 2528.7084,  284.2966,  759.012 ,\n",
              "       1787.673 , 2431.5016, 4466.1864, 2048.6666, 1940.807 , 2067.309 ,\n",
              "       2663.2   , 1146.5076, 3448.844 , 1665.8316, 8114.7704, 1713.7692,\n",
              "        810.9444, 1193.1136,  856.8846,  165.7842, 1057.9562, 2205.1296,\n",
              "       2940.1728, 3046.7008, 3327.6684,  520.6556, 2999.429 , 2113.2492,\n",
              "        942.7728,   75.2354, 1581.9408,   37.9506,  151.8024, 3486.1288,\n",
              "       4262.4516,  731.0484, 1398.8458, 2336.958 , 2348.9424, 7094.7648,\n",
              "       1054.6272, 1298.31  , 2330.3   , 4584.6988,  527.3136, 1869.5664,\n",
              "       2876.256 ,  407.4696, 2189.8162, 1603.9122, 2013.3792,   95.8752,\n",
              "        774.9912, 2403.538 , 4380.2982,  219.714 ,  729.051 , 1393.5194,\n",
              "       5262.4832,  372.848 , 3273.7386, 5344.3766,  303.6048,  314.2576,\n",
              "        276.307 ,  721.0614, 3467.4864, 5416.9488,  283.6308,  323.5788,\n",
              "       5206.556 , 2503.408 , 1960.781 ,  370.1848,   95.8752, 3299.7048,\n",
              "       2684.5056, 2085.2856, 2210.456 , 2187.153 , 1049.9666, 2719.793 ,\n",
              "         56.593 ,  231.6984, 5734.5354, 1398.18  , 1531.34  ,  319.584 ,\n",
              "        633.8416, 1014.6792, 2094.6068, 2386.2272,  780.9834, 1693.7952,\n",
              "        334.2316, 1342.2528, 4916.2672, 1757.712 , 1637.868 , 1747.725 ,\n",
              "       2876.256 , 1966.7732,  958.752 ,   81.2276, 1238.388 ,  319.584 ,\n",
              "       4418.2488, 2863.6058, 1845.5976, 1561.9668, 3848.324 , 2097.27  ,\n",
              "        639.168 ,  559.272 , 2770.3938,  295.6152,   37.9506, 1267.0174,\n",
              "        353.5398, 1118.544 , 4655.2736, 1547.3192, 1045.306 ,  275.6412,\n",
              "       2735.1064,  347.5476, 3817.0314, 1905.5196,  665.8   , 2324.9736,\n",
              "       3205.1612, 2101.9306, 1821.6288, 3643.2576, 2942.836 ,  587.2356,\n",
              "       2886.243 , 2223.772 ,  487.3656, 5770.4886, 1414.1592, 5502.837 ,\n",
              "       2181.8266, 1565.9616, 1054.6272, 1667.829 , 2812.3392,  489.363 ,\n",
              "       2865.6032, 1665.8316, 2694.4926, 1555.9746, 3836.3396,  543.2928,\n",
              "       1950.794 ,  177.7686, 1035.319 ,  949.4308, 1283.6624,  484.7024,\n",
              "        934.7832,  534.6374,  878.856 , 1332.9316, 3560.6984,  647.8234,\n",
              "       4993.5   , 1691.7978, 1695.7926, 4042.7376, 4763.799 , 1640.5312,\n",
              "       1288.9888, 2334.9606, 2207.127 ,  437.4306, 2370.248 , 5087.3778,\n",
              "        103.199 , 4697.8848, 2406.867 , 5736.5328, 7192.6374, 6611.394 ,\n",
              "       3246.4408, 1262.3568, 1758.3778, 4672.5844, 3775.086 , 2478.7734,\n",
              "       3067.3406, 3281.7282, 1086.5856,  229.701 , 1528.011 , 1990.742 ,\n",
              "        868.869 , 1230.3984,  938.778 , 4194.54  , 1166.4816, 5764.4964,\n",
              "        113.8518, 7443.644 , 3057.3536, 3579.3408, 1522.0188,  450.0808,\n",
              "        607.2096, 1325.6078, 1270.3464, 1107.8912, 3542.056 , 1534.0032,\n",
              "       1308.297 , 1471.418 , 1239.7196, 3896.2616, 1496.0526, 3460.8284,\n",
              "       2870.9296, 1259.6936,  177.1028,  798.96  , 3185.853 , 1488.063 ,\n",
              "       5159.2842, 5954.2494, 4500.808 ,  121.8414, 4318.3788, 3456.1678,\n",
              "       1659.8394,  759.012 , 4974.1918, 1707.777 , 7488.9184, 2488.7604,\n",
              "       2816.334 , 2954.1546,  761.0094,  593.2278, 1298.31  , 1150.5024,\n",
              "       3072.667 , 3259.7568, 2756.412 , 2930.1858,   97.2068, 1544.656 ,\n",
              "       3165.879 , 1619.2256,  387.4956,  415.4592,  226.372 , 1267.6832,\n",
              "       1593.9252,  585.904 , 3745.125 , 1810.976 , 2358.2636,  145.8102,\n",
              "        554.6114, 3499.4448, 1780.3492, 2566.659 , 1230.3984,  918.804 ,\n",
              "       3079.9908,  744.3644,  716.4008, 5113.344 ,  886.8456, 1039.9796,\n",
              "       4554.072 , 1807.647 , 2665.8632, 1751.054 , 2626.581 , 1470.0864,\n",
              "       4362.3216, 4476.1734, 2241.0828, 4733.838 ,  258.3304, 3174.5344,\n",
              "       2924.8594,  960.7494,  539.298 , 2041.3428,  996.0368, 1757.712 ,\n",
              "       1842.9344, 3435.528 , 1402.1748, 7833.8028, 1221.0772,  669.129 ,\n",
              "       1061.951 , 2874.9244, 4592.0226,  419.454 , 5163.9448,  323.5788,\n",
              "       1265.02  ,  622.523 , 1125.202 , 5198.5664,  379.506 , 2432.8332,\n",
              "       1657.842 , 3006.087 , 2287.023 , 1687.1372, 3237.1196, 2746.425 ,\n",
              "       1331.6   ,  607.8754,  857.5504, 4287.752 , 1773.6912,  597.2226,\n",
              "        441.4254, 1431.47  , 2860.2768, 3364.9532, 1757.712 ,  966.7416,\n",
              "       1958.1178,  129.1652,  365.5242, 1783.6782, 2790.3678, 2328.3026,\n",
              "       2822.992 , 2045.3376,  505.3422, 3095.97  , 5141.3076,  808.947 ,\n",
              "       2665.8632, 2588.6304, 1108.557 , 1304.968 ,  331.5684, 3235.788 ,\n",
              "       3089.312 , 3355.632 , 2037.348 , 1867.569 ,  898.83  , 7759.899 ,\n",
              "       2848.2924, 2868.9322, 3617.9572, 5243.8408, 2109.2544,  721.0614,\n",
              "       1203.1006, 1868.2348,  322.2472, 3942.8676, 3195.84  , 3338.3212,\n",
              "       4086.0146, 1856.2504, 1380.8692, 1267.0174, 5182.5872,  147.1418,\n",
              "         58.5904, 5367.6796, 1358.232 , 5976.2208, 2251.7356,  181.7634,\n",
              "       5443.5808, 1547.3192,  145.8102, 5063.409 , 3067.3406, 2857.6136,\n",
              "       1406.1696,  178.4344, 1470.0864, 2896.23  , 6515.5188,  996.0368,\n",
              "        948.0992,   87.2198, 1178.466 ,  565.2642, 2137.8838,  547.2876,\n",
              "       2691.8294, 3057.3536,  588.5672,  978.726 , 2356.932 , 3086.6488,\n",
              "        461.3994, 2696.49  , 1649.8524,  126.502 , 2014.7108, 1707.777 ,\n",
              "        932.12  , 2157.192 , 4643.955 , 1280.9992, 2366.919 ,  886.8456,\n",
              "        958.752 , 1150.5024, 2641.8944, 1547.985 ,  619.194 , 2808.3444,\n",
              "       2266.3832, 1929.4884, 1054.6272, 1155.8288, 1174.4712, 3412.8908,\n",
              "        300.9416,  387.4956, 2942.836 , 4098.6648,  452.744 , 3211.8192,\n",
              "       2620.5888, 1414.1592, 1565.9616, 1043.9744, 3115.944 ,  729.051 ,\n",
              "       2956.152 ,  527.3136, 1058.622 , 1320.9472, 3047.3666, 1725.7536,\n",
              "        143.147 ,  446.7518,  585.904 , 6331.758 , 1853.5872, 2247.075 ,\n",
              "         33.29  ,  445.4202,  657.8104,  223.7088,  727.0536,  218.3824,\n",
              "       2665.8632,  591.2304, 2311.6576, 7017.532 ,  895.501 , 4655.2736,\n",
              "        198.4084,  451.4124,   50.6008,  615.1992,  876.1928, 2454.1388,\n",
              "        251.6724, 4102.6596, 2696.49  , 1569.9564,  189.753 , 3099.9648,\n",
              "        743.0328, 1611.9018, 1215.7508,  367.5216, 3150.5656, 7370.406 ,\n",
              "       2954.8204,  643.1628,   89.2172, 4940.236 ,  735.709 , 1170.4764,\n",
              "       1135.189 , 3823.0236, 1549.9824,  114.5176, 1033.3216, 4561.3958,\n",
              "       2416.854 , 2133.2232, 1482.7366, 2892.2352,  984.7182,  745.696 ,\n",
              "       1323.6104, 1547.3192,  647.1576, 1798.9916, 1973.4312, 1737.738 ,\n",
              "       1864.24  , 1516.0266, 5060.08  , 2157.192 , 5400.9696, 5469.547 ,\n",
              "        174.4396, 1278.336 , 1917.504 , 1017.3424, 1998.7316,  615.1992,\n",
              "        314.2576,  123.173 , 1020.6714, 1222.4088,  474.0496, 1506.0396,\n",
              "        762.341 , 1277.0044, 3547.3824, 6042.135 ,  384.8324, 1223.0746,\n",
              "       2182.4924, 1478.076 , 1418.154 , 5061.4116, 2888.2404, 5518.1504,\n",
              "        741.0354, 9133.4444, 1857.582 , 2836.308 , 2982.784 ,  167.7816,\n",
              "       1150.5024, 9275.9256, 5038.1086, 2115.9124])"
            ]
          },
          "execution_count": 160,
          "metadata": {},
          "output_type": "execute_result"
        }
      ],
      "source": [
        "y"
      ]
    },
    {
      "cell_type": "markdown",
      "metadata": {
        "id": "tv_zwq1CNgcX"
      },
      "source": [
        "###Applying Preprocessing technique:\n",
        "\n",
        "One hot encoder:"
      ]
    },
    {
      "cell_type": "code",
      "execution_count": null,
      "metadata": {
        "colab": {
          "base_uri": "https://localhost:8080/"
        },
        "id": "HSe5cFCgsmNG",
        "outputId": "c2762dea-3220-4f6d-f5e9-414ecfb64267"
      },
      "outputs": [
        {
          "data": {
            "text/plain": [
              "(1000, 2977)"
            ]
          },
          "execution_count": 161,
          "metadata": {},
          "output_type": "execute_result"
        }
      ],
      "source": [
        "from sklearn.preprocessing import OneHotEncoder\n",
        "X2= OneHotEncoder().fit_transform(X).toarray()\n",
        "X2.shape"
      ]
    },
    {
      "cell_type": "code",
      "execution_count": null,
      "metadata": {
        "colab": {
          "base_uri": "https://localhost:8080/"
        },
        "id": "wY-JuuLUsn8X",
        "outputId": "ef708740-a5c5-4e90-bfe5-2050402d3fe3"
      },
      "outputs": [
        {
          "data": {
            "text/plain": [
              "dtype('float64')"
            ]
          },
          "execution_count": 162,
          "metadata": {},
          "output_type": "execute_result"
        }
      ],
      "source": [
        "y.dtype"
      ]
    },
    {
      "cell_type": "markdown",
      "metadata": {
        "id": "6n0LefijODPk"
      },
      "source": [
        "###Splitting the data into traninig and testing set:"
      ]
    },
    {
      "cell_type": "code",
      "execution_count": null,
      "metadata": {
        "colab": {
          "base_uri": "https://localhost:8080/"
        },
        "id": "x---C6ZtwbWO",
        "outputId": "5412c7e7-915a-485a-fa36-f36f0f51da4f"
      },
      "outputs": [
        {
          "name": "stdout",
          "output_type": "stream",
          "text": [
            "(800, 2977) (200, 2977) (800,) (200,)\n"
          ]
        }
      ],
      "source": [
        "from sklearn.model_selection import train_test_split\n",
        "\n",
        "X_train, X_test, y_train, y_test = train_test_split(X2,y, test_size=0.20 , random_state=101 )\n",
        "\n",
        "print(X_train.shape, X_test.shape, y_train.shape, y_test.shape)"
      ]
    },
    {
      "cell_type": "markdown",
      "metadata": {
        "id": "sHMwuUR0PvTu"
      },
      "source": [
        "###Training the Linear Regression model:"
      ]
    },
    {
      "cell_type": "code",
      "execution_count": null,
      "metadata": {
        "id": "d1XICthqkL6t"
      },
      "outputs": [],
      "source": [
        "from sklearn.linear_model import LinearRegression\n",
        "\n",
        "linreg=LinearRegression()"
      ]
    },
    {
      "cell_type": "code",
      "execution_count": null,
      "metadata": {
        "colab": {
          "base_uri": "https://localhost:8080/",
          "height": 74
        },
        "id": "e90wsR6XkQWj",
        "outputId": "963fccea-72fa-4e0c-ec4a-c3308226b8f8"
      },
      "outputs": [
        {
          "data": {
            "text/html": [
              "<style>#sk-container-id-9 {color: black;background-color: white;}#sk-container-id-9 pre{padding: 0;}#sk-container-id-9 div.sk-toggleable {background-color: white;}#sk-container-id-9 label.sk-toggleable__label {cursor: pointer;display: block;width: 100%;margin-bottom: 0;padding: 0.3em;box-sizing: border-box;text-align: center;}#sk-container-id-9 label.sk-toggleable__label-arrow:before {content: \"▸\";float: left;margin-right: 0.25em;color: #696969;}#sk-container-id-9 label.sk-toggleable__label-arrow:hover:before {color: black;}#sk-container-id-9 div.sk-estimator:hover label.sk-toggleable__label-arrow:before {color: black;}#sk-container-id-9 div.sk-toggleable__content {max-height: 0;max-width: 0;overflow: hidden;text-align: left;background-color: #f0f8ff;}#sk-container-id-9 div.sk-toggleable__content pre {margin: 0.2em;color: black;border-radius: 0.25em;background-color: #f0f8ff;}#sk-container-id-9 input.sk-toggleable__control:checked~div.sk-toggleable__content {max-height: 200px;max-width: 100%;overflow: auto;}#sk-container-id-9 input.sk-toggleable__control:checked~label.sk-toggleable__label-arrow:before {content: \"▾\";}#sk-container-id-9 div.sk-estimator input.sk-toggleable__control:checked~label.sk-toggleable__label {background-color: #d4ebff;}#sk-container-id-9 div.sk-label input.sk-toggleable__control:checked~label.sk-toggleable__label {background-color: #d4ebff;}#sk-container-id-9 input.sk-hidden--visually {border: 0;clip: rect(1px 1px 1px 1px);clip: rect(1px, 1px, 1px, 1px);height: 1px;margin: -1px;overflow: hidden;padding: 0;position: absolute;width: 1px;}#sk-container-id-9 div.sk-estimator {font-family: monospace;background-color: #f0f8ff;border: 1px dotted black;border-radius: 0.25em;box-sizing: border-box;margin-bottom: 0.5em;}#sk-container-id-9 div.sk-estimator:hover {background-color: #d4ebff;}#sk-container-id-9 div.sk-parallel-item::after {content: \"\";width: 100%;border-bottom: 1px solid gray;flex-grow: 1;}#sk-container-id-9 div.sk-label:hover label.sk-toggleable__label {background-color: #d4ebff;}#sk-container-id-9 div.sk-serial::before {content: \"\";position: absolute;border-left: 1px solid gray;box-sizing: border-box;top: 0;bottom: 0;left: 50%;z-index: 0;}#sk-container-id-9 div.sk-serial {display: flex;flex-direction: column;align-items: center;background-color: white;padding-right: 0.2em;padding-left: 0.2em;position: relative;}#sk-container-id-9 div.sk-item {position: relative;z-index: 1;}#sk-container-id-9 div.sk-parallel {display: flex;align-items: stretch;justify-content: center;background-color: white;position: relative;}#sk-container-id-9 div.sk-item::before, #sk-container-id-9 div.sk-parallel-item::before {content: \"\";position: absolute;border-left: 1px solid gray;box-sizing: border-box;top: 0;bottom: 0;left: 50%;z-index: -1;}#sk-container-id-9 div.sk-parallel-item {display: flex;flex-direction: column;z-index: 1;position: relative;background-color: white;}#sk-container-id-9 div.sk-parallel-item:first-child::after {align-self: flex-end;width: 50%;}#sk-container-id-9 div.sk-parallel-item:last-child::after {align-self: flex-start;width: 50%;}#sk-container-id-9 div.sk-parallel-item:only-child::after {width: 0;}#sk-container-id-9 div.sk-dashed-wrapped {border: 1px dashed gray;margin: 0 0.4em 0.5em 0.4em;box-sizing: border-box;padding-bottom: 0.4em;background-color: white;}#sk-container-id-9 div.sk-label label {font-family: monospace;font-weight: bold;display: inline-block;line-height: 1.2em;}#sk-container-id-9 div.sk-label-container {text-align: center;}#sk-container-id-9 div.sk-container {/* jupyter's `normalize.less` sets `[hidden] { display: none; }` but bootstrap.min.css set `[hidden] { display: none !important; }` so we also need the `!important` here to be able to override the default hidden behavior on the sphinx rendered scikit-learn.org. See: https://github.com/scikit-learn/scikit-learn/issues/21755 */display: inline-block !important;position: relative;}#sk-container-id-9 div.sk-text-repr-fallback {display: none;}</style><div id=\"sk-container-id-9\" class=\"sk-top-container\"><div class=\"sk-text-repr-fallback\"><pre>LinearRegression()</pre><b>In a Jupyter environment, please rerun this cell to show the HTML representation or trust the notebook. <br />On GitHub, the HTML representation is unable to render, please try loading this page with nbviewer.org.</b></div><div class=\"sk-container\" hidden><div class=\"sk-item\"><div class=\"sk-estimator sk-toggleable\"><input class=\"sk-toggleable__control sk-hidden--visually\" id=\"sk-estimator-id-9\" type=\"checkbox\" checked><label for=\"sk-estimator-id-9\" class=\"sk-toggleable__label sk-toggleable__label-arrow\">LinearRegression</label><div class=\"sk-toggleable__content\"><pre>LinearRegression()</pre></div></div></div></div></div>"
            ],
            "text/plain": [
              "LinearRegression()"
            ]
          },
          "execution_count": 194,
          "metadata": {},
          "output_type": "execute_result"
        }
      ],
      "source": [
        "linreg.fit(X_train,y_train)\n"
      ]
    },
    {
      "cell_type": "markdown",
      "metadata": {
        "id": "ur1wJ5t0nqwF"
      },
      "source": [
        "Making predictions using linear regression:"
      ]
    },
    {
      "cell_type": "code",
      "execution_count": null,
      "metadata": {
        "colab": {
          "base_uri": "https://localhost:8080/"
        },
        "id": "ksToaOeWlBD9",
        "outputId": "1e16ca82-94ca-44be-8cb4-af647fb996c5"
      },
      "outputs": [
        {
          "data": {
            "text/plain": [
              "array([ 180.06492089, 2525.08206368, 1616.25350517, 3572.12387264,\n",
              "       3582.8971332 , 2016.92467441, 3511.60031751, 1968.06867726,\n",
              "       1560.34587916, 2294.59578335, 3136.8098756 , 2713.24259745,\n",
              "        554.69492184, 1950.81492905, 2110.45477976, 3780.50199693,\n",
              "       1398.98574477, 2242.26273965, 3479.24513365, 1242.89505968,\n",
              "       2315.06559172, 1875.75690342, 2658.26641025, 2152.07758258,\n",
              "       2073.86392181,  387.26764176, 2396.82216741, 1555.15409741,\n",
              "       2263.89868267, 2310.96329261, 3674.55501553, 3808.15511018,\n",
              "       2063.7867821 , 2298.13258957, 1855.2124427 , 2179.64293935,\n",
              "       1971.76095967, 3308.05828778, 2022.14454936, 3300.80479133,\n",
              "          7.18857402, 2242.38592392, 2431.15196905, 3055.37109063,\n",
              "       2065.85274656,  185.50122848, 3454.3609396 ,   62.64720567,\n",
              "       2325.68277452, 2129.3012693 , 1930.9501869 , 3557.63735442,\n",
              "       1235.71931042, 1707.29068905, 3387.32430605, 3039.96089322,\n",
              "       2661.63696447, 1870.34917238, 2885.49223464, 1560.52385924,\n",
              "       3268.64677694, 2510.59091884,  529.97650076, 2100.88052209,\n",
              "       4027.5332326 , -197.67118795, 5238.26540726, 2180.57807413,\n",
              "       2107.95124688, 2348.06779969, 3236.75938024, 2529.0070879 ,\n",
              "       2134.34882538, 2072.56021108, 2480.78383327, 1756.20610393,\n",
              "       3502.63292873, 2611.90006839, 4261.50187911, 3202.96966211,\n",
              "       1932.09455941, 1616.01261362, 2286.77380435, 2337.70843453,\n",
              "       2937.54713378, 1943.38078649, 3300.84034038, 2066.3255444 ,\n",
              "       3606.4689764 , 2445.13943181, 3611.78283213, 3214.53169762,\n",
              "       2069.2479464 , 2883.06691554, 2076.52539783, 2080.03078205,\n",
              "       2327.80441643, 1563.44366144, 2060.77392252, 1733.87811577,\n",
              "       1695.21084914, 2836.27844272, 3446.44015949, 2330.02214332,\n",
              "       2331.55044018, 1774.81244176, 3159.71899847, 3709.74636495,\n",
              "       2515.94327421, 3049.96427579, 2894.21852753,  905.18171419,\n",
              "       -398.43031165, 1582.49084547, -476.28483985, 2172.02245383,\n",
              "       3617.42103662, 3759.95121595, 1724.63312285, 1974.26717258,\n",
              "       3591.58380091, 4551.72813423, 2463.84741974, 1183.27123238,\n",
              "        372.0272934 , 2011.9679336 , 1764.86320302, 1672.19204702,\n",
              "       3660.338497  , 1867.4024425 , 1554.92043033, 2693.34290874,\n",
              "       2220.69436288, 4294.54677269, 2885.95208615, 3502.61605478,\n",
              "        312.97651629, 2280.08677904, 2618.67577552, 2081.28595733,\n",
              "       4180.07937701, 1608.49942461, 3688.54164088, 1824.52988523,\n",
              "       2353.08801868,  325.98798627, 2170.52208739, 3592.39598391,\n",
              "       2073.86587785, 2852.50149681, 2199.05530791, 2504.85698107,\n",
              "       1871.20108303, 2258.42313598, 2406.22504709, 1032.16626519,\n",
              "       1574.62329001,  589.52699012, 1176.26252816, 1262.38100051,\n",
              "       2005.71804061, 2328.03968939, 1763.6484556 , 2400.33235443,\n",
              "       2565.02485191, 2844.80873392, 2611.20836574, 1905.94089614,\n",
              "       2435.95053437,  540.66482515, 3291.74340887, 2965.58742427,\n",
              "       1680.83255947,  373.53008464, 3511.11798538, 2061.05364686,\n",
              "       2440.96803702, 3045.19804951, 2137.85357672, 3635.17667196,\n",
              "       1185.10778105, 2181.69246078, 1990.09185884, 3268.3401017 ,\n",
              "        318.18085633, 2347.25769616, 1954.26511445, 1961.30616252,\n",
              "        671.19632947, 2390.95928726, 2415.80418418, 2322.25601714,\n",
              "       1895.65311213,  372.87712811, 1820.56106151, 1746.7169654 ,\n",
              "       3346.95371882,  665.25517691, 2962.6761104 , 3153.88122083])"
            ]
          },
          "execution_count": 195,
          "metadata": {},
          "output_type": "execute_result"
        }
      ],
      "source": [
        "y_pred=linreg.predict(X_test)\n",
        "y_pred"
      ]
    },
    {
      "cell_type": "code",
      "execution_count": null,
      "metadata": {
        "colab": {
          "base_uri": "https://localhost:8080/"
        },
        "id": "wMRRVLemlqhO",
        "outputId": "95ed3cb5-d304-4f2b-abda-87a8ea8119d8"
      },
      "outputs": [
        {
          "data": {
            "text/plain": [
              "{'Actual': array([ 319.584 ,  942.7728,  812.276 , 5063.409 , 5070.7328,  489.363 ,\n",
              "        3440.8544, 1707.777 ,  331.5684, 5770.4886, 1380.8692, 1506.0396,\n",
              "         258.3304,  539.298 , 1565.9616, 4414.254 , 2085.9514, 2364.9216,\n",
              "        3068.0064, 2516.724 , 3211.8192, 1270.3464, 3195.84  , 1221.0772,\n",
              "        1039.9796,  213.056 , 2097.27  , 2117.244 , 1890.2062, 2665.8632,\n",
              "        2797.6916,  521.3214, 1969.4364, 2812.3392, 1253.7014,  876.1928,\n",
              "        2863.6058,  535.3032, 1155.8288, 6976.2524,  291.6204, 3275.736 ,\n",
              "         314.2576, 3866.9664, 2336.958 ,  263.6568, 9275.9256,  189.753 ,\n",
              "        4993.5   , 1853.5872, 1414.1592, 7370.406 , 4843.695 , 1504.708 ,\n",
              "        4022.7636, 6258.52  , 3147.9024, 4098.6648, 1794.331 ,  585.904 ,\n",
              "        1318.284 , 5580.7356,  147.1418, 4093.3384, 3079.9908,  239.688 ,\n",
              "        3315.684 , 2956.152 , 5262.4832, 1867.569 , 1288.9888, 2133.2232,\n",
              "        5182.5872, 1649.8524, 3067.3406, 1805.6496, 2251.7356, 6093.4016,\n",
              "        3735.138 , 2416.854 , 3823.0236, 2892.2352, 2109.2544, 3523.4136,\n",
              "        1035.319 ,  484.7024, 1358.232 , 3690.5294, 4769.1254, 6088.0752,\n",
              "         717.7324, 5555.4352,  199.74  , 4119.9704, 2205.1296, 1929.4884,\n",
              "         848.895 , 1958.1178, 1037.3164, 1621.8888, 1857.582 , 2741.7644,\n",
              "         974.7312, 2037.348 , 2233.0932,  343.5528, 3355.632 , 9267.936 ,\n",
              "        3151.8972, 1402.1748, 1747.725 , 1561.9668,  178.4344, 2683.174 ,\n",
              "         231.6984, 5736.5328, 1107.8912, 3235.788 , 2406.867 ,  762.341 ,\n",
              "        3364.9532, 5642.655 ,  928.1252, 2082.6224,  143.147 , 1544.656 ,\n",
              "         177.7686, 1125.202 , 7696.648 ,  729.051 , 2530.7058, 2182.4924,\n",
              "        1239.7196, 2527.3768,  607.2096, 4278.4308,  163.7868,  145.8102,\n",
              "         445.4202, 4584.6988, 4363.6532, 1780.3492, 6024.1584, 1325.6078,\n",
              "         759.012 ,  461.3994, 1856.2504, 4476.1734, 4274.436 , 1308.297 ,\n",
              "        2691.8294, 2330.3   ,  372.848 , 3914.904 , 4672.5844,  369.519 ,\n",
              "        1794.331 ,  761.0094,   58.5904,  133.16  , 1012.016 , 3456.1678,\n",
              "         353.5398, 1150.5024, 1332.9316, 1787.673 ,  809.6128, 1693.7952,\n",
              "         527.3136,  121.8414, 1569.9564, 2223.772 ,  659.142 ,  119.1782,\n",
              "        5448.9072, 1076.5986,  619.194 ,  918.804 , 3338.3212, 3848.324 ,\n",
              "        2663.2   , 1956.1204, 3412.8908, 2403.538 ,  214.3876, 3307.6944,\n",
              "        3038.7112, 3036.048 ,  559.272 , 2143.876 , 1277.0044,  958.752 ,\n",
              "        1267.0174,   50.6008,  874.8612, 2302.3364, 2486.763 ,  585.904 ,\n",
              "        2045.3376, 4318.3788])}"
            ]
          },
          "execution_count": 196,
          "metadata": {},
          "output_type": "execute_result"
        }
      ],
      "source": [
        "({'Actual': y_test})"
      ]
    },
    {
      "cell_type": "code",
      "execution_count": null,
      "metadata": {
        "colab": {
          "base_uri": "https://localhost:8080/"
        },
        "id": "BtxaUHuoljv4",
        "outputId": "83666156-14f7-4aa4-fa9e-f8efe24d96c7"
      },
      "outputs": [
        {
          "data": {
            "text/plain": [
              "{'Predicted': array([ 180.06492089, 2525.08206368, 1616.25350517, 3572.12387264,\n",
              "        3582.8971332 , 2016.92467441, 3511.60031751, 1968.06867726,\n",
              "        1560.34587916, 2294.59578335, 3136.8098756 , 2713.24259745,\n",
              "         554.69492184, 1950.81492905, 2110.45477976, 3780.50199693,\n",
              "        1398.98574477, 2242.26273965, 3479.24513365, 1242.89505968,\n",
              "        2315.06559172, 1875.75690342, 2658.26641025, 2152.07758258,\n",
              "        2073.86392181,  387.26764176, 2396.82216741, 1555.15409741,\n",
              "        2263.89868267, 2310.96329261, 3674.55501553, 3808.15511018,\n",
              "        2063.7867821 , 2298.13258957, 1855.2124427 , 2179.64293935,\n",
              "        1971.76095967, 3308.05828778, 2022.14454936, 3300.80479133,\n",
              "           7.18857402, 2242.38592392, 2431.15196905, 3055.37109063,\n",
              "        2065.85274656,  185.50122848, 3454.3609396 ,   62.64720567,\n",
              "        2325.68277452, 2129.3012693 , 1930.9501869 , 3557.63735442,\n",
              "        1235.71931042, 1707.29068905, 3387.32430605, 3039.96089322,\n",
              "        2661.63696447, 1870.34917238, 2885.49223464, 1560.52385924,\n",
              "        3268.64677694, 2510.59091884,  529.97650076, 2100.88052209,\n",
              "        4027.5332326 , -197.67118795, 5238.26540726, 2180.57807413,\n",
              "        2107.95124688, 2348.06779969, 3236.75938024, 2529.0070879 ,\n",
              "        2134.34882538, 2072.56021108, 2480.78383327, 1756.20610393,\n",
              "        3502.63292873, 2611.90006839, 4261.50187911, 3202.96966211,\n",
              "        1932.09455941, 1616.01261362, 2286.77380435, 2337.70843453,\n",
              "        2937.54713378, 1943.38078649, 3300.84034038, 2066.3255444 ,\n",
              "        3606.4689764 , 2445.13943181, 3611.78283213, 3214.53169762,\n",
              "        2069.2479464 , 2883.06691554, 2076.52539783, 2080.03078205,\n",
              "        2327.80441643, 1563.44366144, 2060.77392252, 1733.87811577,\n",
              "        1695.21084914, 2836.27844272, 3446.44015949, 2330.02214332,\n",
              "        2331.55044018, 1774.81244176, 3159.71899847, 3709.74636495,\n",
              "        2515.94327421, 3049.96427579, 2894.21852753,  905.18171419,\n",
              "        -398.43031165, 1582.49084547, -476.28483985, 2172.02245383,\n",
              "        3617.42103662, 3759.95121595, 1724.63312285, 1974.26717258,\n",
              "        3591.58380091, 4551.72813423, 2463.84741974, 1183.27123238,\n",
              "         372.0272934 , 2011.9679336 , 1764.86320302, 1672.19204702,\n",
              "        3660.338497  , 1867.4024425 , 1554.92043033, 2693.34290874,\n",
              "        2220.69436288, 4294.54677269, 2885.95208615, 3502.61605478,\n",
              "         312.97651629, 2280.08677904, 2618.67577552, 2081.28595733,\n",
              "        4180.07937701, 1608.49942461, 3688.54164088, 1824.52988523,\n",
              "        2353.08801868,  325.98798627, 2170.52208739, 3592.39598391,\n",
              "        2073.86587785, 2852.50149681, 2199.05530791, 2504.85698107,\n",
              "        1871.20108303, 2258.42313598, 2406.22504709, 1032.16626519,\n",
              "        1574.62329001,  589.52699012, 1176.26252816, 1262.38100051,\n",
              "        2005.71804061, 2328.03968939, 1763.6484556 , 2400.33235443,\n",
              "        2565.02485191, 2844.80873392, 2611.20836574, 1905.94089614,\n",
              "        2435.95053437,  540.66482515, 3291.74340887, 2965.58742427,\n",
              "        1680.83255947,  373.53008464, 3511.11798538, 2061.05364686,\n",
              "        2440.96803702, 3045.19804951, 2137.85357672, 3635.17667196,\n",
              "        1185.10778105, 2181.69246078, 1990.09185884, 3268.3401017 ,\n",
              "         318.18085633, 2347.25769616, 1954.26511445, 1961.30616252,\n",
              "         671.19632947, 2390.95928726, 2415.80418418, 2322.25601714,\n",
              "        1895.65311213,  372.87712811, 1820.56106151, 1746.7169654 ,\n",
              "        3346.95371882,  665.25517691, 2962.6761104 , 3153.88122083])}"
            ]
          },
          "execution_count": 197,
          "metadata": {},
          "output_type": "execute_result"
        }
      ],
      "source": [
        "({'Predicted': y_pred})"
      ]
    },
    {
      "cell_type": "code",
      "execution_count": null,
      "metadata": {
        "colab": {
          "base_uri": "https://localhost:8080/"
        },
        "id": "DPz6nLvrl1G0",
        "outputId": "eb078592-9996-477e-de4e-b0bdcda159cc"
      },
      "outputs": [
        {
          "data": {
            "text/plain": [
              "[array([ 180.06, 2525.08, 1616.25, 3572.12, 3582.9 , 2016.92, 3511.6 ,\n",
              "        1968.07, 1560.35, 2294.6 , 3136.81, 2713.24,  554.69, 1950.81,\n",
              "        2110.45, 3780.5 , 1398.99, 2242.26, 3479.25, 1242.9 , 2315.07,\n",
              "        1875.76, 2658.27, 2152.08, 2073.86,  387.27, 2396.82, 1555.15,\n",
              "        2263.9 , 2310.96, 3674.56, 3808.16, 2063.79, 2298.13, 1855.21,\n",
              "        2179.64, 1971.76, 3308.06, 2022.14, 3300.8 ,    7.19, 2242.39,\n",
              "        2431.15, 3055.37, 2065.85,  185.5 , 3454.36,   62.65, 2325.68,\n",
              "        2129.3 , 1930.95, 3557.64, 1235.72, 1707.29, 3387.32, 3039.96,\n",
              "        2661.64, 1870.35, 2885.49, 1560.52, 3268.65, 2510.59,  529.98,\n",
              "        2100.88, 4027.53, -197.67, 5238.27, 2180.58, 2107.95, 2348.07,\n",
              "        3236.76, 2529.01, 2134.35, 2072.56, 2480.78, 1756.21, 3502.63,\n",
              "        2611.9 , 4261.5 , 3202.97, 1932.09, 1616.01, 2286.77, 2337.71,\n",
              "        2937.55, 1943.38, 3300.84, 2066.33, 3606.47, 2445.14, 3611.78,\n",
              "        3214.53, 2069.25, 2883.07, 2076.53, 2080.03, 2327.8 , 1563.44,\n",
              "        2060.77, 1733.88, 1695.21, 2836.28, 3446.44, 2330.02, 2331.55,\n",
              "        1774.81, 3159.72, 3709.75, 2515.94, 3049.96, 2894.22,  905.18,\n",
              "        -398.43, 1582.49, -476.28, 2172.02, 3617.42, 3759.95, 1724.63,\n",
              "        1974.27, 3591.58, 4551.73, 2463.85, 1183.27,  372.03, 2011.97,\n",
              "        1764.86, 1672.19, 3660.34, 1867.4 , 1554.92, 2693.34, 2220.69,\n",
              "        4294.55, 2885.95, 3502.62,  312.98, 2280.09, 2618.68, 2081.29,\n",
              "        4180.08, 1608.5 , 3688.54, 1824.53, 2353.09,  325.99, 2170.52,\n",
              "        3592.4 , 2073.87, 2852.5 , 2199.06, 2504.86, 1871.2 , 2258.42,\n",
              "        2406.23, 1032.17, 1574.62,  589.53, 1176.26, 1262.38, 2005.72,\n",
              "        2328.04, 1763.65, 2400.33, 2565.02, 2844.81, 2611.21, 1905.94,\n",
              "        2435.95,  540.66, 3291.74, 2965.59, 1680.83,  373.53, 3511.12,\n",
              "        2061.05, 2440.97, 3045.2 , 2137.85, 3635.18, 1185.11, 2181.69,\n",
              "        1990.09, 3268.34,  318.18, 2347.26, 1954.27, 1961.31,  671.2 ,\n",
              "        2390.96, 2415.8 , 2322.26, 1895.65,  372.88, 1820.56, 1746.72,\n",
              "        3346.95,  665.26, 2962.68, 3153.88])]"
            ]
          },
          "execution_count": 198,
          "metadata": {},
          "output_type": "execute_result"
        }
      ],
      "source": [
        "import math  # rounding the prediction values \n",
        "import numpy as np\n",
        "rounded = [np.round(y_pred,2)]\n",
        "rounded"
      ]
    },
    {
      "cell_type": "markdown",
      "metadata": {
        "id": "2l8Vp3tOn9Gg"
      },
      "source": [
        "Linear regression evaluation: "
      ]
    },
    {
      "cell_type": "code",
      "execution_count": null,
      "metadata": {
        "colab": {
          "base_uri": "https://localhost:8080/"
        },
        "id": "qzv4bZ0yl8FG",
        "outputId": "f2e60d34-00ef-4230-ef76-1aad8cca37db"
      },
      "outputs": [
        {
          "name": "stdout",
          "output_type": "stream",
          "text": [
            " R2 score of linear regression:  0.2706038364629223\n"
          ]
        }
      ],
      "source": [
        "from sklearn.metrics import r2_score \n",
        "\n",
        "# R2(coefficient of determination) regression score function.\n",
        "\n",
        "# R-squared measures the strength of the relationship between your model and the dependent variable on a convenient 0 – 100% scale\n",
        "\n",
        "print(\" R2 score of linear regression: \", r2_score(y_test, y_pred))"
      ]
    },
    {
      "cell_type": "code",
      "execution_count": null,
      "metadata": {
        "colab": {
          "base_uri": "https://localhost:8080/"
        },
        "id": "-XuuHp8cpRQN",
        "outputId": "d4f8ba94-2a6d-443c-e5fd-6e607f29b592"
      },
      "outputs": [
        {
          "name": "stdout",
          "output_type": "stream",
          "text": [
            "sklearn MAE =  1181.7178231266082\n"
          ]
        }
      ],
      "source": [
        "from sklearn.metrics import mean_absolute_error as MAE\n",
        "\n",
        "print('sklearn MAE = ', MAE(y_test, y_pred))"
      ]
    },
    {
      "cell_type": "code",
      "execution_count": null,
      "metadata": {
        "colab": {
          "base_uri": "https://localhost:8080/",
          "height": 856
        },
        "id": "AJbo2bX9pXbg",
        "outputId": "ff6ae4bd-9f1c-463d-fe1a-8c7e3cfac586"
      },
      "outputs": [
        {
          "data": {
            "image/png": "[encoded data removed]",
            "text/plain": [
              "<Figure size 1000x1000 with 1 Axes>"
            ]
          },
          "metadata": {},
          "output_type": "display_data"
        }
      ],
      "source": [
        "plt.figure(figsize=(10,10))\n",
        "plt.scatter(y_test, y_pred ,c='crimson') \n",
        "p1 = max(max(y_pred), max(y_test))\n",
        "p2 = min(min(y_pred), min(y_test))\n",
        "plt.plot([p1, p2], [p1, p2], 'b-')\n",
        "plt.xlabel('True Values', fontsize=15)\n",
        "plt.ylabel('Predictions', fontsize=15)\n",
        "plt.axis('equal')\n",
        "plt.show()\n"
      ]
    },
    {
      "cell_type": "markdown",
      "metadata": {
        "id": "0c4-GhmEPsPb"
      },
      "source": [
        "###Regularized Linear Regression:"
      ]
    },
    {
      "cell_type": "markdown",
      "metadata": {
        "id": "mZl42sO7oGIu"
      },
      "source": [
        "Lets split the data and scaling the features:"
      ]
    },
    {
      "cell_type": "code",
      "execution_count": null,
      "metadata": {
        "colab": {
          "base_uri": "https://localhost:8080/",
          "height": 74
        },
        "id": "eHFiUH4xP7Pi",
        "outputId": "5e840cca-36fc-4477-b056-cb903b9e40d7"
      },
      "outputs": [
        {
          "data": {
            "text/html": [
              "<style>#sk-container-id-10 {color: black;background-color: white;}#sk-container-id-10 pre{padding: 0;}#sk-container-id-10 div.sk-toggleable {background-color: white;}#sk-container-id-10 label.sk-toggleable__label {cursor: pointer;display: block;width: 100%;margin-bottom: 0;padding: 0.3em;box-sizing: border-box;text-align: center;}#sk-container-id-10 label.sk-toggleable__label-arrow:before {content: \"▸\";float: left;margin-right: 0.25em;color: #696969;}#sk-container-id-10 label.sk-toggleable__label-arrow:hover:before {color: black;}#sk-container-id-10 div.sk-estimator:hover label.sk-toggleable__label-arrow:before {color: black;}#sk-container-id-10 div.sk-toggleable__content {max-height: 0;max-width: 0;overflow: hidden;text-align: left;background-color: #f0f8ff;}#sk-container-id-10 div.sk-toggleable__content pre {margin: 0.2em;color: black;border-radius: 0.25em;background-color: #f0f8ff;}#sk-container-id-10 input.sk-toggleable__control:checked~div.sk-toggleable__content {max-height: 200px;max-width: 100%;overflow: auto;}#sk-container-id-10 input.sk-toggleable__control:checked~label.sk-toggleable__label-arrow:before {content: \"▾\";}#sk-container-id-10 div.sk-estimator input.sk-toggleable__control:checked~label.sk-toggleable__label {background-color: #d4ebff;}#sk-container-id-10 div.sk-label input.sk-toggleable__control:checked~label.sk-toggleable__label {background-color: #d4ebff;}#sk-container-id-10 input.sk-hidden--visually {border: 0;clip: rect(1px 1px 1px 1px);clip: rect(1px, 1px, 1px, 1px);height: 1px;margin: -1px;overflow: hidden;padding: 0;position: absolute;width: 1px;}#sk-container-id-10 div.sk-estimator {font-family: monospace;background-color: #f0f8ff;border: 1px dotted black;border-radius: 0.25em;box-sizing: border-box;margin-bottom: 0.5em;}#sk-container-id-10 div.sk-estimator:hover {background-color: #d4ebff;}#sk-container-id-10 div.sk-parallel-item::after {content: \"\";width: 100%;border-bottom: 1px solid gray;flex-grow: 1;}#sk-container-id-10 div.sk-label:hover label.sk-toggleable__label {background-color: #d4ebff;}#sk-container-id-10 div.sk-serial::before {content: \"\";position: absolute;border-left: 1px solid gray;box-sizing: border-box;top: 0;bottom: 0;left: 50%;z-index: 0;}#sk-container-id-10 div.sk-serial {display: flex;flex-direction: column;align-items: center;background-color: white;padding-right: 0.2em;padding-left: 0.2em;position: relative;}#sk-container-id-10 div.sk-item {position: relative;z-index: 1;}#sk-container-id-10 div.sk-parallel {display: flex;align-items: stretch;justify-content: center;background-color: white;position: relative;}#sk-container-id-10 div.sk-item::before, #sk-container-id-10 div.sk-parallel-item::before {content: \"\";position: absolute;border-left: 1px solid gray;box-sizing: border-box;top: 0;bottom: 0;left: 50%;z-index: -1;}#sk-container-id-10 div.sk-parallel-item {display: flex;flex-direction: column;z-index: 1;position: relative;background-color: white;}#sk-container-id-10 div.sk-parallel-item:first-child::after {align-self: flex-end;width: 50%;}#sk-container-id-10 div.sk-parallel-item:last-child::after {align-self: flex-start;width: 50%;}#sk-container-id-10 div.sk-parallel-item:only-child::after {width: 0;}#sk-container-id-10 div.sk-dashed-wrapped {border: 1px dashed gray;margin: 0 0.4em 0.5em 0.4em;box-sizing: border-box;padding-bottom: 0.4em;background-color: white;}#sk-container-id-10 div.sk-label label {font-family: monospace;font-weight: bold;display: inline-block;line-height: 1.2em;}#sk-container-id-10 div.sk-label-container {text-align: center;}#sk-container-id-10 div.sk-container {/* jupyter's `normalize.less` sets `[hidden] { display: none; }` but bootstrap.min.css set `[hidden] { display: none !important; }` so we also need the `!important` here to be able to override the default hidden behavior on the sphinx rendered scikit-learn.org. See: https://github.com/scikit-learn/scikit-learn/issues/21755 */display: inline-block !important;position: relative;}#sk-container-id-10 div.sk-text-repr-fallback {display: none;}</style><div id=\"sk-container-id-10\" class=\"sk-top-container\"><div class=\"sk-text-repr-fallback\"><pre>StandardScaler()</pre><b>In a Jupyter environment, please rerun this cell to show the HTML representation or trust the notebook. <br />On GitHub, the HTML representation is unable to render, please try loading this page with nbviewer.org.</b></div><div class=\"sk-container\" hidden><div class=\"sk-item\"><div class=\"sk-estimator sk-toggleable\"><input class=\"sk-toggleable__control sk-hidden--visually\" id=\"sk-estimator-id-10\" type=\"checkbox\" checked><label for=\"sk-estimator-id-10\" class=\"sk-toggleable__label sk-toggleable__label-arrow\">StandardScaler</label><div class=\"sk-toggleable__content\"><pre>StandardScaler()</pre></div></div></div></div></div>"
            ],
            "text/plain": [
              "StandardScaler()"
            ]
          },
          "execution_count": 202,
          "metadata": {},
          "output_type": "execute_result"
        }
      ],
      "source": [
        "from sklearn.model_selection import train_test_split\n",
        "from sklearn.linear_model import Lasso\n",
        "from sklearn.preprocessing import StandardScaler\n",
        "\n",
        "scaler = StandardScaler()\n",
        "scaler.fit(X2)\n"
      ]
    },
    {
      "cell_type": "code",
      "execution_count": null,
      "metadata": {
        "colab": {
          "base_uri": "https://localhost:8080/"
        },
        "id": "XtzpDBtoX2Ii",
        "outputId": "10083b5c-8047-449a-92cb-2237f6ae55cd"
      },
      "outputs": [
        {
          "data": {
            "text/plain": [
              "array([[-0.0316386 , -0.0316386 , -0.0548546 , ...,  0.7257531 ,\n",
              "        -0.32587527, -0.37796447],\n",
              "       [-0.0316386 , -0.0316386 , -0.0548546 , ..., -1.37787907,\n",
              "         3.06865877, -0.37796447],\n",
              "       [-0.0316386 , -0.0316386 , -0.0548546 , ...,  0.7257531 ,\n",
              "        -0.32587527, -0.37796447],\n",
              "       ...,\n",
              "       [-0.0316386 , -0.0316386 , -0.0548546 , ...,  0.7257531 ,\n",
              "        -0.32587527, -0.37796447],\n",
              "       [-0.0316386 , -0.0316386 , -0.0548546 , ...,  0.7257531 ,\n",
              "        -0.32587527, -0.37796447],\n",
              "       [-0.0316386 , -0.0316386 , -0.0548546 , ..., -1.37787907,\n",
              "        -0.32587527,  2.64575131]])"
            ]
          },
          "execution_count": 203,
          "metadata": {},
          "output_type": "execute_result"
        }
      ],
      "source": [
        "X3 = scaler.transform(X2)\n",
        "\n",
        "X3\n"
      ]
    },
    {
      "cell_type": "code",
      "execution_count": null,
      "metadata": {
        "id": "T1G4e4d4XfSI"
      },
      "outputs": [],
      "source": [
        "scaledX_train, scaledX_test, y_train2, y_test2 = train_test_split(X3, y, test_size=0.20) "
      ]
    },
    {
      "cell_type": "markdown",
      "metadata": {
        "id": "-Wbc1lTwoaHn"
      },
      "source": [
        "Lets train the model:"
      ]
    },
    {
      "cell_type": "code",
      "execution_count": 233,
      "metadata": {
        "colab": {
          "base_uri": "https://localhost:8080/",
          "height": 74
        },
        "id": "BrIo1O1bYeUI",
        "outputId": "1d672dc6-8f76-4263-b8ce-7868a7096f1f"
      },
      "outputs": [
        {
          "data": {
            "text/html": [
              "<style>#sk-container-id-14 {color: black;background-color: white;}#sk-container-id-14 pre{padding: 0;}#sk-container-id-14 div.sk-toggleable {background-color: white;}#sk-container-id-14 label.sk-toggleable__label {cursor: pointer;display: block;width: 100%;margin-bottom: 0;padding: 0.3em;box-sizing: border-box;text-align: center;}#sk-container-id-14 label.sk-toggleable__label-arrow:before {content: \"▸\";float: left;margin-right: 0.25em;color: #696969;}#sk-container-id-14 label.sk-toggleable__label-arrow:hover:before {color: black;}#sk-container-id-14 div.sk-estimator:hover label.sk-toggleable__label-arrow:before {color: black;}#sk-container-id-14 div.sk-toggleable__content {max-height: 0;max-width: 0;overflow: hidden;text-align: left;background-color: #f0f8ff;}#sk-container-id-14 div.sk-toggleable__content pre {margin: 0.2em;color: black;border-radius: 0.25em;background-color: #f0f8ff;}#sk-container-id-14 input.sk-toggleable__control:checked~div.sk-toggleable__content {max-height: 200px;max-width: 100%;overflow: auto;}#sk-container-id-14 input.sk-toggleable__control:checked~label.sk-toggleable__label-arrow:before {content: \"▾\";}#sk-container-id-14 div.sk-estimator input.sk-toggleable__control:checked~label.sk-toggleable__label {background-color: #d4ebff;}#sk-container-id-14 div.sk-label input.sk-toggleable__control:checked~label.sk-toggleable__label {background-color: #d4ebff;}#sk-container-id-14 input.sk-hidden--visually {border: 0;clip: rect(1px 1px 1px 1px);clip: rect(1px, 1px, 1px, 1px);height: 1px;margin: -1px;overflow: hidden;padding: 0;position: absolute;width: 1px;}#sk-container-id-14 div.sk-estimator {font-family: monospace;background-color: #f0f8ff;border: 1px dotted black;border-radius: 0.25em;box-sizing: border-box;margin-bottom: 0.5em;}#sk-container-id-14 div.sk-estimator:hover {background-color: #d4ebff;}#sk-container-id-14 div.sk-parallel-item::after {content: \"\";width: 100%;border-bottom: 1px solid gray;flex-grow: 1;}#sk-container-id-14 div.sk-label:hover label.sk-toggleable__label {background-color: #d4ebff;}#sk-container-id-14 div.sk-serial::before {content: \"\";position: absolute;border-left: 1px solid gray;box-sizing: border-box;top: 0;bottom: 0;left: 50%;z-index: 0;}#sk-container-id-14 div.sk-serial {display: flex;flex-direction: column;align-items: center;background-color: white;padding-right: 0.2em;padding-left: 0.2em;position: relative;}#sk-container-id-14 div.sk-item {position: relative;z-index: 1;}#sk-container-id-14 div.sk-parallel {display: flex;align-items: stretch;justify-content: center;background-color: white;position: relative;}#sk-container-id-14 div.sk-item::before, #sk-container-id-14 div.sk-parallel-item::before {content: \"\";position: absolute;border-left: 1px solid gray;box-sizing: border-box;top: 0;bottom: 0;left: 50%;z-index: -1;}#sk-container-id-14 div.sk-parallel-item {display: flex;flex-direction: column;z-index: 1;position: relative;background-color: white;}#sk-container-id-14 div.sk-parallel-item:first-child::after {align-self: flex-end;width: 50%;}#sk-container-id-14 div.sk-parallel-item:last-child::after {align-self: flex-start;width: 50%;}#sk-container-id-14 div.sk-parallel-item:only-child::after {width: 0;}#sk-container-id-14 div.sk-dashed-wrapped {border: 1px dashed gray;margin: 0 0.4em 0.5em 0.4em;box-sizing: border-box;padding-bottom: 0.4em;background-color: white;}#sk-container-id-14 div.sk-label label {font-family: monospace;font-weight: bold;display: inline-block;line-height: 1.2em;}#sk-container-id-14 div.sk-label-container {text-align: center;}#sk-container-id-14 div.sk-container {/* jupyter's `normalize.less` sets `[hidden] { display: none; }` but bootstrap.min.css set `[hidden] { display: none !important; }` so we also need the `!important` here to be able to override the default hidden behavior on the sphinx rendered scikit-learn.org. See: https://github.com/scikit-learn/scikit-learn/issues/21755 */display: inline-block !important;position: relative;}#sk-container-id-14 div.sk-text-repr-fallback {display: none;}</style><div id=\"sk-container-id-14\" class=\"sk-top-container\"><div class=\"sk-text-repr-fallback\"><pre>Lasso(alpha=1)</pre><b>In a Jupyter environment, please rerun this cell to show the HTML representation or trust the notebook. <br />On GitHub, the HTML representation is unable to render, please try loading this page with nbviewer.org.</b></div><div class=\"sk-container\" hidden><div class=\"sk-item\"><div class=\"sk-estimator sk-toggleable\"><input class=\"sk-toggleable__control sk-hidden--visually\" id=\"sk-estimator-id-14\" type=\"checkbox\" checked><label for=\"sk-estimator-id-14\" class=\"sk-toggleable__label sk-toggleable__label-arrow\">Lasso</label><div class=\"sk-toggleable__content\"><pre>Lasso(alpha=1)</pre></div></div></div></div></div>"
            ],
            "text/plain": [
              "Lasso(alpha=1)"
            ]
          },
          "execution_count": 233,
          "metadata": {},
          "output_type": "execute_result"
        }
      ],
      "source": [
        "rlreg = Lasso(alpha=1)\n",
        "rlreg.fit(scaledX_train, y_train)\n"
      ]
    },
    {
      "cell_type": "markdown",
      "metadata": {
        "id": "frp5TCUyoc13"
      },
      "source": [
        "Model predictions:"
      ]
    },
    {
      "cell_type": "code",
      "execution_count": 234,
      "metadata": {
        "colab": {
          "base_uri": "https://localhost:8080/"
        },
        "id": "7cIgExRxY7-k",
        "outputId": "53f32c6c-45db-4d50-e292-7abbe850e598"
      },
      "outputs": [
        {
          "data": {
            "text/plain": [
              "array([1728.79672235, 1717.50183003, 1787.65475955, 1717.50183003,\n",
              "        801.3311198 , 1787.65475955, 1666.66959375, 1918.99382067,\n",
              "       1375.10110142, 1713.47628094, 1787.65475955, 1375.10110142,\n",
              "       1787.65475955, 1666.66959375, 1787.65475955, 1787.65475955,\n",
              "       1717.50183003, 1787.65475955, 1798.94965187, 1787.65475955,\n",
              "       1787.65475955, 1717.50183003, 2779.25430586, 1787.65475955,\n",
              "       1798.94965187, 1798.94965187, 1923.9949671 , 1787.65475955,\n",
              "       1693.66541711,  825.6662031 , 1787.65475955, 1375.10110142,\n",
              "       1798.94965187, 1787.65475955, 1787.65475955, 1666.66959375,\n",
              "       1787.65475955, 1798.94965187, 1787.65475955, 3453.42466778,\n",
              "       1787.65475955, 1787.65475955, 1787.65475955, 1787.65475955,\n",
              "       1085.50928976, 1787.65475955, 1787.65475955, 2081.6023132 ,\n",
              "       1713.47628094, 1787.65475955, 1787.65475955, 1728.79672235,\n",
              "       1787.65475955, 1787.65475955, 1787.65475955, 1592.49111513,\n",
              "       1375.10110142, 1151.45968245, 1798.94965187, 1232.81407356,\n",
              "       1787.65475955, 1787.65475955, 1254.11593561, 1787.65475955,\n",
              "       1677.96448606, 1419.47485915, 1787.65475955, 1375.10110142,\n",
              "       2330.48063864, 1782.68333728, 1787.65475955, 1975.76630358,\n",
              "       1787.65475955, 1375.10110142, 1787.65475955, 1787.65475955,\n",
              "       1787.65475955, 1787.65475955, 1787.65475955, 1787.65475955,\n",
              "       2295.80652359,  708.88340472, 1375.10110142, 1210.31771965,\n",
              "       1717.50183003, 1787.65475955, 1787.65475955, 1717.50183003,\n",
              "       1787.65475955, 1787.65475955, 1787.65475955, 1201.75078388,\n",
              "       1787.65475955, 2225.65359408, 1592.49111513, 1623.5124876 ,\n",
              "       1787.65475955, 1787.65475955, 1666.66959375, 1375.10110142,\n",
              "        794.71727837,  986.20341598, 1798.94965187, 1787.65475955,\n",
              "       1713.47628094, 1717.50183003, 1787.65475955, 1787.65475955,\n",
              "       1470.30709543, 1787.65475955, 1787.65475955, 1666.66959375,\n",
              "       1375.10110142, 1787.65475955, 1787.65475955, 1787.65475955,\n",
              "       1540.46002495, 1713.47628094, 2011.44938368, 1787.65475955,\n",
              "        868.89575698, 1666.66959375, 1798.94965187, 1787.65475955,\n",
              "       1787.65475955, 1717.50183003, 1787.65475955, 1677.21880819,\n",
              "       1677.96448606, 1787.65475955, 1787.65475955, 1375.10110142,\n",
              "       1666.66959375, 3817.85537207, 1787.65475955, 1798.94965187,\n",
              "       1728.79672235, 1666.66959375, 1787.65475955, 1666.66959375,\n",
              "       2032.77522851, 1787.65475955, 1717.50183003, 2779.25430586,\n",
              "       1677.96448606, 1798.94965187, 1787.65475955, 1713.47628094,\n",
              "       1375.10110142, 1787.65475955, 1375.10110142, 1787.65475955,\n",
              "       1787.65475955, 1787.65475955, 1787.65475955, 1787.65475955,\n",
              "       5389.04132255, 1467.94934775, 1254.11593561, 1677.96448606,\n",
              "       1787.65475955, 5389.04132255, 1717.50183003, 1572.68025131,\n",
              "       1304.9481719 , 1883.25286546, 1787.65475955, 1787.65475955,\n",
              "       1377.18794815, 1798.94965187, 1375.10110142, 1787.65475955,\n",
              "       1713.47628094, 1787.65475955, 1717.50183003, 1375.10110142,\n",
              "       1798.94965187, 1787.65475955, 1304.9481719 , 1798.94965187,\n",
              "       1717.50183003, 1717.50183003, 1666.66959375, 1798.94965187,\n",
              "       1787.65475955, 2295.80652359, 1787.65475955, 1787.65475955,\n",
              "       1787.65475955, 1787.65475955, 1803.00980129, 1713.47628094,\n",
              "       2057.21412541, 1798.94965187, 1798.94965187, 1540.46002495,\n",
              "       1693.66541711, 1375.10110142, 1787.65475955, 2466.53540799])"
            ]
          },
          "execution_count": 234,
          "metadata": {},
          "output_type": "execute_result"
        }
      ],
      "source": [
        "y_pred2=rlreg.predict(scaledX_test)\n",
        "\n",
        "y_pred2"
      ]
    },
    {
      "cell_type": "markdown",
      "metadata": {
        "id": "s3q8evFpohJr"
      },
      "source": [
        "Model evaluation:"
      ]
    },
    {
      "cell_type": "code",
      "execution_count": 236,
      "metadata": {
        "colab": {
          "base_uri": "https://localhost:8080/"
        },
        "id": "rVXOp6JWZEQi",
        "outputId": "933e4cdc-c839-4b2d-bae3-7aa0a930da1b"
      },
      "outputs": [
        {
          "name": "stdout",
          "output_type": "stream",
          "text": [
            " R2 score of linear regression:  -0.11595695683677265\n"
          ]
        }
      ],
      "source": [
        "from sklearn.metrics import r2_score \n",
        "\n",
        "\n",
        "print(\" R2 score of linear regression: \", r2_score(y_test, y_pred2))"
      ]
    },
    {
      "cell_type": "code",
      "execution_count": 209,
      "metadata": {
        "colab": {
          "base_uri": "https://localhost:8080/",
          "height": 856
        },
        "id": "5KUJxyHuZpgr",
        "outputId": "7bfd3fc8-a4f9-445f-fae0-79d5c50aaa50"
      },
      "outputs": [
        {
          "data": {
            "image/png": "[encoded data removed]",
            "text/plain": [
              "<Figure size 1000x1000 with 1 Axes>"
            ]
          },
          "metadata": {},
          "output_type": "display_data"
        }
      ],
      "source": [
        "plt.figure(figsize=(10,10))\n",
        "plt.scatter(y_test2, y_pred2 ,c='crimson') \n",
        "p1 = max(max(y_pred2), max(y_test2))\n",
        "p2 = min(min(y_pred2), min(y_test2))\n",
        "plt.plot([p1, p2], [p1, p2], 'b-')\n",
        "plt.xlabel('True Values', fontsize=15)\n",
        "plt.ylabel('Predictions', fontsize=15)\n",
        "plt.axis('equal')\n",
        "plt.show()"
      ]
    },
    {
      "cell_type": "markdown",
      "metadata": {
        "id": "_bHrSm1IqIC8"
      },
      "source": [
        "###Random Forest:\n"
      ]
    },
    {
      "cell_type": "code",
      "execution_count": 217,
      "metadata": {
        "colab": {
          "base_uri": "https://localhost:8080/"
        },
        "id": "u810Pl97qPCz",
        "outputId": "a0c8f09a-70a7-4979-e28e-76323f5e3522"
      },
      "outputs": [
        {
          "data": {
            "text/plain": [
              "array([ 225.53, 1669.21, 1144.85, 1840.78, 2194.78, 1074.14, 1286.64,\n",
              "       1096.8 , 1497.46, 1230.24, 2894.89, 2205.8 ,  177.77,  808.03,\n",
              "       1724.09, 2281.44, 2563.5 , 1279.59, 2598.82, 1016.52, 1114.59,\n",
              "       1207.89, 1678.98, 1216.74, 1349.95,  234.36, 1062.27, 1387.22,\n",
              "       1095.37, 1591.24, 2594.58, 2544.84, 1646.78, 1577.58, 1507.16,\n",
              "       1531.5 , 1116.16, 2193.  ,  983.17, 2770.  ,  169.33, 1068.26,\n",
              "       1145.25, 2757.39, 1265.96,  266.65, 2587.95,  205.57, 1097.68,\n",
              "       1947.85, 1161.91, 2535.37, 1433.62, 1289.82, 2532.03, 2090.4 ,\n",
              "       2377.07, 1143.16, 1570.99, 1536.66, 2281.44, 1556.43,  118.27,\n",
              "       1261.19, 2669.62,  190.23, 3817.42, 1546.08, 1440.99, 1185.15,\n",
              "       1810.85, 2129.36, 1354.06, 2210.86, 1754.75, 1196.92, 3405.28,\n",
              "       1399.81, 2324.94, 2406.38, 1818.54, 1261.7 , 1558.47, 1199.75,\n",
              "       1357.7 , 1157.3 , 2770.  , 1388.45, 2194.78, 1591.24, 3708.76,\n",
              "       2194.78, 1262.88, 1844.02, 1486.59, 1416.06,  989.04, 1048.83,\n",
              "       1351.19,  856.61, 1704.78, 1033.75, 2059.18, 1277.29, 1462.33,\n",
              "       1545.89, 3712.77, 2535.37, 1676.82, 2594.58, 2532.03, 1095.44,\n",
              "        210.13, 1470.17,  169.33, 1115.89, 3051.33, 3405.28, 1360.3 ,\n",
              "       1116.16, 2535.37, 3948.08, 1763.13, 1558.49,  229.17, 1593.81,\n",
              "       1454.03, 1597.23, 2403.44, 1121.34, 1185.45, 1767.52, 1327.95,\n",
              "       4083.42, 2319.19, 3405.28,  233.87, 2066.36, 2271.85, 1095.59,\n",
              "       2194.78, 1286.38, 2894.89, 1272.56, 1433.2 ,  136.2 , 1170.94,\n",
              "       2736.5 , 1176.55, 1187.31, 1458.1 , 2440.07, 1308.69,  896.41,\n",
              "       1282.  ,  449.1 ,  917.67,  218.57,  151.92, 2381.07, 1407.3 ,\n",
              "        989.04, 1468.48, 1887.61, 1992.25, 1829.9 , 1757.93, 2145.53,\n",
              "       1279.26,  299.2 , 2894.89, 1755.68, 1232.27,  154.61, 2364.25,\n",
              "       1098.65, 1653.31, 3038.41, 1274.85, 2819.57, 1033.75, 1447.24,\n",
              "       1300.33, 1757.01,  127.48, 1542.98, 1230.53, 1123.07,  920.37,\n",
              "       2033.09, 1316.3 , 1080.99, 1279.62,  154.61,  888.12, 1028.63,\n",
              "       2194.78,  202.14, 2770.  , 1250.09])"
            ]
          },
          "execution_count": 217,
          "metadata": {},
          "output_type": "execute_result"
        }
      ],
      "source": [
        "from sklearn.ensemble import RandomForestRegressor\n",
        "\n",
        "Rf = RandomForestRegressor()  \n",
        "Rf.fit(X_train, y_train.astype('int'))\n",
        "  \n"
      ]
    },
    {
      "cell_type": "code",
      "execution_count": 222,
      "metadata": {
        "colab": {
          "base_uri": "https://localhost:8080/"
        },
        "id": "T-0H1fbjlnMp",
        "outputId": "99dee4f7-58c3-460f-9db3-15f26d77344a"
      },
      "outputs": [
        {
          "data": {
            "text/plain": [
              "array([1669.21, 1869.37, 2425.66, 2204.81, 1144.85, 5265.41, 2328.47,\n",
              "       2598.82, 1644.13, 1130.64, 1544.26, 3485.74, 2880.55,  768.69,\n",
              "       2517.93, 1794.21, 1108.66, 2336.92, 1354.5 , 1350.48, 1116.16,\n",
              "       1502.14, 1779.4 , 4867.58,  492.74,  127.28, 2661.88, 2390.91,\n",
              "       1810.85, 1635.11,  828.55,  570.24,  858.67, 1923.5 , 1450.85,\n",
              "       1279.62,  992.63,  899.79, 1924.28, 1110.42, 1016.46, 2394.42,\n",
              "       2213.33, 2431.25, 1818.54, 2304.77,  150.35,  662.65, 1757.93,\n",
              "       2885.8 , 2736.5 , 1563.23, 1992.25,  179.68, 1604.76, 2101.85,\n",
              "       2819.57, 1373.62, 1662.28, 2506.27, 4799.54, 5189.74, 1507.02,\n",
              "       4185.52, 1765.43, 1461.38,  362.28, 1086.43, 1293.16, 1473.3 ,\n",
              "       2725.69, 2075.21, 1178.36,  273.12,  609.21,  160.22, 1191.07,\n",
              "       2894.89,  156.46, 3405.28, 3090.97, 1646.78,  239.  , 1016.52,\n",
              "       3784.31, 3850.51, 3847.37, 2166.31,  293.99,  218.57, 2757.39,\n",
              "       2149.78, 1210.05, 2706.86, 1972.49, 1275.71,  225.53, 4504.31,\n",
              "       2695.79, 2669.62, 1372.44, 1115.89,  447.84, 2536.62,  157.21,\n",
              "       1947.85, 2192.48, 1574.05, 3431.76, 2298.27, 1802.07, 1558.47,\n",
              "        699.58, 2770.  , 1708.25, 1354.06, 4115.37,  176.97, 1048.19,\n",
              "       4433.74,  605.7 , 1274.85, 2829.52, 4921.01,  178.42, 2377.07,\n",
              "       3712.77, 1680.83, 1294.35, 3089.35,   84.79, 3941.31, 1567.47,\n",
              "       1098.65, 1652.31, 2432.05, 1837.74, 1459.36, 1281.57, 2223.39,\n",
              "       4083.42, 4496.57, 2272.53, 2574.17, 2059.18, 2198.5 , 4369.77,\n",
              "        336.37,  854.35, 1185.45, 1243.24, 1662.18,  563.27, 1154.36,\n",
              "       1230.24, 2023.41, 3606.15, 1546.08,  963.73, 1250.09,  154.61,\n",
              "       2460.51, 2720.29, 3814.89, 1763.13, 2828.42, 2203.71, 3213.89,\n",
              "       2300.42, 4104.52, 2405.95, 1507.16, 1144.07, 1144.14, 2205.8 ,\n",
              "       1187.71, 2903.1 , 1596.71, 1876.82, 1963.44, 2202.14, 2587.95,\n",
              "       2600.94, 2132.26,  262.1 , 2899.33,  426.04, 4861.64, 1225.28,\n",
              "       2817.32, 2083.88, 1917.47, 3576.91, 1062.27,  980.26, 1273.49,\n",
              "        796.99, 1465.02, 2343.67,  403.63])"
            ]
          },
          "execution_count": 222,
          "metadata": {},
          "output_type": "execute_result"
        }
      ],
      "source": [
        "# performing predictions on the test dataset\n",
        "y_pred3 = Rf.predict(scaledX_test)\n",
        "y_pred3"
      ]
    },
    {
      "cell_type": "code",
      "execution_count": 224,
      "metadata": {
        "colab": {
          "base_uri": "https://localhost:8080/"
        },
        "id": "iF8hOPNalFAJ",
        "outputId": "f85be371-df74-4f4e-c144-80590d9e336b"
      },
      "outputs": [
        {
          "name": "stdout",
          "output_type": "stream",
          "text": [
            " R2 score of random forest:  0.632869622548141\n"
          ]
        }
      ],
      "source": [
        "print(\" R2 score of random forest: \", r2_score(y_test2, y_pred3))"
      ]
    },
    {
      "cell_type": "code",
      "execution_count": 211,
      "metadata": {
        "colab": {
          "base_uri": "https://localhost:8080/"
        },
        "id": "ZuOCueXsVaRk",
        "outputId": "bbed3044-8c0e-43f6-8469-e4b193caaf26"
      },
      "outputs": [
        {
          "data": {
            "text/plain": [
              "4902102.351813367"
            ]
          },
          "execution_count": 211,
          "metadata": {},
          "output_type": "execute_result"
        }
      ],
      "source": [
        "from sklearn.metrics import mean_squared_error # mse will be used for evaluation because it is a continous data\n",
        "\n",
        "mse = mean_squared_error(y_test, y_pred3)\n",
        "\n",
        "mse\n"
      ]
    },
    {
      "cell_type": "code",
      "execution_count": 212,
      "metadata": {
        "colab": {
          "base_uri": "https://localhost:8080/"
        },
        "id": "vs5IoBcVVYgv",
        "outputId": "6a2d39bf-166b-401b-d516-3a63fa906b36"
      },
      "outputs": [
        {
          "data": {
            "text/plain": [
              "2214.0691840620893"
            ]
          },
          "execution_count": 212,
          "metadata": {},
          "output_type": "execute_result"
        }
      ],
      "source": [
        "\n",
        "from math import sqrt\n",
        "\n",
        "rmse = sqrt(mean_squared_error(y_test, y_pred3))\n",
        "\n",
        "rmse"
      ]
    }
  ],
  "metadata": {
    "colab": {
      "provenance": []
    },
    "kernelspec": {
      "display_name": "Python 3",
      "name": "python3"
    },
    "language_info": {
      "name": "python"
    }
  },
  "nbformat": 4,
  "nbformat_minor": 0
}
